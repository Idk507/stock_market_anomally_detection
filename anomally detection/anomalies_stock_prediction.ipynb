{
 "cells": [
  {
   "cell_type": "code",
   "execution_count": 1,
   "metadata": {},
   "outputs": [],
   "source": [
    "\n",
    "\n",
    "from sklearn.preprocessing import StandardScaler\n",
    "from sklearn.model_selection import train_test_split\n",
    "from sklearn.metrics import confusion_matrix, accuracy_score, classification_report\n",
    "from sklearn.ensemble import GradientBoostingClassifier\n",
    "import plotly.graph_objects as go\n",
    "from plotly.subplots import make_subplots\n",
    "import numpy as np\n",
    "import random\n",
    "import pandas as pd\n",
    "from datetime import datetime\n",
    "from sklearn.metrics import accuracy_score, precision_score, recall_score\n",
    "from sklearn.model_selection import train_test_split\n",
    "from tensorflow.keras import layers, losses\n",
    "from tensorflow.keras.models import Model\n",
    "from sklearn.preprocessing import MinMaxScaler\n",
    "import tensorflow as tf\n",
    "import matplotlib.pyplot as plt\n",
    "from keras.layers import Dense, Dropout, LSTM\n",
    "from keras.models import Sequential"
   ]
  },
  {
   "cell_type": "code",
   "execution_count": 2,
   "metadata": {},
   "outputs": [],
   "source": [
    "df = pd.read_csv('automobile_stocks.csv')"
   ]
  },
  {
   "cell_type": "code",
   "execution_count": 3,
   "metadata": {},
   "outputs": [
    {
     "data": {
      "text/html": [
       "<div>\n",
       "<style scoped>\n",
       "    .dataframe tbody tr th:only-of-type {\n",
       "        vertical-align: middle;\n",
       "    }\n",
       "\n",
       "    .dataframe tbody tr th {\n",
       "        vertical-align: top;\n",
       "    }\n",
       "\n",
       "    .dataframe thead th {\n",
       "        text-align: right;\n",
       "    }\n",
       "</style>\n",
       "<table border=\"1\" class=\"dataframe\">\n",
       "  <thead>\n",
       "    <tr style=\"text-align: right;\">\n",
       "      <th></th>\n",
       "      <th>Date</th>\n",
       "      <th>Open</th>\n",
       "      <th>High</th>\n",
       "      <th>Low</th>\n",
       "      <th>Close</th>\n",
       "      <th>Adj Close</th>\n",
       "      <th>Volume</th>\n",
       "      <th>Stock Name</th>\n",
       "    </tr>\n",
       "  </thead>\n",
       "  <tbody>\n",
       "    <tr>\n",
       "      <th>0</th>\n",
       "      <td>2022-10-26</td>\n",
       "      <td>219.399994</td>\n",
       "      <td>230.600006</td>\n",
       "      <td>218.199997</td>\n",
       "      <td>224.639999</td>\n",
       "      <td>224.639999</td>\n",
       "      <td>85012500</td>\n",
       "      <td>TSLA</td>\n",
       "    </tr>\n",
       "    <tr>\n",
       "      <th>1</th>\n",
       "      <td>2022-10-27</td>\n",
       "      <td>229.770004</td>\n",
       "      <td>233.809998</td>\n",
       "      <td>222.850006</td>\n",
       "      <td>225.089996</td>\n",
       "      <td>225.089996</td>\n",
       "      <td>61638800</td>\n",
       "      <td>TSLA</td>\n",
       "    </tr>\n",
       "    <tr>\n",
       "      <th>2</th>\n",
       "      <td>2022-10-28</td>\n",
       "      <td>225.399994</td>\n",
       "      <td>228.860001</td>\n",
       "      <td>216.350006</td>\n",
       "      <td>228.520004</td>\n",
       "      <td>228.520004</td>\n",
       "      <td>69152400</td>\n",
       "      <td>TSLA</td>\n",
       "    </tr>\n",
       "    <tr>\n",
       "      <th>3</th>\n",
       "      <td>2022-10-31</td>\n",
       "      <td>226.190002</td>\n",
       "      <td>229.850006</td>\n",
       "      <td>221.940002</td>\n",
       "      <td>227.539993</td>\n",
       "      <td>227.539993</td>\n",
       "      <td>61554300</td>\n",
       "      <td>TSLA</td>\n",
       "    </tr>\n",
       "    <tr>\n",
       "      <th>4</th>\n",
       "      <td>2022-11-01</td>\n",
       "      <td>234.050003</td>\n",
       "      <td>237.399994</td>\n",
       "      <td>227.279999</td>\n",
       "      <td>227.820007</td>\n",
       "      <td>227.820007</td>\n",
       "      <td>62688800</td>\n",
       "      <td>TSLA</td>\n",
       "    </tr>\n",
       "  </tbody>\n",
       "</table>\n",
       "</div>"
      ],
      "text/plain": [
       "         Date        Open        High         Low       Close   Adj Close  \\\n",
       "0  2022-10-26  219.399994  230.600006  218.199997  224.639999  224.639999   \n",
       "1  2022-10-27  229.770004  233.809998  222.850006  225.089996  225.089996   \n",
       "2  2022-10-28  225.399994  228.860001  216.350006  228.520004  228.520004   \n",
       "3  2022-10-31  226.190002  229.850006  221.940002  227.539993  227.539993   \n",
       "4  2022-11-01  234.050003  237.399994  227.279999  227.820007  227.820007   \n",
       "\n",
       "     Volume Stock Name  \n",
       "0  85012500       TSLA  \n",
       "1  61638800       TSLA  \n",
       "2  69152400       TSLA  \n",
       "3  61554300       TSLA  \n",
       "4  62688800       TSLA  "
      ]
     },
     "execution_count": 3,
     "metadata": {},
     "output_type": "execute_result"
    }
   ],
   "source": [
    "df.head()"
   ]
  },
  {
   "cell_type": "code",
   "execution_count": 4,
   "metadata": {},
   "outputs": [
    {
     "data": {
      "text/plain": [
       "array(['TSLA', 'MSFT', 'NFLX', 'F', 'NIO', 'XPEV'], dtype=object)"
      ]
     },
     "execution_count": 4,
     "metadata": {},
     "output_type": "execute_result"
    }
   ],
   "source": [
    "df['Stock Name'].unique()"
   ]
  },
  {
   "cell_type": "code",
   "execution_count": 5,
   "metadata": {},
   "outputs": [
    {
     "data": {
      "text/plain": [
       "[<matplotlib.lines.Line2D at 0x298454008e0>]"
      ]
     },
     "execution_count": 5,
     "metadata": {},
     "output_type": "execute_result"
    },
    {
     "data": {
      "image/png": "[encoded data removed]",
      "text/plain": [
       "<Figure size 640x480 with 1 Axes>"
      ]
     },
     "metadata": {},
     "output_type": "display_data"
    }
   ],
   "source": [
    "plt.plot(df['Close'],df['Stock Name'])"
   ]
  },
  {
   "cell_type": "code",
   "execution_count": 12,
   "metadata": {},
   "outputs": [],
   "source": [
    "ano_df = pd.DataFrame(df[['Date','Close','Stock Name']])"
   ]
  },
  {
   "cell_type": "code",
   "execution_count": 32,
   "metadata": {},
   "outputs": [
    {
     "data": {
      "text/plain": [
       "Date        Close     \n",
       "2023-10-25  212.419998    2\n",
       "2010-06-29  4.778000      1\n",
       "2021-12-02  329.489990    1\n",
       "2021-12-03  323.010010    1\n",
       "            43.799999     1\n",
       "                         ..\n",
       "2016-09-27  41.161999     1\n",
       "2016-09-26  41.798000     1\n",
       "2016-09-23  41.490002     1\n",
       "2016-09-22  41.285999     1\n",
       "2023-10-27  207.300003    1\n",
       "Name: count, Length: 4722, dtype: int64"
      ]
     },
     "execution_count": 32,
     "metadata": {},
     "output_type": "execute_result"
    }
   ],
   "source": [
    "ano_df.value_counts()"
   ]
  },
  {
   "cell_type": "code",
   "execution_count": 13,
   "metadata": {},
   "outputs": [
    {
     "data": {
      "text/html": [
       "<div>\n",
       "<style scoped>\n",
       "    .dataframe tbody tr th:only-of-type {\n",
       "        vertical-align: middle;\n",
       "    }\n",
       "\n",
       "    .dataframe tbody tr th {\n",
       "        vertical-align: top;\n",
       "    }\n",
       "\n",
       "    .dataframe thead th {\n",
       "        text-align: right;\n",
       "    }\n",
       "</style>\n",
       "<table border=\"1\" class=\"dataframe\">\n",
       "  <thead>\n",
       "    <tr style=\"text-align: right;\">\n",
       "      <th></th>\n",
       "      <th>Date</th>\n",
       "      <th>Close</th>\n",
       "      <th>Stock Name</th>\n",
       "    </tr>\n",
       "  </thead>\n",
       "  <tbody>\n",
       "    <tr>\n",
       "      <th>0</th>\n",
       "      <td>2022-10-26</td>\n",
       "      <td>224.639999</td>\n",
       "      <td>TSLA</td>\n",
       "    </tr>\n",
       "    <tr>\n",
       "      <th>1</th>\n",
       "      <td>2022-10-27</td>\n",
       "      <td>225.089996</td>\n",
       "      <td>TSLA</td>\n",
       "    </tr>\n",
       "    <tr>\n",
       "      <th>2</th>\n",
       "      <td>2022-10-28</td>\n",
       "      <td>228.520004</td>\n",
       "      <td>TSLA</td>\n",
       "    </tr>\n",
       "    <tr>\n",
       "      <th>3</th>\n",
       "      <td>2022-10-31</td>\n",
       "      <td>227.539993</td>\n",
       "      <td>TSLA</td>\n",
       "    </tr>\n",
       "    <tr>\n",
       "      <th>4</th>\n",
       "      <td>2022-11-01</td>\n",
       "      <td>227.820007</td>\n",
       "      <td>TSLA</td>\n",
       "    </tr>\n",
       "    <tr>\n",
       "      <th>...</th>\n",
       "      <td>...</td>\n",
       "      <td>...</td>\n",
       "      <td>...</td>\n",
       "    </tr>\n",
       "    <tr>\n",
       "      <th>4718</th>\n",
       "      <td>2022-03-18</td>\n",
       "      <td>905.390015</td>\n",
       "      <td>TSLA</td>\n",
       "    </tr>\n",
       "    <tr>\n",
       "      <th>4719</th>\n",
       "      <td>2022-03-21</td>\n",
       "      <td>921.159973</td>\n",
       "      <td>TSLA</td>\n",
       "    </tr>\n",
       "    <tr>\n",
       "      <th>4720</th>\n",
       "      <td>2022-03-22</td>\n",
       "      <td>993.979980</td>\n",
       "      <td>TSLA</td>\n",
       "    </tr>\n",
       "    <tr>\n",
       "      <th>4721</th>\n",
       "      <td>2022-03-23</td>\n",
       "      <td>999.109985</td>\n",
       "      <td>TSLA</td>\n",
       "    </tr>\n",
       "    <tr>\n",
       "      <th>4722</th>\n",
       "      <td>2022-03-24</td>\n",
       "      <td>1013.919983</td>\n",
       "      <td>TSLA</td>\n",
       "    </tr>\n",
       "  </tbody>\n",
       "</table>\n",
       "<p>4723 rows × 3 columns</p>\n",
       "</div>"
      ],
      "text/plain": [
       "            Date        Close Stock Name\n",
       "0     2022-10-26   224.639999       TSLA\n",
       "1     2022-10-27   225.089996       TSLA\n",
       "2     2022-10-28   228.520004       TSLA\n",
       "3     2022-10-31   227.539993       TSLA\n",
       "4     2022-11-01   227.820007       TSLA\n",
       "...          ...          ...        ...\n",
       "4718  2022-03-18   905.390015       TSLA\n",
       "4719  2022-03-21   921.159973       TSLA\n",
       "4720  2022-03-22   993.979980       TSLA\n",
       "4721  2022-03-23   999.109985       TSLA\n",
       "4722  2022-03-24  1013.919983       TSLA\n",
       "\n",
       "[4723 rows x 3 columns]"
      ]
     },
     "execution_count": 13,
     "metadata": {},
     "output_type": "execute_result"
    }
   ],
   "source": [
    "ano_df"
   ]
  },
  {
   "cell_type": "code",
   "execution_count": 27,
   "metadata": {},
   "outputs": [
    {
     "data": {
      "text/plain": [
       "(4723, 2)"
      ]
     },
     "execution_count": 27,
     "metadata": {},
     "output_type": "execute_result"
    }
   ],
   "source": [
    "ano_df.shape"
   ]
  },
  {
   "cell_type": "code",
   "execution_count": 14,
   "metadata": {},
   "outputs": [
    {
     "data": {
      "text/html": [
       "<div>\n",
       "<style scoped>\n",
       "    .dataframe tbody tr th:only-of-type {\n",
       "        vertical-align: middle;\n",
       "    }\n",
       "\n",
       "    .dataframe tbody tr th {\n",
       "        vertical-align: top;\n",
       "    }\n",
       "\n",
       "    .dataframe thead th {\n",
       "        text-align: right;\n",
       "    }\n",
       "</style>\n",
       "<table border=\"1\" class=\"dataframe\">\n",
       "  <thead>\n",
       "    <tr style=\"text-align: right;\">\n",
       "      <th></th>\n",
       "      <th>Date</th>\n",
       "      <th>Close</th>\n",
       "    </tr>\n",
       "    <tr>\n",
       "      <th>Stock Name</th>\n",
       "      <th></th>\n",
       "      <th></th>\n",
       "    </tr>\n",
       "  </thead>\n",
       "  <tbody>\n",
       "    <tr>\n",
       "      <th>TSLA</th>\n",
       "      <td>2022-10-26</td>\n",
       "      <td>224.639999</td>\n",
       "    </tr>\n",
       "    <tr>\n",
       "      <th>TSLA</th>\n",
       "      <td>2022-10-27</td>\n",
       "      <td>225.089996</td>\n",
       "    </tr>\n",
       "    <tr>\n",
       "      <th>TSLA</th>\n",
       "      <td>2022-10-28</td>\n",
       "      <td>228.520004</td>\n",
       "    </tr>\n",
       "    <tr>\n",
       "      <th>TSLA</th>\n",
       "      <td>2022-10-31</td>\n",
       "      <td>227.539993</td>\n",
       "    </tr>\n",
       "    <tr>\n",
       "      <th>TSLA</th>\n",
       "      <td>2022-11-01</td>\n",
       "      <td>227.820007</td>\n",
       "    </tr>\n",
       "  </tbody>\n",
       "</table>\n",
       "</div>"
      ],
      "text/plain": [
       "                  Date       Close\n",
       "Stock Name                        \n",
       "TSLA        2022-10-26  224.639999\n",
       "TSLA        2022-10-27  225.089996\n",
       "TSLA        2022-10-28  228.520004\n",
       "TSLA        2022-10-31  227.539993\n",
       "TSLA        2022-11-01  227.820007"
      ]
     },
     "execution_count": 14,
     "metadata": {},
     "output_type": "execute_result"
    }
   ],
   "source": [
    "ano_df.set_index('Stock Name',inplace=True)\n",
    "ano_df.head()"
   ]
  },
  {
   "cell_type": "code",
   "execution_count": 19,
   "metadata": {},
   "outputs": [],
   "source": [
    "ano_df['Date'] = pd.to_datetime(ano_df['Date'])"
   ]
  },
  {
   "cell_type": "code",
   "execution_count": 29,
   "metadata": {},
   "outputs": [
    {
     "data": {
      "text/plain": [
       "(4723, 2)"
      ]
     },
     "execution_count": 29,
     "metadata": {},
     "output_type": "execute_result"
    }
   ],
   "source": [
    "ano_df.shape"
   ]
  },
  {
   "cell_type": "code",
   "execution_count": 15,
   "metadata": {},
   "outputs": [],
   "source": [
    "class AnomalyDetector(Model):\n",
    "  def __init__(self):\n",
    "    super(AnomalyDetector, self).__init__()\n",
    "    self.encoder = tf.keras.Sequential([\n",
    "      layers.Dense(16, activation=\"relu\"),\n",
    "      layers.Dense(8, activation=\"relu\")])\n",
    "\n",
    "    self.decoder = tf.keras.Sequential([\n",
    "      layers.Dense(16, activation=\"relu\"),\n",
    "      layers.Dense(30, activation=\"sigmoid\")])\n",
    "\n",
    "  def call(self, x):\n",
    "    encoded = self.encoder(x)\n",
    "    decoded = self.decoder(encoded)\n",
    "    return decoded\n",
    "\n",
    "autoencoder = AnomalyDetector()"
   ]
  },
  {
   "cell_type": "code",
   "execution_count": 16,
   "metadata": {},
   "outputs": [],
   "source": [
    "autoencoder.compile(optimizer='adam', loss='mae')"
   ]
  },
  {
   "cell_type": "code",
   "execution_count": 17,
   "metadata": {},
   "outputs": [],
   "source": [
    "def normalize_window_roll(data, window_size):\n",
    "    X = []\n",
    "    Y = []\n",
    "    for i in range(0,len(data) - window_size,5):\n",
    "        x_window = data.iloc[i:i+window_size]\n",
    "        \n",
    "        # Normalize the x_window and y_window\n",
    "        scaler = MinMaxScaler()\n",
    "        x_window = scaler.fit_transform(np.array(x_window).reshape(-1, 1))\n",
    "        \n",
    "        X.append(x_window)\n",
    "    X =np.squeeze(np.array(X), axis=2)\n",
    "\n",
    "    return X"
   ]
  },
  {
   "cell_type": "code",
   "execution_count": 21,
   "metadata": {},
   "outputs": [],
   "source": [
    "X= normalize_window_roll(ano_df['Close'],30)"
   ]
  },
  {
   "cell_type": "code",
   "execution_count": 28,
   "metadata": {},
   "outputs": [
    {
     "data": {
      "text/plain": [
       "(939, 30)"
      ]
     },
     "execution_count": 28,
     "metadata": {},
     "output_type": "execute_result"
    }
   ],
   "source": [
    "X.shape"
   ]
  },
  {
   "cell_type": "code",
   "execution_count": 22,
   "metadata": {},
   "outputs": [],
   "source": [
    "train_size = int(0.7*X.shape[0])\n",
    "test_size = int(0.1*X.shape[0])\n",
    "val_size = int(0.2*X.shape[0])\n",
    "\n",
    "X_train = X[:train_size]\n",
    "X_test = X[train_size:train_size+test_size]\n",
    "X_val = X[train_size+test_size:train_size+test_size+val_size]"
   ]
  },
  {
   "cell_type": "code",
   "execution_count": 26,
   "metadata": {},
   "outputs": [
    {
     "data": {
      "text/plain": [
       "((657, 30), (93, 30), (187, 30))"
      ]
     },
     "execution_count": 26,
     "metadata": {},
     "output_type": "execute_result"
    }
   ],
   "source": [
    "\n",
    "X_train.shape,X_test.shape,X_val.shape"
   ]
  },
  {
   "cell_type": "code",
   "execution_count": 23,
   "metadata": {},
   "outputs": [
    {
     "name": "stdout",
     "output_type": "stream",
     "text": [
      "Epoch 1/40\n",
      "42/42 [==============================] - 1s 8ms/step - loss: 0.2498 - val_loss: 0.2418\n",
      "Epoch 2/40\n",
      "42/42 [==============================] - 0s 3ms/step - loss: 0.2353 - val_loss: 0.2199\n",
      "Epoch 3/40\n",
      "42/42 [==============================] - 0s 3ms/step - loss: 0.2107 - val_loss: 0.1869\n",
      "Epoch 4/40\n",
      "42/42 [==============================] - 0s 3ms/step - loss: 0.1849 - val_loss: 0.1653\n",
      "Epoch 5/40\n",
      "42/42 [==============================] - 0s 5ms/step - loss: 0.1674 - val_loss: 0.1521\n",
      "Epoch 6/40\n",
      "42/42 [==============================] - 0s 4ms/step - loss: 0.1562 - val_loss: 0.1415\n",
      "Epoch 7/40\n",
      "42/42 [==============================] - 0s 4ms/step - loss: 0.1494 - val_loss: 0.1371\n",
      "Epoch 8/40\n",
      "42/42 [==============================] - 0s 5ms/step - loss: 0.1458 - val_loss: 0.1345\n",
      "Epoch 9/40\n",
      "42/42 [==============================] - 0s 3ms/step - loss: 0.1436 - val_loss: 0.1331\n",
      "Epoch 10/40\n",
      "42/42 [==============================] - 0s 3ms/step - loss: 0.1421 - val_loss: 0.1319\n",
      "Epoch 11/40\n",
      "42/42 [==============================] - 0s 3ms/step - loss: 0.1410 - val_loss: 0.1307\n",
      "Epoch 12/40\n",
      "42/42 [==============================] - 0s 3ms/step - loss: 0.1397 - val_loss: 0.1296\n",
      "Epoch 13/40\n",
      "42/42 [==============================] - 0s 3ms/step - loss: 0.1384 - val_loss: 0.1285\n",
      "Epoch 14/40\n",
      "42/42 [==============================] - 0s 5ms/step - loss: 0.1370 - val_loss: 0.1275\n",
      "Epoch 15/40\n",
      "42/42 [==============================] - 0s 5ms/step - loss: 0.1356 - val_loss: 0.1258\n",
      "Epoch 16/40\n",
      "42/42 [==============================] - 0s 5ms/step - loss: 0.1335 - val_loss: 0.1238\n",
      "Epoch 17/40\n",
      "42/42 [==============================] - 0s 3ms/step - loss: 0.1317 - val_loss: 0.1221\n",
      "Epoch 18/40\n",
      "42/42 [==============================] - 0s 3ms/step - loss: 0.1297 - val_loss: 0.1191\n",
      "Epoch 19/40\n",
      "42/42 [==============================] - 0s 4ms/step - loss: 0.1270 - val_loss: 0.1172\n",
      "Epoch 20/40\n",
      "42/42 [==============================] - 0s 5ms/step - loss: 0.1247 - val_loss: 0.1151\n",
      "Epoch 21/40\n",
      "42/42 [==============================] - 0s 3ms/step - loss: 0.1225 - val_loss: 0.1133\n",
      "Epoch 22/40\n",
      "42/42 [==============================] - 0s 3ms/step - loss: 0.1205 - val_loss: 0.1116\n",
      "Epoch 23/40\n",
      "42/42 [==============================] - 0s 3ms/step - loss: 0.1191 - val_loss: 0.1098\n",
      "Epoch 24/40\n",
      "42/42 [==============================] - 0s 3ms/step - loss: 0.1171 - val_loss: 0.1094\n",
      "Epoch 25/40\n",
      "42/42 [==============================] - 0s 3ms/step - loss: 0.1159 - val_loss: 0.1065\n",
      "Epoch 26/40\n",
      "42/42 [==============================] - 0s 2ms/step - loss: 0.1140 - val_loss: 0.1059\n",
      "Epoch 27/40\n",
      "42/42 [==============================] - 0s 2ms/step - loss: 0.1129 - val_loss: 0.1048\n",
      "Epoch 28/40\n",
      "42/42 [==============================] - 0s 3ms/step - loss: 0.1118 - val_loss: 0.1047\n",
      "Epoch 29/40\n",
      "42/42 [==============================] - 0s 3ms/step - loss: 0.1110 - val_loss: 0.1043\n",
      "Epoch 30/40\n",
      "42/42 [==============================] - 0s 3ms/step - loss: 0.1104 - val_loss: 0.1025\n",
      "Epoch 31/40\n",
      "42/42 [==============================] - 0s 3ms/step - loss: 0.1096 - val_loss: 0.1022\n",
      "Epoch 32/40\n",
      "42/42 [==============================] - 0s 3ms/step - loss: 0.1089 - val_loss: 0.1012\n",
      "Epoch 33/40\n",
      "42/42 [==============================] - 0s 3ms/step - loss: 0.1083 - val_loss: 0.1007\n",
      "Epoch 34/40\n",
      "42/42 [==============================] - 0s 3ms/step - loss: 0.1079 - val_loss: 0.1013\n",
      "Epoch 35/40\n",
      "42/42 [==============================] - 0s 3ms/step - loss: 0.1075 - val_loss: 0.1003\n",
      "Epoch 36/40\n",
      "42/42 [==============================] - 0s 3ms/step - loss: 0.1069 - val_loss: 0.1001\n",
      "Epoch 37/40\n",
      "42/42 [==============================] - 0s 3ms/step - loss: 0.1065 - val_loss: 0.0998\n",
      "Epoch 38/40\n",
      "42/42 [==============================] - 0s 3ms/step - loss: 0.1064 - val_loss: 0.0989\n",
      "Epoch 39/40\n",
      "42/42 [==============================] - 0s 2ms/step - loss: 0.1059 - val_loss: 0.0988\n",
      "Epoch 40/40\n",
      "42/42 [==============================] - 0s 3ms/step - loss: 0.1055 - val_loss: 0.0984\n"
     ]
    }
   ],
   "source": [
    "early_stopping = tf.keras.callbacks.EarlyStopping(monitor='val_loss',\n",
    "                                                  patience=2,\n",
    "                                                  mode='min')\n",
    "autoencoder.compile(optimizer='adam', loss='mae')\n",
    "\n",
    "history = autoencoder.fit(X_train,X_train, epochs=40,\n",
    "                    validation_data=(X_val, X_val),\n",
    "                    batch_size=16,\n",
    "                    callbacks=[early_stopping])"
   ]
  },
  {
   "cell_type": "code",
   "execution_count": 33,
   "metadata": {},
   "outputs": [
    {
     "name": "stdout",
     "output_type": "stream",
     "text": [
      "21/21 [==============================] - 0s 1ms/step\n"
     ]
    },
    {
     "data": {
      "image/png": "[encoded data removed]",
      "text/plain": [
       "<Figure size 640x480 with 1 Axes>"
      ]
     },
     "metadata": {},
     "output_type": "display_data"
    }
   ],
   "source": [
    "reconstructions = autoencoder.predict(X_train)\n",
    "train_loss = tf.keras.losses.mae(reconstructions, X_train)\n",
    "\n",
    "plt.hist(train_loss[None,:], bins=50)\n",
    "plt.xlabel(\"Train loss\")\n",
    "plt.ylabel(\"No of examples\")\n",
    "plt.show()"
   ]
  },
  {
   "cell_type": "code",
   "execution_count": 34,
   "metadata": {},
   "outputs": [
    {
     "name": "stdout",
     "output_type": "stream",
     "text": [
      "Threshold:  0.13978297650164884\n"
     ]
    }
   ],
   "source": [
    "threshold = np.mean(train_loss) + np.std(train_loss)\n",
    "print(\"Threshold: \", threshold)"
   ]
  },
  {
   "cell_type": "code",
   "execution_count": 35,
   "metadata": {},
   "outputs": [
    {
     "name": "stdout",
     "output_type": "stream",
     "text": [
      "3/3 [==============================] - 0s 2ms/step\n"
     ]
    },
    {
     "data": {
      "image/png": "[encoded data removed]",
      "text/plain": [
       "<Figure size 640x480 with 1 Axes>"
      ]
     },
     "metadata": {},
     "output_type": "display_data"
    }
   ],
   "source": [
    "reconstructions = autoencoder.predict(X_test)\n",
    "test_loss = tf.keras.losses.mae(reconstructions, X_test)\n",
    "\n",
    "plt.hist(test_loss[None, :], bins=50)\n",
    "plt.xlabel(\"Test loss\")\n",
    "plt.ylabel(\"No of examples\")\n",
    "plt.show()"
   ]
  },
  {
   "cell_type": "code",
   "execution_count": 36,
   "metadata": {},
   "outputs": [],
   "source": [
    "def predict(model, data, threshold):\n",
    "  reconstructions = model(data)\n",
    "  loss = tf.keras.losses.mae(reconstructions, data)\n",
    "  return tf.math.less(loss, threshold)\n"
   ]
  },
  {
   "cell_type": "code",
   "execution_count": 37,
   "metadata": {},
   "outputs": [],
   "source": [
    "preds = predict(autoencoder, X_test, threshold)"
   ]
  },
  {
   "cell_type": "code",
   "execution_count": 38,
   "metadata": {},
   "outputs": [],
   "source": [
    "anomalous_test_data = X_test[np.where(preds==False)]"
   ]
  },
  {
   "cell_type": "code",
   "execution_count": 42,
   "metadata": {},
   "outputs": [
    {
     "data": {
      "image/png": "[encoded data removed]",
      "text/plain": [
       "<Figure size 640x480 with 1 Axes>"
      ]
     },
     "metadata": {},
     "output_type": "display_data"
    },
    {
     "data": {
      "image/png": "[encoded data removed]",
      "text/plain": [
       "<Figure size 640x480 with 1 Axes>"
      ]
     },
     "metadata": {},
     "output_type": "display_data"
    }
   ],
   "source": [
    "encoded_data = autoencoder.encoder(anomalous_test_data).numpy()\n",
    "decoded_data = autoencoder.decoder(encoded_data).numpy()\n",
    " \n",
    "for p in [1,10]:\n",
    "  plt.plot(anomalous_test_data[p], 'b')\n",
    "  plt.plot(np.arange(0,X.shape[1]),decoded_data[p], 'r')\n",
    "  plt.fill_between(np.arange(X.shape[1]), decoded_data[p], anomalous_test_data[p], color='lightcoral')\n",
    "  plt.legend(labels=[\"Input\", \"Reconstruction\", \"Error\"])\n",
    "  plt.show()"
   ]
  },
  {
   "cell_type": "code",
   "execution_count": null,
   "metadata": {},
   "outputs": [],
   "source": []
  },
  {
   "cell_type": "code",
   "execution_count": null,
   "metadata": {},
   "outputs": [],
   "source": []
  },
  {
   "cell_type": "code",
   "execution_count": null,
   "metadata": {},
   "outputs": [],
   "source": []
  }
 ],
 "metadata": {
  "kernelspec": {
   "display_name": "my_gpu",
   "language": "python",
   "name": "python3"
  },
  "language_info": {
   "codemirror_mode": {
    "name": "ipython",
    "version": 3
   },
   "file_extension": ".py",
   "mimetype": "text/x-python",
   "name": "python",
   "nbconvert_exporter": "python",
   "pygments_lexer": "ipython3",
   "version": "3.9.18"
  }
 },
 "nbformat": 4,
 "nbformat_minor": 2
}

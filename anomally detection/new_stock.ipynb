{
 "cells": [
  {
   "cell_type": "code",
   "execution_count": 1,
   "metadata": {},
   "outputs": [],
   "source": [
    "import pandas as pd\n",
    "import numpy as np\n",
    "import matplotlib.pyplot as plt\n",
    "from sklearn.ensemble import IsolationForest\n",
    "from sklearn.ensemble import RandomForestRegressor\n",
    "from sklearn.preprocessing import MinMaxScaler\n",
    "from sklearn.metrics import mean_absolute_error, mean_squared_error\n",
    "from tensorflow.keras.models import Sequential\n",
    "from tensorflow.keras.layers import Dense, LSTM, Dropout"
   ]
  },
  {
   "cell_type": "code",
   "execution_count": 2,
   "metadata": {},
   "outputs": [
    {
     "data": {
      "text/html": [
       "<div>\n",
       "<style scoped>\n",
       "    .dataframe tbody tr th:only-of-type {\n",
       "        vertical-align: middle;\n",
       "    }\n",
       "\n",
       "    .dataframe tbody tr th {\n",
       "        vertical-align: top;\n",
       "    }\n",
       "\n",
       "    .dataframe thead th {\n",
       "        text-align: right;\n",
       "    }\n",
       "</style>\n",
       "<table border=\"1\" class=\"dataframe\">\n",
       "  <thead>\n",
       "    <tr style=\"text-align: right;\">\n",
       "      <th></th>\n",
       "      <th>Date</th>\n",
       "      <th>Open</th>\n",
       "      <th>High</th>\n",
       "      <th>Low</th>\n",
       "      <th>Close</th>\n",
       "      <th>Adj Close</th>\n",
       "      <th>Volume</th>\n",
       "      <th>Stock Name</th>\n",
       "      <th>Tweet</th>\n",
       "      <th>Company Name</th>\n",
       "      <th>Tweet Length</th>\n",
       "      <th>Sentiment</th>\n",
       "      <th>Sentiment_score</th>\n",
       "      <th>Z-Score</th>\n",
       "    </tr>\n",
       "  </thead>\n",
       "  <tbody>\n",
       "    <tr>\n",
       "      <th>0</th>\n",
       "      <td>2021-09-30</td>\n",
       "      <td>260.333344</td>\n",
       "      <td>263.043335</td>\n",
       "      <td>258.333344</td>\n",
       "      <td>258.493347</td>\n",
       "      <td>258.493347</td>\n",
       "      <td>53868000</td>\n",
       "      <td>TSLA</td>\n",
       "      <td>#LottoFriday Watchlist: short &amp;amp; sweet\\n\\n$...</td>\n",
       "      <td>Tesla, Inc.</td>\n",
       "      <td>240</td>\n",
       "      <td>Positive</td>\n",
       "      <td>0.8478</td>\n",
       "      <td>1.487776</td>\n",
       "    </tr>\n",
       "    <tr>\n",
       "      <th>1</th>\n",
       "      <td>2021-09-30</td>\n",
       "      <td>260.333344</td>\n",
       "      <td>263.043335</td>\n",
       "      <td>258.333344</td>\n",
       "      <td>258.493347</td>\n",
       "      <td>258.493347</td>\n",
       "      <td>53868000</td>\n",
       "      <td>TSLA</td>\n",
       "      <td>CORRECTION UPDATE\\n\\nUPDATE on Q3 Delivery Est...</td>\n",
       "      <td>Tesla, Inc.</td>\n",
       "      <td>296</td>\n",
       "      <td>Neutral</td>\n",
       "      <td>-0.1531</td>\n",
       "      <td>-0.747275</td>\n",
       "    </tr>\n",
       "    <tr>\n",
       "      <th>2</th>\n",
       "      <td>2021-09-30</td>\n",
       "      <td>260.333344</td>\n",
       "      <td>263.043335</td>\n",
       "      <td>258.333344</td>\n",
       "      <td>258.493347</td>\n",
       "      <td>258.493347</td>\n",
       "      <td>53868000</td>\n",
       "      <td>TSLA</td>\n",
       "      <td>FREE #OPTIONS Ideas 🤯\\n\\nScale out when above ...</td>\n",
       "      <td>Tesla, Inc.</td>\n",
       "      <td>317</td>\n",
       "      <td>Positive</td>\n",
       "      <td>0.9083</td>\n",
       "      <td>1.622875</td>\n",
       "    </tr>\n",
       "    <tr>\n",
       "      <th>3</th>\n",
       "      <td>2021-09-30</td>\n",
       "      <td>260.333344</td>\n",
       "      <td>263.043335</td>\n",
       "      <td>258.333344</td>\n",
       "      <td>258.493347</td>\n",
       "      <td>258.493347</td>\n",
       "      <td>53868000</td>\n",
       "      <td>TSLA</td>\n",
       "      <td>California DMV today issued autonomous vehicle...</td>\n",
       "      <td>Tesla, Inc.</td>\n",
       "      <td>272</td>\n",
       "      <td>Positive</td>\n",
       "      <td>0.0000</td>\n",
       "      <td>-0.405396</td>\n",
       "    </tr>\n",
       "    <tr>\n",
       "      <th>4</th>\n",
       "      <td>2021-09-30</td>\n",
       "      <td>260.333344</td>\n",
       "      <td>263.043335</td>\n",
       "      <td>258.333344</td>\n",
       "      <td>258.493347</td>\n",
       "      <td>258.493347</td>\n",
       "      <td>53868000</td>\n",
       "      <td>TSLA</td>\n",
       "      <td>@chamath Appreciate the clarification @chamath...</td>\n",
       "      <td>Tesla, Inc.</td>\n",
       "      <td>196</td>\n",
       "      <td>Positive</td>\n",
       "      <td>0.4019</td>\n",
       "      <td>0.492063</td>\n",
       "    </tr>\n",
       "    <tr>\n",
       "      <th>...</th>\n",
       "      <td>...</td>\n",
       "      <td>...</td>\n",
       "      <td>...</td>\n",
       "      <td>...</td>\n",
       "      <td>...</td>\n",
       "      <td>...</td>\n",
       "      <td>...</td>\n",
       "      <td>...</td>\n",
       "      <td>...</td>\n",
       "      <td>...</td>\n",
       "      <td>...</td>\n",
       "      <td>...</td>\n",
       "      <td>...</td>\n",
       "      <td>...</td>\n",
       "    </tr>\n",
       "    <tr>\n",
       "      <th>48295</th>\n",
       "      <td>2022-08-30</td>\n",
       "      <td>18.280001</td>\n",
       "      <td>18.600000</td>\n",
       "      <td>17.950001</td>\n",
       "      <td>18.260000</td>\n",
       "      <td>18.260000</td>\n",
       "      <td>14484300</td>\n",
       "      <td>XPEV</td>\n",
       "      <td>3 days before months end, license plate regist...</td>\n",
       "      <td>XPeng Inc.</td>\n",
       "      <td>258</td>\n",
       "      <td>Positive</td>\n",
       "      <td>-0.3182</td>\n",
       "      <td>-1.115950</td>\n",
       "    </tr>\n",
       "    <tr>\n",
       "      <th>48296</th>\n",
       "      <td>2022-09-07</td>\n",
       "      <td>15.750000</td>\n",
       "      <td>16.530001</td>\n",
       "      <td>15.630000</td>\n",
       "      <td>16.000000</td>\n",
       "      <td>16.000000</td>\n",
       "      <td>14641500</td>\n",
       "      <td>XPEV</td>\n",
       "      <td>Insurance registrations: NIO sells 2,882 vehic...</td>\n",
       "      <td>XPeng Inc.</td>\n",
       "      <td>136</td>\n",
       "      <td>Neutral</td>\n",
       "      <td>0.0000</td>\n",
       "      <td>-0.405396</td>\n",
       "    </tr>\n",
       "    <tr>\n",
       "      <th>48297</th>\n",
       "      <td>2022-09-12</td>\n",
       "      <td>16.549999</td>\n",
       "      <td>16.639999</td>\n",
       "      <td>15.980000</td>\n",
       "      <td>16.360001</td>\n",
       "      <td>16.360001</td>\n",
       "      <td>21170100</td>\n",
       "      <td>XPEV</td>\n",
       "      <td>Notice how Chinese stocks rallied when the US ...</td>\n",
       "      <td>XPeng Inc.</td>\n",
       "      <td>259</td>\n",
       "      <td>Positive</td>\n",
       "      <td>0.1680</td>\n",
       "      <td>-0.030245</td>\n",
       "    </tr>\n",
       "    <tr>\n",
       "      <th>48298</th>\n",
       "      <td>2022-09-19</td>\n",
       "      <td>14.300000</td>\n",
       "      <td>15.725000</td>\n",
       "      <td>14.290000</td>\n",
       "      <td>15.640000</td>\n",
       "      <td>15.640000</td>\n",
       "      <td>18193100</td>\n",
       "      <td>XPEV</td>\n",
       "      <td>Analysts are projecting these 10 tech stocks t...</td>\n",
       "      <td>XPeng Inc.</td>\n",
       "      <td>193</td>\n",
       "      <td>Neutral</td>\n",
       "      <td>0.3818</td>\n",
       "      <td>0.447179</td>\n",
       "    </tr>\n",
       "    <tr>\n",
       "      <th>48299</th>\n",
       "      <td>2022-09-26</td>\n",
       "      <td>14.280000</td>\n",
       "      <td>14.830000</td>\n",
       "      <td>14.070000</td>\n",
       "      <td>14.370000</td>\n",
       "      <td>14.370000</td>\n",
       "      <td>27891300</td>\n",
       "      <td>XPEV</td>\n",
       "      <td>$NIO closes ⬇️ 0.28% on a day where $XPEV and ...</td>\n",
       "      <td>XPeng Inc.</td>\n",
       "      <td>222</td>\n",
       "      <td>Negative</td>\n",
       "      <td>0.5859</td>\n",
       "      <td>0.902942</td>\n",
       "    </tr>\n",
       "  </tbody>\n",
       "</table>\n",
       "<p>48300 rows × 14 columns</p>\n",
       "</div>"
      ],
      "text/plain": [
       "             Date        Open        High         Low       Close   Adj Close  \\\n",
       "0      2021-09-30  260.333344  263.043335  258.333344  258.493347  258.493347   \n",
       "1      2021-09-30  260.333344  263.043335  258.333344  258.493347  258.493347   \n",
       "2      2021-09-30  260.333344  263.043335  258.333344  258.493347  258.493347   \n",
       "3      2021-09-30  260.333344  263.043335  258.333344  258.493347  258.493347   \n",
       "4      2021-09-30  260.333344  263.043335  258.333344  258.493347  258.493347   \n",
       "...           ...         ...         ...         ...         ...         ...   \n",
       "48295  2022-08-30   18.280001   18.600000   17.950001   18.260000   18.260000   \n",
       "48296  2022-09-07   15.750000   16.530001   15.630000   16.000000   16.000000   \n",
       "48297  2022-09-12   16.549999   16.639999   15.980000   16.360001   16.360001   \n",
       "48298  2022-09-19   14.300000   15.725000   14.290000   15.640000   15.640000   \n",
       "48299  2022-09-26   14.280000   14.830000   14.070000   14.370000   14.370000   \n",
       "\n",
       "         Volume Stock Name                                              Tweet  \\\n",
       "0      53868000       TSLA  #LottoFriday Watchlist: short &amp; sweet\\n\\n$...   \n",
       "1      53868000       TSLA  CORRECTION UPDATE\\n\\nUPDATE on Q3 Delivery Est...   \n",
       "2      53868000       TSLA  FREE #OPTIONS Ideas 🤯\\n\\nScale out when above ...   \n",
       "3      53868000       TSLA  California DMV today issued autonomous vehicle...   \n",
       "4      53868000       TSLA  @chamath Appreciate the clarification @chamath...   \n",
       "...         ...        ...                                                ...   \n",
       "48295  14484300       XPEV  3 days before months end, license plate regist...   \n",
       "48296  14641500       XPEV  Insurance registrations: NIO sells 2,882 vehic...   \n",
       "48297  21170100       XPEV  Notice how Chinese stocks rallied when the US ...   \n",
       "48298  18193100       XPEV  Analysts are projecting these 10 tech stocks t...   \n",
       "48299  27891300       XPEV  $NIO closes ⬇️ 0.28% on a day where $XPEV and ...   \n",
       "\n",
       "      Company Name  Tweet Length Sentiment  Sentiment_score   Z-Score  \n",
       "0      Tesla, Inc.           240  Positive           0.8478  1.487776  \n",
       "1      Tesla, Inc.           296   Neutral          -0.1531 -0.747275  \n",
       "2      Tesla, Inc.           317  Positive           0.9083  1.622875  \n",
       "3      Tesla, Inc.           272  Positive           0.0000 -0.405396  \n",
       "4      Tesla, Inc.           196  Positive           0.4019  0.492063  \n",
       "...            ...           ...       ...              ...       ...  \n",
       "48295   XPeng Inc.           258  Positive          -0.3182 -1.115950  \n",
       "48296   XPeng Inc.           136   Neutral           0.0000 -0.405396  \n",
       "48297   XPeng Inc.           259  Positive           0.1680 -0.030245  \n",
       "48298   XPeng Inc.           193   Neutral           0.3818  0.447179  \n",
       "48299   XPeng Inc.           222  Negative           0.5859  0.902942  \n",
       "\n",
       "[48300 rows x 14 columns]"
      ]
     },
     "execution_count": 2,
     "metadata": {},
     "output_type": "execute_result"
    }
   ],
   "source": [
    "df = pd.read_csv('./tweet data/merged_df.csv')\n",
    "df"
   ]
  },
  {
   "cell_type": "code",
   "execution_count": 3,
   "metadata": {},
   "outputs": [],
   "source": [
    "\n",
    "unwanted_columns = ['Tweet', 'Company Name', 'Tweet Length']\n",
    "df = df.drop(unwanted_columns, axis=1)"
   ]
  },
  {
   "cell_type": "code",
   "execution_count": 4,
   "metadata": {},
   "outputs": [
    {
     "data": {
      "text/html": [
       "<div>\n",
       "<style scoped>\n",
       "    .dataframe tbody tr th:only-of-type {\n",
       "        vertical-align: middle;\n",
       "    }\n",
       "\n",
       "    .dataframe tbody tr th {\n",
       "        vertical-align: top;\n",
       "    }\n",
       "\n",
       "    .dataframe thead th {\n",
       "        text-align: right;\n",
       "    }\n",
       "</style>\n",
       "<table border=\"1\" class=\"dataframe\">\n",
       "  <thead>\n",
       "    <tr style=\"text-align: right;\">\n",
       "      <th></th>\n",
       "      <th>Date</th>\n",
       "      <th>Open</th>\n",
       "      <th>High</th>\n",
       "      <th>Low</th>\n",
       "      <th>Close</th>\n",
       "      <th>Adj Close</th>\n",
       "      <th>Volume</th>\n",
       "      <th>Stock Name</th>\n",
       "      <th>Sentiment</th>\n",
       "      <th>Sentiment_score</th>\n",
       "      <th>Z-Score</th>\n",
       "    </tr>\n",
       "  </thead>\n",
       "  <tbody>\n",
       "    <tr>\n",
       "      <th>0</th>\n",
       "      <td>2021-09-30</td>\n",
       "      <td>260.333344</td>\n",
       "      <td>263.043335</td>\n",
       "      <td>258.333344</td>\n",
       "      <td>258.493347</td>\n",
       "      <td>258.493347</td>\n",
       "      <td>53868000</td>\n",
       "      <td>TSLA</td>\n",
       "      <td>Positive</td>\n",
       "      <td>0.8478</td>\n",
       "      <td>1.487776</td>\n",
       "    </tr>\n",
       "    <tr>\n",
       "      <th>1</th>\n",
       "      <td>2021-09-30</td>\n",
       "      <td>260.333344</td>\n",
       "      <td>263.043335</td>\n",
       "      <td>258.333344</td>\n",
       "      <td>258.493347</td>\n",
       "      <td>258.493347</td>\n",
       "      <td>53868000</td>\n",
       "      <td>TSLA</td>\n",
       "      <td>Neutral</td>\n",
       "      <td>-0.1531</td>\n",
       "      <td>-0.747275</td>\n",
       "    </tr>\n",
       "    <tr>\n",
       "      <th>2</th>\n",
       "      <td>2021-09-30</td>\n",
       "      <td>260.333344</td>\n",
       "      <td>263.043335</td>\n",
       "      <td>258.333344</td>\n",
       "      <td>258.493347</td>\n",
       "      <td>258.493347</td>\n",
       "      <td>53868000</td>\n",
       "      <td>TSLA</td>\n",
       "      <td>Positive</td>\n",
       "      <td>0.9083</td>\n",
       "      <td>1.622875</td>\n",
       "    </tr>\n",
       "    <tr>\n",
       "      <th>3</th>\n",
       "      <td>2021-09-30</td>\n",
       "      <td>260.333344</td>\n",
       "      <td>263.043335</td>\n",
       "      <td>258.333344</td>\n",
       "      <td>258.493347</td>\n",
       "      <td>258.493347</td>\n",
       "      <td>53868000</td>\n",
       "      <td>TSLA</td>\n",
       "      <td>Positive</td>\n",
       "      <td>0.0000</td>\n",
       "      <td>-0.405396</td>\n",
       "    </tr>\n",
       "    <tr>\n",
       "      <th>4</th>\n",
       "      <td>2021-09-30</td>\n",
       "      <td>260.333344</td>\n",
       "      <td>263.043335</td>\n",
       "      <td>258.333344</td>\n",
       "      <td>258.493347</td>\n",
       "      <td>258.493347</td>\n",
       "      <td>53868000</td>\n",
       "      <td>TSLA</td>\n",
       "      <td>Positive</td>\n",
       "      <td>0.4019</td>\n",
       "      <td>0.492063</td>\n",
       "    </tr>\n",
       "  </tbody>\n",
       "</table>\n",
       "</div>"
      ],
      "text/plain": [
       "         Date        Open        High         Low       Close   Adj Close  \\\n",
       "0  2021-09-30  260.333344  263.043335  258.333344  258.493347  258.493347   \n",
       "1  2021-09-30  260.333344  263.043335  258.333344  258.493347  258.493347   \n",
       "2  2021-09-30  260.333344  263.043335  258.333344  258.493347  258.493347   \n",
       "3  2021-09-30  260.333344  263.043335  258.333344  258.493347  258.493347   \n",
       "4  2021-09-30  260.333344  263.043335  258.333344  258.493347  258.493347   \n",
       "\n",
       "     Volume Stock Name Sentiment  Sentiment_score   Z-Score  \n",
       "0  53868000       TSLA  Positive           0.8478  1.487776  \n",
       "1  53868000       TSLA   Neutral          -0.1531 -0.747275  \n",
       "2  53868000       TSLA  Positive           0.9083  1.622875  \n",
       "3  53868000       TSLA  Positive           0.0000 -0.405396  \n",
       "4  53868000       TSLA  Positive           0.4019  0.492063  "
      ]
     },
     "execution_count": 4,
     "metadata": {},
     "output_type": "execute_result"
    }
   ],
   "source": [
    "df.head()"
   ]
  },
  {
   "cell_type": "code",
   "execution_count": 5,
   "metadata": {},
   "outputs": [],
   "source": [
    "df['Date'] = pd.to_datetime(df['Date'])\n",
    "df['DayOfWeek'] = df['Date'].dt.dayofweek"
   ]
  },
  {
   "cell_type": "code",
   "execution_count": 8,
   "metadata": {},
   "outputs": [
    {
     "data": {
      "text/html": [
       "<div>\n",
       "<style scoped>\n",
       "    .dataframe tbody tr th:only-of-type {\n",
       "        vertical-align: middle;\n",
       "    }\n",
       "\n",
       "    .dataframe tbody tr th {\n",
       "        vertical-align: top;\n",
       "    }\n",
       "\n",
       "    .dataframe thead th {\n",
       "        text-align: right;\n",
       "    }\n",
       "</style>\n",
       "<table border=\"1\" class=\"dataframe\">\n",
       "  <thead>\n",
       "    <tr style=\"text-align: right;\">\n",
       "      <th></th>\n",
       "      <th>Date</th>\n",
       "      <th>Open</th>\n",
       "      <th>High</th>\n",
       "      <th>Low</th>\n",
       "      <th>Close</th>\n",
       "      <th>Adj Close</th>\n",
       "      <th>Volume</th>\n",
       "      <th>Stock Name</th>\n",
       "      <th>Sentiment</th>\n",
       "      <th>Sentiment_score</th>\n",
       "      <th>Z-Score</th>\n",
       "      <th>DayOfWeek</th>\n",
       "      <th>Anomaly</th>\n",
       "    </tr>\n",
       "  </thead>\n",
       "  <tbody>\n",
       "    <tr>\n",
       "      <th>0</th>\n",
       "      <td>2021-09-30</td>\n",
       "      <td>260.333344</td>\n",
       "      <td>263.043335</td>\n",
       "      <td>258.333344</td>\n",
       "      <td>258.493347</td>\n",
       "      <td>258.493347</td>\n",
       "      <td>53868000</td>\n",
       "      <td>TSLA</td>\n",
       "      <td>Positive</td>\n",
       "      <td>0.8478</td>\n",
       "      <td>1.487776</td>\n",
       "      <td>3</td>\n",
       "      <td>1</td>\n",
       "    </tr>\n",
       "    <tr>\n",
       "      <th>1</th>\n",
       "      <td>2021-09-30</td>\n",
       "      <td>260.333344</td>\n",
       "      <td>263.043335</td>\n",
       "      <td>258.333344</td>\n",
       "      <td>258.493347</td>\n",
       "      <td>258.493347</td>\n",
       "      <td>53868000</td>\n",
       "      <td>TSLA</td>\n",
       "      <td>Neutral</td>\n",
       "      <td>-0.1531</td>\n",
       "      <td>-0.747275</td>\n",
       "      <td>3</td>\n",
       "      <td>1</td>\n",
       "    </tr>\n",
       "    <tr>\n",
       "      <th>2</th>\n",
       "      <td>2021-09-30</td>\n",
       "      <td>260.333344</td>\n",
       "      <td>263.043335</td>\n",
       "      <td>258.333344</td>\n",
       "      <td>258.493347</td>\n",
       "      <td>258.493347</td>\n",
       "      <td>53868000</td>\n",
       "      <td>TSLA</td>\n",
       "      <td>Positive</td>\n",
       "      <td>0.9083</td>\n",
       "      <td>1.622875</td>\n",
       "      <td>3</td>\n",
       "      <td>1</td>\n",
       "    </tr>\n",
       "    <tr>\n",
       "      <th>3</th>\n",
       "      <td>2021-09-30</td>\n",
       "      <td>260.333344</td>\n",
       "      <td>263.043335</td>\n",
       "      <td>258.333344</td>\n",
       "      <td>258.493347</td>\n",
       "      <td>258.493347</td>\n",
       "      <td>53868000</td>\n",
       "      <td>TSLA</td>\n",
       "      <td>Positive</td>\n",
       "      <td>0.0000</td>\n",
       "      <td>-0.405396</td>\n",
       "      <td>3</td>\n",
       "      <td>1</td>\n",
       "    </tr>\n",
       "    <tr>\n",
       "      <th>4</th>\n",
       "      <td>2021-09-30</td>\n",
       "      <td>260.333344</td>\n",
       "      <td>263.043335</td>\n",
       "      <td>258.333344</td>\n",
       "      <td>258.493347</td>\n",
       "      <td>258.493347</td>\n",
       "      <td>53868000</td>\n",
       "      <td>TSLA</td>\n",
       "      <td>Positive</td>\n",
       "      <td>0.4019</td>\n",
       "      <td>0.492063</td>\n",
       "      <td>3</td>\n",
       "      <td>1</td>\n",
       "    </tr>\n",
       "  </tbody>\n",
       "</table>\n",
       "</div>"
      ],
      "text/plain": [
       "        Date        Open        High         Low       Close   Adj Close  \\\n",
       "0 2021-09-30  260.333344  263.043335  258.333344  258.493347  258.493347   \n",
       "1 2021-09-30  260.333344  263.043335  258.333344  258.493347  258.493347   \n",
       "2 2021-09-30  260.333344  263.043335  258.333344  258.493347  258.493347   \n",
       "3 2021-09-30  260.333344  263.043335  258.333344  258.493347  258.493347   \n",
       "4 2021-09-30  260.333344  263.043335  258.333344  258.493347  258.493347   \n",
       "\n",
       "     Volume Stock Name Sentiment  Sentiment_score   Z-Score  DayOfWeek  \\\n",
       "0  53868000       TSLA  Positive           0.8478  1.487776          3   \n",
       "1  53868000       TSLA   Neutral          -0.1531 -0.747275          3   \n",
       "2  53868000       TSLA  Positive           0.9083  1.622875          3   \n",
       "3  53868000       TSLA  Positive           0.0000 -0.405396          3   \n",
       "4  53868000       TSLA  Positive           0.4019  0.492063          3   \n",
       "\n",
       "   Anomaly  \n",
       "0        1  \n",
       "1        1  \n",
       "2        1  \n",
       "3        1  \n",
       "4        1  "
      ]
     },
     "execution_count": 8,
     "metadata": {},
     "output_type": "execute_result"
    }
   ],
   "source": [
    "df.head()"
   ]
  },
  {
   "cell_type": "code",
   "execution_count": 7,
   "metadata": {},
   "outputs": [],
   "source": [
    "# Anomaly detection using Isolation Forest\n",
    "def anomaly_detection(data):\n",
    "    model = IsolationForest(contamination=0.05, random_state=42)\n",
    "    model.fit(data[['Close']])\n",
    "    data['Anomaly'] = model.predict(data[['Close']])\n",
    "    return data\n",
    "\n",
    "df = anomaly_detection(df)\n"
   ]
  },
  {
   "cell_type": "code",
   "execution_count": 40,
   "metadata": {},
   "outputs": [],
   "source": [
    "\n",
    "# Feature scaling\n",
    "scaler = MinMaxScaler()\n",
    "scaled_data = scaler.fit_transform(df[['Open', 'High', 'Low', 'Close', 'Volume', 'Sentiment_score', 'Z-Score']])"
   ]
  },
  {
   "cell_type": "code",
   "execution_count": 41,
   "metadata": {},
   "outputs": [],
   "source": [
    "# Split the dataset into train and test sets\n",
    "train_size = int(len(df) * 0.8)\n",
    "train_data, test_data = scaled_data[:train_size], scaled_data[train_size:]"
   ]
  },
  {
   "cell_type": "code",
   "execution_count": 42,
   "metadata": {},
   "outputs": [
    {
     "data": {
      "text/plain": [
       "array([[0.20373686, 0.20426687, 0.20513183, ..., 0.2689412 , 0.92482596,\n",
       "        0.92482596],\n",
       "       [0.20373686, 0.20426687, 0.20513183, ..., 0.2689412 , 0.42354886,\n",
       "        0.42354886],\n",
       "       [0.20373686, 0.20426687, 0.20513183, ..., 0.2689412 , 0.95512596,\n",
       "        0.95512596],\n",
       "       ...,\n",
       "       [0.18315607, 0.18515904, 0.1799094 , ..., 0.50596486, 0.50022537,\n",
       "        0.50022537],\n",
       "       [0.18315607, 0.18515904, 0.1799094 , ..., 0.50596486, 0.68983823,\n",
       "        0.68983823],\n",
       "       [0.18315607, 0.18515904, 0.1799094 , ..., 0.50596486, 0.50022537,\n",
       "        0.50022537]])"
      ]
     },
     "execution_count": 42,
     "metadata": {},
     "output_type": "execute_result"
    }
   ],
   "source": [
    "train_data"
   ]
  },
  {
   "cell_type": "code",
   "execution_count": null,
   "metadata": {},
   "outputs": [],
   "source": []
  },
  {
   "cell_type": "code",
   "execution_count": 43,
   "metadata": {},
   "outputs": [],
   "source": [
    "# Function to create sequences for time series forecasting\n",
    "def create_sequences(data, seq_length):\n",
    "    X, y = [], []\n",
    "    for i in range(len(data) - seq_length):\n",
    "        X.append(data[i:i+seq_length, :])\n",
    "        y.append(data[i+seq_length, 3])  # Assuming 'Close' is the target variable\n",
    "    return np.array(X), np.array(y)"
   ]
  },
  {
   "cell_type": "code",
   "execution_count": null,
   "metadata": {},
   "outputs": [],
   "source": []
  },
  {
   "cell_type": "code",
   "execution_count": 44,
   "metadata": {},
   "outputs": [],
   "source": [
    "\n",
    "\n",
    "# Create sequences for LSTM model\n",
    "seq_length = 10 \n",
    "X_train, y_train = create_sequences(train_data, seq_length)\n",
    "X_test, y_test = create_sequences(test_data, seq_length)"
   ]
  },
  {
   "cell_type": "code",
   "execution_count": 45,
   "metadata": {},
   "outputs": [
    {
     "data": {
      "text/plain": [
       "((38630, 10, 7), (38630,), (9650, 10, 7), (9650,))"
      ]
     },
     "execution_count": 45,
     "metadata": {},
     "output_type": "execute_result"
    }
   ],
   "source": [
    "X_train.shape, y_train.shape, X_test.shape, y_test.shape"
   ]
  },
  {
   "cell_type": "code",
   "execution_count": 37,
   "metadata": {},
   "outputs": [
    {
     "data": {
      "text/plain": [
       "array([[0.2029598],\n",
       "       [0.2029598],\n",
       "       [0.2029598],\n",
       "       [0.2029598],\n",
       "       [0.2029598],\n",
       "       [0.2029598],\n",
       "       [0.2029598],\n",
       "       [0.2029598],\n",
       "       [0.2029598],\n",
       "       [0.2029598]])"
      ]
     },
     "execution_count": 37,
     "metadata": {},
     "output_type": "execute_result"
    }
   ],
   "source": [
    "X_train[0]"
   ]
  },
  {
   "cell_type": "code",
   "execution_count": 38,
   "metadata": {},
   "outputs": [
    {
     "data": {
      "text/plain": [
       "array([0.2029598])"
      ]
     },
     "execution_count": 38,
     "metadata": {},
     "output_type": "execute_result"
    }
   ],
   "source": [
    "y_train[0]"
   ]
  },
  {
   "cell_type": "code",
   "execution_count": 14,
   "metadata": {},
   "outputs": [],
   "source": [
    "\n",
    "# Build the LSTM model\n",
    "model_lstm = Sequential()\n",
    "model_lstm.add(LSTM(units=50, activation='relu', return_sequences=True, input_shape=(X_train.shape[1], X_train.shape[2])))\n",
    "model_lstm.add(LSTM(units=50, activation='relu', return_sequences=True))\n",
    "model_lstm.add(LSTM(units=50, activation='relu'))\n",
    "model_lstm.add(Dense(units=1))  # Output layer"
   ]
  },
  {
   "cell_type": "code",
   "execution_count": 15,
   "metadata": {},
   "outputs": [
    {
     "name": "stdout",
     "output_type": "stream",
     "text": [
      "Epoch 1/10\n",
      "1208/1208 [==============================] - 30s 16ms/step - loss: 0.0070\n",
      "Epoch 2/10\n",
      "1208/1208 [==============================] - 18s 15ms/step - loss: 0.0022\n",
      "Epoch 3/10\n",
      "1208/1208 [==============================] - 18s 15ms/step - loss: 0.0021\n",
      "Epoch 4/10\n",
      "1208/1208 [==============================] - 17s 14ms/step - loss: 0.0020\n",
      "Epoch 5/10\n",
      "1208/1208 [==============================] - 17s 14ms/step - loss: 0.0021\n",
      "Epoch 6/10\n",
      "1208/1208 [==============================] - 18s 15ms/step - loss: 0.0020\n",
      "Epoch 7/10\n",
      "1208/1208 [==============================] - 17s 14ms/step - loss: 0.0020\n",
      "Epoch 8/10\n",
      "1208/1208 [==============================] - 18s 15ms/step - loss: 0.0020\n",
      "Epoch 9/10\n",
      "1208/1208 [==============================] - 18s 14ms/step - loss: 0.0020\n",
      "Epoch 10/10\n",
      "1208/1208 [==============================] - 17s 14ms/step - loss: 0.0020\n"
     ]
    },
    {
     "data": {
      "text/plain": [
       "<keras.src.callbacks.History at 0x1a4cb035340>"
      ]
     },
     "execution_count": 15,
     "metadata": {},
     "output_type": "execute_result"
    }
   ],
   "source": [
    "\n",
    "\n",
    "model_lstm.compile(optimizer='adam', loss='mean_squared_error')\n",
    "model_lstm.fit(X_train, y_train, epochs=10, batch_size=32)"
   ]
  },
  {
   "cell_type": "code",
   "execution_count": 16,
   "metadata": {},
   "outputs": [],
   "source": [
    "import pickle\n",
    "filename = 'lstm_model.sav'\n",
    "pickle.dump(model_lstm, open(filename, 'wb'))"
   ]
  },
  {
   "cell_type": "code",
   "execution_count": 17,
   "metadata": {},
   "outputs": [
    {
     "data": {
      "text/html": [
       "<style>#sk-container-id-1 {color: black;}#sk-container-id-1 pre{padding: 0;}#sk-container-id-1 div.sk-toggleable {background-color: white;}#sk-container-id-1 label.sk-toggleable__label {cursor: pointer;display: block;width: 100%;margin-bottom: 0;padding: 0.3em;box-sizing: border-box;text-align: center;}#sk-container-id-1 label.sk-toggleable__label-arrow:before {content: \"▸\";float: left;margin-right: 0.25em;color: #696969;}#sk-container-id-1 label.sk-toggleable__label-arrow:hover:before {color: black;}#sk-container-id-1 div.sk-estimator:hover label.sk-toggleable__label-arrow:before {color: black;}#sk-container-id-1 div.sk-toggleable__content {max-height: 0;max-width: 0;overflow: hidden;text-align: left;background-color: #f0f8ff;}#sk-container-id-1 div.sk-toggleable__content pre {margin: 0.2em;color: black;border-radius: 0.25em;background-color: #f0f8ff;}#sk-container-id-1 input.sk-toggleable__control:checked~div.sk-toggleable__content {max-height: 200px;max-width: 100%;overflow: auto;}#sk-container-id-1 input.sk-toggleable__control:checked~label.sk-toggleable__label-arrow:before {content: \"▾\";}#sk-container-id-1 div.sk-estimator input.sk-toggleable__control:checked~label.sk-toggleable__label {background-color: #d4ebff;}#sk-container-id-1 div.sk-label input.sk-toggleable__control:checked~label.sk-toggleable__label {background-color: #d4ebff;}#sk-container-id-1 input.sk-hidden--visually {border: 0;clip: rect(1px 1px 1px 1px);clip: rect(1px, 1px, 1px, 1px);height: 1px;margin: -1px;overflow: hidden;padding: 0;position: absolute;width: 1px;}#sk-container-id-1 div.sk-estimator {font-family: monospace;background-color: #f0f8ff;border: 1px dotted black;border-radius: 0.25em;box-sizing: border-box;margin-bottom: 0.5em;}#sk-container-id-1 div.sk-estimator:hover {background-color: #d4ebff;}#sk-container-id-1 div.sk-parallel-item::after {content: \"\";width: 100%;border-bottom: 1px solid gray;flex-grow: 1;}#sk-container-id-1 div.sk-label:hover label.sk-toggleable__label {background-color: #d4ebff;}#sk-container-id-1 div.sk-serial::before {content: \"\";position: absolute;border-left: 1px solid gray;box-sizing: border-box;top: 0;bottom: 0;left: 50%;z-index: 0;}#sk-container-id-1 div.sk-serial {display: flex;flex-direction: column;align-items: center;background-color: white;padding-right: 0.2em;padding-left: 0.2em;position: relative;}#sk-container-id-1 div.sk-item {position: relative;z-index: 1;}#sk-container-id-1 div.sk-parallel {display: flex;align-items: stretch;justify-content: center;background-color: white;position: relative;}#sk-container-id-1 div.sk-item::before, #sk-container-id-1 div.sk-parallel-item::before {content: \"\";position: absolute;border-left: 1px solid gray;box-sizing: border-box;top: 0;bottom: 0;left: 50%;z-index: -1;}#sk-container-id-1 div.sk-parallel-item {display: flex;flex-direction: column;z-index: 1;position: relative;background-color: white;}#sk-container-id-1 div.sk-parallel-item:first-child::after {align-self: flex-end;width: 50%;}#sk-container-id-1 div.sk-parallel-item:last-child::after {align-self: flex-start;width: 50%;}#sk-container-id-1 div.sk-parallel-item:only-child::after {width: 0;}#sk-container-id-1 div.sk-dashed-wrapped {border: 1px dashed gray;margin: 0 0.4em 0.5em 0.4em;box-sizing: border-box;padding-bottom: 0.4em;background-color: white;}#sk-container-id-1 div.sk-label label {font-family: monospace;font-weight: bold;display: inline-block;line-height: 1.2em;}#sk-container-id-1 div.sk-label-container {text-align: center;}#sk-container-id-1 div.sk-container {/* jupyter's `normalize.less` sets `[hidden] { display: none; }` but bootstrap.min.css set `[hidden] { display: none !important; }` so we also need the `!important` here to be able to override the default hidden behavior on the sphinx rendered scikit-learn.org. See: https://github.com/scikit-learn/scikit-learn/issues/21755 */display: inline-block !important;position: relative;}#sk-container-id-1 div.sk-text-repr-fallback {display: none;}</style><div id=\"sk-container-id-1\" class=\"sk-top-container\"><div class=\"sk-text-repr-fallback\"><pre>RandomForestRegressor(random_state=42)</pre><b>In a Jupyter environment, please rerun this cell to show the HTML representation or trust the notebook. <br />On GitHub, the HTML representation is unable to render, please try loading this page with nbviewer.org.</b></div><div class=\"sk-container\" hidden><div class=\"sk-item\"><div class=\"sk-estimator sk-toggleable\"><input class=\"sk-toggleable__control sk-hidden--visually\" id=\"sk-estimator-id-1\" type=\"checkbox\" checked><label for=\"sk-estimator-id-1\" class=\"sk-toggleable__label sk-toggleable__label-arrow\">RandomForestRegressor</label><div class=\"sk-toggleable__content\"><pre>RandomForestRegressor(random_state=42)</pre></div></div></div></div></div>"
      ],
      "text/plain": [
       "RandomForestRegressor(random_state=42)"
      ]
     },
     "execution_count": 17,
     "metadata": {},
     "output_type": "execute_result"
    }
   ],
   "source": [
    "\n",
    "# Build the Random Forest model\n",
    "model_rf = RandomForestRegressor(n_estimators=100, random_state=42)\n",
    "model_rf.fit(X_train.reshape(X_train.shape[0], -1), y_train)\n"
   ]
  },
  {
   "cell_type": "code",
   "execution_count": 18,
   "metadata": {},
   "outputs": [],
   "source": [
    "pickle.dump(model_rf, open('rf_model.sav', 'wb'))"
   ]
  },
  {
   "cell_type": "code",
   "execution_count": 23,
   "metadata": {},
   "outputs": [
    {
     "data": {
      "text/plain": [
       "(9650, 10, 7)"
      ]
     },
     "execution_count": 23,
     "metadata": {},
     "output_type": "execute_result"
    }
   ],
   "source": [
    "X_test.shape"
   ]
  },
  {
   "cell_type": "code",
   "execution_count": 46,
   "metadata": {},
   "outputs": [
    {
     "ename": "ValueError",
     "evalue": "Found array with dim 3. RandomForestRegressor expected <= 2.",
     "output_type": "error",
     "traceback": [
      "\u001b[1;31m---------------------------------------------------------------------------\u001b[0m",
      "\u001b[1;31mValueError\u001b[0m                                Traceback (most recent call last)",
      "\u001b[1;32mc:\\Users\\danus\\OneDrive\\Documents\\stock_market_anomally\\anomally detection\\new_stock.ipynb Cell 24\u001b[0m line \u001b[0;36m1\n\u001b[0;32m     <a href='vscode-notebook-cell:/c%3A/Users/danus/OneDrive/Documents/stock_market_anomally/anomally%20detection/new_stock.ipynb#X35sZmlsZQ%3D%3D?line=15'>16</a>\u001b[0m     \u001b[39mreturn\u001b[39;00m mae, mse\n\u001b[0;32m     <a href='vscode-notebook-cell:/c%3A/Users/danus/OneDrive/Documents/stock_market_anomally/anomally%20detection/new_stock.ipynb#X35sZmlsZQ%3D%3D?line=17'>18</a>\u001b[0m \u001b[39m#mae_lstm, mse_lstm = evaluate_model(model_lstm, X_test, y_test, scaler)\u001b[39;00m\n\u001b[1;32m---> <a href='vscode-notebook-cell:/c%3A/Users/danus/OneDrive/Documents/stock_market_anomally/anomally%20detection/new_stock.ipynb#X35sZmlsZQ%3D%3D?line=18'>19</a>\u001b[0m mae_rf, mse_rf \u001b[39m=\u001b[39m evaluate_model(model_rf, X_test, y_test, scaler)\n",
      "\u001b[1;32mc:\\Users\\danus\\OneDrive\\Documents\\stock_market_anomally\\anomally detection\\new_stock.ipynb Cell 24\u001b[0m line \u001b[0;36m3\n\u001b[0;32m      <a href='vscode-notebook-cell:/c%3A/Users/danus/OneDrive/Documents/stock_market_anomally/anomally%20detection/new_stock.ipynb#X35sZmlsZQ%3D%3D?line=0'>1</a>\u001b[0m \u001b[39mdef\u001b[39;00m \u001b[39mevaluate_model\u001b[39m(model, X, y, scaler):\n\u001b[0;32m      <a href='vscode-notebook-cell:/c%3A/Users/danus/OneDrive/Documents/stock_market_anomally/anomally%20detection/new_stock.ipynb#X35sZmlsZQ%3D%3D?line=1'>2</a>\u001b[0m     \u001b[39m# Assuming X has shape (batch_size, time_steps, features)\u001b[39;00m\n\u001b[1;32m----> <a href='vscode-notebook-cell:/c%3A/Users/danus/OneDrive/Documents/stock_market_anomally/anomally%20detection/new_stock.ipynb#X35sZmlsZQ%3D%3D?line=2'>3</a>\u001b[0m     y_pred \u001b[39m=\u001b[39m model\u001b[39m.\u001b[39;49mpredict(X)\n\u001b[0;32m      <a href='vscode-notebook-cell:/c%3A/Users/danus/OneDrive/Documents/stock_market_anomally/anomally%20detection/new_stock.ipynb#X35sZmlsZQ%3D%3D?line=4'>5</a>\u001b[0m     \u001b[39m# Inverse transform the scaled values to original scale\u001b[39;00m\n\u001b[0;32m      <a href='vscode-notebook-cell:/c%3A/Users/danus/OneDrive/Documents/stock_market_anomally/anomally%20detection/new_stock.ipynb#X35sZmlsZQ%3D%3D?line=5'>6</a>\u001b[0m     \u001b[39m#y_true = scaler.inverse_transform(y)  # No need to reshape\u001b[39;00m\n\u001b[0;32m      <a href='vscode-notebook-cell:/c%3A/Users/danus/OneDrive/Documents/stock_market_anomally/anomally%20detection/new_stock.ipynb#X35sZmlsZQ%3D%3D?line=6'>7</a>\u001b[0m     \u001b[39m#y_pred_actual = scaler.inverse_transform(y_pred)  # No need to reshape\u001b[39;00m\n\u001b[0;32m      <a href='vscode-notebook-cell:/c%3A/Users/danus/OneDrive/Documents/stock_market_anomally/anomally%20detection/new_stock.ipynb#X35sZmlsZQ%3D%3D?line=7'>8</a>\u001b[0m     y_true \u001b[39m=\u001b[39m scaler\u001b[39m.\u001b[39minverse_transform(y\u001b[39m.\u001b[39mreshape(\u001b[39m-\u001b[39m\u001b[39m1\u001b[39m, \u001b[39m1\u001b[39m))\n",
      "File \u001b[1;32mc:\\Users\\danus\\miniconda3\\envs\\my_gpu\\lib\\site-packages\\sklearn\\ensemble\\_forest.py:984\u001b[0m, in \u001b[0;36mForestRegressor.predict\u001b[1;34m(self, X)\u001b[0m\n\u001b[0;32m    982\u001b[0m check_is_fitted(\u001b[39mself\u001b[39m)\n\u001b[0;32m    983\u001b[0m \u001b[39m# Check data\u001b[39;00m\n\u001b[1;32m--> 984\u001b[0m X \u001b[39m=\u001b[39m \u001b[39mself\u001b[39;49m\u001b[39m.\u001b[39;49m_validate_X_predict(X)\n\u001b[0;32m    986\u001b[0m \u001b[39m# Assign chunk of trees to jobs\u001b[39;00m\n\u001b[0;32m    987\u001b[0m n_jobs, _, _ \u001b[39m=\u001b[39m _partition_estimators(\u001b[39mself\u001b[39m\u001b[39m.\u001b[39mn_estimators, \u001b[39mself\u001b[39m\u001b[39m.\u001b[39mn_jobs)\n",
      "File \u001b[1;32mc:\\Users\\danus\\miniconda3\\envs\\my_gpu\\lib\\site-packages\\sklearn\\ensemble\\_forest.py:599\u001b[0m, in \u001b[0;36mBaseForest._validate_X_predict\u001b[1;34m(self, X)\u001b[0m\n\u001b[0;32m    596\u001b[0m \u001b[39m\u001b[39m\u001b[39m\"\"\"\u001b[39;00m\n\u001b[0;32m    597\u001b[0m \u001b[39mValidate X whenever one tries to predict, apply, predict_proba.\"\"\"\u001b[39;00m\n\u001b[0;32m    598\u001b[0m check_is_fitted(\u001b[39mself\u001b[39m)\n\u001b[1;32m--> 599\u001b[0m X \u001b[39m=\u001b[39m \u001b[39mself\u001b[39;49m\u001b[39m.\u001b[39;49m_validate_data(X, dtype\u001b[39m=\u001b[39;49mDTYPE, accept_sparse\u001b[39m=\u001b[39;49m\u001b[39m\"\u001b[39;49m\u001b[39mcsr\u001b[39;49m\u001b[39m\"\u001b[39;49m, reset\u001b[39m=\u001b[39;49m\u001b[39mFalse\u001b[39;49;00m)\n\u001b[0;32m    600\u001b[0m \u001b[39mif\u001b[39;00m issparse(X) \u001b[39mand\u001b[39;00m (X\u001b[39m.\u001b[39mindices\u001b[39m.\u001b[39mdtype \u001b[39m!=\u001b[39m np\u001b[39m.\u001b[39mintc \u001b[39mor\u001b[39;00m X\u001b[39m.\u001b[39mindptr\u001b[39m.\u001b[39mdtype \u001b[39m!=\u001b[39m np\u001b[39m.\u001b[39mintc):\n\u001b[0;32m    601\u001b[0m     \u001b[39mraise\u001b[39;00m \u001b[39mValueError\u001b[39;00m(\u001b[39m\"\u001b[39m\u001b[39mNo support for np.int64 index based sparse matrices\u001b[39m\u001b[39m\"\u001b[39m)\n",
      "File \u001b[1;32mc:\\Users\\danus\\miniconda3\\envs\\my_gpu\\lib\\site-packages\\sklearn\\base.py:605\u001b[0m, in \u001b[0;36mBaseEstimator._validate_data\u001b[1;34m(self, X, y, reset, validate_separately, cast_to_ndarray, **check_params)\u001b[0m\n\u001b[0;32m    603\u001b[0m         out \u001b[39m=\u001b[39m X, y\n\u001b[0;32m    604\u001b[0m \u001b[39melif\u001b[39;00m \u001b[39mnot\u001b[39;00m no_val_X \u001b[39mand\u001b[39;00m no_val_y:\n\u001b[1;32m--> 605\u001b[0m     out \u001b[39m=\u001b[39m check_array(X, input_name\u001b[39m=\u001b[39m\u001b[39m\"\u001b[39m\u001b[39mX\u001b[39m\u001b[39m\"\u001b[39m, \u001b[39m*\u001b[39m\u001b[39m*\u001b[39mcheck_params)\n\u001b[0;32m    606\u001b[0m \u001b[39melif\u001b[39;00m no_val_X \u001b[39mand\u001b[39;00m \u001b[39mnot\u001b[39;00m no_val_y:\n\u001b[0;32m    607\u001b[0m     out \u001b[39m=\u001b[39m _check_y(y, \u001b[39m*\u001b[39m\u001b[39m*\u001b[39mcheck_params)\n",
      "File \u001b[1;32mc:\\Users\\danus\\miniconda3\\envs\\my_gpu\\lib\\site-packages\\sklearn\\utils\\validation.py:951\u001b[0m, in \u001b[0;36mcheck_array\u001b[1;34m(array, accept_sparse, accept_large_sparse, dtype, order, copy, force_all_finite, ensure_2d, allow_nd, ensure_min_samples, ensure_min_features, estimator, input_name)\u001b[0m\n\u001b[0;32m    946\u001b[0m     \u001b[39mraise\u001b[39;00m \u001b[39mValueError\u001b[39;00m(\n\u001b[0;32m    947\u001b[0m         \u001b[39m\"\u001b[39m\u001b[39mdtype=\u001b[39m\u001b[39m'\u001b[39m\u001b[39mnumeric\u001b[39m\u001b[39m'\u001b[39m\u001b[39m is not compatible with arrays of bytes/strings.\u001b[39m\u001b[39m\"\u001b[39m\n\u001b[0;32m    948\u001b[0m         \u001b[39m\"\u001b[39m\u001b[39mConvert your data to numeric values explicitly instead.\u001b[39m\u001b[39m\"\u001b[39m\n\u001b[0;32m    949\u001b[0m     )\n\u001b[0;32m    950\u001b[0m \u001b[39mif\u001b[39;00m \u001b[39mnot\u001b[39;00m allow_nd \u001b[39mand\u001b[39;00m array\u001b[39m.\u001b[39mndim \u001b[39m>\u001b[39m\u001b[39m=\u001b[39m \u001b[39m3\u001b[39m:\n\u001b[1;32m--> 951\u001b[0m     \u001b[39mraise\u001b[39;00m \u001b[39mValueError\u001b[39;00m(\n\u001b[0;32m    952\u001b[0m         \u001b[39m\"\u001b[39m\u001b[39mFound array with dim \u001b[39m\u001b[39m%d\u001b[39;00m\u001b[39m. \u001b[39m\u001b[39m%s\u001b[39;00m\u001b[39m expected <= 2.\u001b[39m\u001b[39m\"\u001b[39m\n\u001b[0;32m    953\u001b[0m         \u001b[39m%\u001b[39m (array\u001b[39m.\u001b[39mndim, estimator_name)\n\u001b[0;32m    954\u001b[0m     )\n\u001b[0;32m    956\u001b[0m \u001b[39mif\u001b[39;00m force_all_finite:\n\u001b[0;32m    957\u001b[0m     _assert_all_finite(\n\u001b[0;32m    958\u001b[0m         array,\n\u001b[0;32m    959\u001b[0m         input_name\u001b[39m=\u001b[39minput_name,\n\u001b[0;32m    960\u001b[0m         estimator_name\u001b[39m=\u001b[39mestimator_name,\n\u001b[0;32m    961\u001b[0m         allow_nan\u001b[39m=\u001b[39mforce_all_finite \u001b[39m==\u001b[39m \u001b[39m\"\u001b[39m\u001b[39mallow-nan\u001b[39m\u001b[39m\"\u001b[39m,\n\u001b[0;32m    962\u001b[0m     )\n",
      "\u001b[1;31mValueError\u001b[0m: Found array with dim 3. RandomForestRegressor expected <= 2."
     ]
    }
   ],
   "source": [
    "def evaluate_model(model, X, y, scaler):\n",
    "    # Assuming X has shape (batch_size, time_steps, features)\n",
    "    y_pred = model.predict(X)\n",
    "    \n",
    "    # Inverse transform the scaled values to original scale\n",
    "    #y_true = scaler.inverse_transform(y)  # No need to reshape\n",
    "    #y_pred_actual = scaler.inverse_transform(y_pred)  # No need to reshape\n",
    "    y_true = scaler.inverse_transform(y.reshape(-1, 1))\n",
    "    y_pred_actual = scaler.inverse_transform(y_pred.reshape(-1, 1))\n",
    "\n",
    "\n",
    "    \n",
    "    mae = mean_absolute_error(y_true, y_pred_actual)\n",
    "    mse = mean_squared_error(y_true, y_pred_actual)\n",
    "    \n",
    "    return mae, mse\n",
    "\n",
    "#mae_lstm, mse_lstm = evaluate_model(model_lstm, X_test, y_test, scaler)\n",
    "mae_rf, mse_rf = evaluate_model(model_rf, X_test, y_test, scaler)\n"
   ]
  },
  {
   "cell_type": "code",
   "execution_count": null,
   "metadata": {},
   "outputs": [],
   "source": [
    "# Print accuracy metrics\n",
    "print(f\"LSTM Model - MAE: {mae_lstm}, MSE: {mse_lstm}\")\n",
    "print(f\"Random Forest Model - MAE: {mae_rf}, MSE: {mse_rf}\")\n"
   ]
  },
  {
   "cell_type": "code",
   "execution_count": 48,
   "metadata": {},
   "outputs": [
    {
     "name": "stdout",
     "output_type": "stream",
     "text": [
      "1/1 [==============================] - 0s 48ms/step\n"
     ]
    },
    {
     "ename": "IndexError",
     "evalue": "index 8 is out of bounds for axis 1 with size 7",
     "output_type": "error",
     "traceback": [
      "\u001b[1;31m---------------------------------------------------------------------------\u001b[0m",
      "\u001b[1;31mIndexError\u001b[0m                                Traceback (most recent call last)",
      "\u001b[1;32mc:\\Users\\danus\\OneDrive\\Documents\\stock_market_anomally\\anomally detection\\new_stock.ipynb Cell 26\u001b[0m line \u001b[0;36m1\n\u001b[0;32m     <a href='vscode-notebook-cell:/c%3A/Users/danus/OneDrive/Documents/stock_market_anomally/anomally%20detection/new_stock.ipynb#X40sZmlsZQ%3D%3D?line=15'>16</a>\u001b[0m     \u001b[39m# Update the extended_data with the predicted values\u001b[39;00m\n\u001b[0;32m     <a href='vscode-notebook-cell:/c%3A/Users/danus/OneDrive/Documents/stock_market_anomally/anomally%20detection/new_stock.ipynb#X40sZmlsZQ%3D%3D?line=16'>17</a>\u001b[0m     extended_data[i\u001b[39m+\u001b[39mseq_length, \u001b[39m3\u001b[39m] \u001b[39m=\u001b[39m lstm_prediction\n\u001b[1;32m---> <a href='vscode-notebook-cell:/c%3A/Users/danus/OneDrive/Documents/stock_market_anomally/anomally%20detection/new_stock.ipynb#X40sZmlsZQ%3D%3D?line=17'>18</a>\u001b[0m     extended_data[i\u001b[39m+\u001b[39;49mseq_length, \u001b[39m8\u001b[39;49m] \u001b[39m=\u001b[39m rf_prediction\n\u001b[0;32m     <a href='vscode-notebook-cell:/c%3A/Users/danus/OneDrive/Documents/stock_market_anomally/anomally%20detection/new_stock.ipynb#X40sZmlsZQ%3D%3D?line=18'>19</a>\u001b[0m     extended_data[i\u001b[39m+\u001b[39mseq_length, \u001b[39m9\u001b[39m] \u001b[39m=\u001b[39m ann_prediction\n\u001b[0;32m     <a href='vscode-notebook-cell:/c%3A/Users/danus/OneDrive/Documents/stock_market_anomally/anomally%20detection/new_stock.ipynb#X40sZmlsZQ%3D%3D?line=20'>21</a>\u001b[0m \u001b[39m# Inverse transform the data to the original scale\u001b[39;00m\n",
      "\u001b[1;31mIndexError\u001b[0m: index 8 is out of bounds for axis 1 with size 7"
     ]
    }
   ],
   "source": [
    "\n",
    "\n",
    "# Visualize the forecast for the next 30 days\n",
    "\n",
    "extended_data = np.concatenate((scaled_data[-seq_length:], np.zeros((30, scaled_data.shape[1]))))\n",
    "for i in range(30):\n",
    "    # Predict the next day using the last seq_length days\n",
    "    input_data = np.expand_dims(extended_data[i:i+seq_length, :], axis=0)\n",
    "    \n",
    "    # Use the LSTM model for prediction\n",
    "    lstm_prediction = model_lstm.predict(input_data)\n",
    "    \n",
    "    # Use the Random Forest model for prediction\n",
    "    rf_prediction = model_rf.predict(input_data.reshape(1, -1))\n",
    "    \n",
    "  \n",
    "    \n",
    "    # Update the extended_data with the predicted values\n",
    "    extended_data[i+seq_length, 3] = lstm_prediction\n",
    "    extended_data[i+seq_length, 8] = rf_prediction\n",
    "    extended_data[i+seq_length, 9] = ann_prediction\n",
    "\n",
    "# Inverse transform the data to the original scale\n",
    "forecast = scaler.inverse_transform(extended_data[:, 3].reshape(-1, 1))"
   ]
  },
  {
   "cell_type": "code",
   "execution_count": null,
   "metadata": {},
   "outputs": [],
   "source": []
  },
  {
   "cell_type": "code",
   "execution_count": null,
   "metadata": {},
   "outputs": [],
   "source": []
  },
  {
   "cell_type": "code",
   "execution_count": null,
   "metadata": {},
   "outputs": [],
   "source": []
  },
  {
   "cell_type": "code",
   "execution_count": null,
   "metadata": {},
   "outputs": [],
   "source": [
    "\n",
    "\n",
    "# Plotting the forecast\n",
    "plt.figure(figsize=(12, 6))\n",
    "plt.plot(df['Date'], df['Close'], label='Historical Data', color='blue')\n",
    "plt.plot(df['Date'].iloc[-1] + pd.to_timedelta(np.arange(30), 'D'), forecast, label='Forecast', color='red', linestyle='--')\n",
    "plt.scatter(df[df['Anomaly'] == -1]['Date'], df[df['Anomaly'] == -1]['Close'], color='black', label='Anomalies')\n",
    "plt.legend()\n",
    "plt.title('Model Forecasting for the Next 30 Days')\n",
    "plt.xlabel('Date')\n",
    "plt.ylabel('Close Price')\n",
    "plt.show()\n"
   ]
  },
  {
   "cell_type": "code",
   "execution_count": null,
   "metadata": {},
   "outputs": [],
   "source": []
  },
  {
   "cell_type": "code",
   "execution_count": null,
   "metadata": {},
   "outputs": [],
   "source": []
  },
  {
   "cell_type": "code",
   "execution_count": null,
   "metadata": {},
   "outputs": [],
   "source": []
  },
  {
   "cell_type": "code",
   "execution_count": null,
   "metadata": {},
   "outputs": [],
   "source": []
  },
  {
   "cell_type": "code",
   "execution_count": null,
   "metadata": {},
   "outputs": [],
   "source": []
  },
  {
   "cell_type": "code",
   "execution_count": null,
   "metadata": {},
   "outputs": [],
   "source": []
  },
  {
   "cell_type": "code",
   "execution_count": null,
   "metadata": {},
   "outputs": [],
   "source": []
  },
  {
   "cell_type": "code",
   "execution_count": null,
   "metadata": {},
   "outputs": [],
   "source": []
  },
  {
   "cell_type": "code",
   "execution_count": null,
   "metadata": {},
   "outputs": [],
   "source": []
  }
 ],
 "metadata": {
  "kernelspec": {
   "display_name": "my_gpu",
   "language": "python",
   "name": "python3"
  },
  "language_info": {
   "codemirror_mode": {
    "name": "ipython",
    "version": 3
   },
   "file_extension": ".py",
   "mimetype": "text/x-python",
   "name": "python",
   "nbconvert_exporter": "python",
   "pygments_lexer": "ipython3",
   "version": "3.9.18"
  }
 },
 "nbformat": 4,
 "nbformat_minor": 2
}

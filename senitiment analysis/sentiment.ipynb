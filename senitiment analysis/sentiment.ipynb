{
 "cells": [
  {
   "cell_type": "code",
   "execution_count": 28,
   "metadata": {},
   "outputs": [],
   "source": [
    "import nltk \n",
    "import pandas as pd \n",
    "from vaderSentiment.vaderSentiment import SentimentIntensityAnalyzer\n",
    "import os\n",
    "import numpy as np\n",
    "import csv\n",
    "import pandas as pd\n",
    "import matplotlib.pyplot as plt\n",
    "from matplotlib.dates import DateFormatter\n",
    "import math\n",
    "import time\n",
    "import tensorflow as tf\n",
    "from tensorflow.keras.layers import GRU, LSTM, Bidirectional, Dense, Flatten, Conv1D, BatchNormalization, LeakyReLU, Dropout\n",
    "from tensorflow.keras import Sequential\n",
    "\n",
    "from pickle import load\n",
    "from sklearn.metrics import mean_squared_error\n",
    "from tqdm import tqdm\n",
    "import statsmodels.api as sm\n",
    "from math import sqrt\n",
    "from datetime import datetime, timedelta\n",
    "from sklearn.preprocessing import MinMaxScaler\n",
    "from pickle import dump\n",
    "\n",
    "from nltk.sentiment.vader import SentimentIntensityAnalyzer\n",
    "import unicodedata\n",
    "\n",
    "import warnings\n",
    "warnings.filterwarnings(\"ignore\")\n",
    "\n",
    "import unicodedata\n",
    "from vaderSentiment.vaderSentiment import SentimentIntensityAnalyzer"
   ]
  },
  {
   "cell_type": "code",
   "execution_count": 2,
   "metadata": {},
   "outputs": [
    {
     "name": "stderr",
     "output_type": "stream",
     "text": [
      "[nltk_data] Downloading package vader_lexicon to\n",
      "[nltk_data]     C:\\Users\\danus\\AppData\\Roaming\\nltk_data...\n",
      "[nltk_data]   Package vader_lexicon is already up-to-date!\n"
     ]
    },
    {
     "data": {
      "text/plain": [
       "True"
      ]
     },
     "execution_count": 2,
     "metadata": {},
     "output_type": "execute_result"
    }
   ],
   "source": [
    "import nltk\n",
    "nltk.download('vader_lexicon')"
   ]
  },
  {
   "cell_type": "code",
   "execution_count": null,
   "metadata": {},
   "outputs": [],
   "source": []
  },
  {
   "cell_type": "code",
   "execution_count": 8,
   "metadata": {},
   "outputs": [],
   "source": [
    "df = pd.read_excel('./tweet data/stock_tweets_selected_automobile.xlsx')"
   ]
  },
  {
   "cell_type": "code",
   "execution_count": 9,
   "metadata": {},
   "outputs": [
    {
     "data": {
      "text/html": [
       "<div>\n",
       "<style scoped>\n",
       "    .dataframe tbody tr th:only-of-type {\n",
       "        vertical-align: middle;\n",
       "    }\n",
       "\n",
       "    .dataframe tbody tr th {\n",
       "        vertical-align: top;\n",
       "    }\n",
       "\n",
       "    .dataframe thead th {\n",
       "        text-align: right;\n",
       "    }\n",
       "</style>\n",
       "<table border=\"1\" class=\"dataframe\">\n",
       "  <thead>\n",
       "    <tr style=\"text-align: right;\">\n",
       "      <th></th>\n",
       "      <th>Date</th>\n",
       "      <th>Tweet</th>\n",
       "      <th>Stock Name</th>\n",
       "      <th>Company Name</th>\n",
       "    </tr>\n",
       "  </thead>\n",
       "  <tbody>\n",
       "    <tr>\n",
       "      <th>0</th>\n",
       "      <td>2022-09-29 23:41:16+00:00</td>\n",
       "      <td>Mainstream media has done an amazing job at br...</td>\n",
       "      <td>TSLA</td>\n",
       "      <td>Tesla, Inc.</td>\n",
       "    </tr>\n",
       "    <tr>\n",
       "      <th>1</th>\n",
       "      <td>2022-09-29 23:24:43+00:00</td>\n",
       "      <td>Tesla delivery estimates are at around 364k fr...</td>\n",
       "      <td>TSLA</td>\n",
       "      <td>Tesla, Inc.</td>\n",
       "    </tr>\n",
       "    <tr>\n",
       "      <th>2</th>\n",
       "      <td>2022-09-29 23:18:08+00:00</td>\n",
       "      <td>3/ Even if I include 63.0M unvested RSUs as of...</td>\n",
       "      <td>TSLA</td>\n",
       "      <td>Tesla, Inc.</td>\n",
       "    </tr>\n",
       "    <tr>\n",
       "      <th>3</th>\n",
       "      <td>2022-09-29 22:40:07+00:00</td>\n",
       "      <td>@RealDanODowd @WholeMarsBlog @Tesla Hahaha why...</td>\n",
       "      <td>TSLA</td>\n",
       "      <td>Tesla, Inc.</td>\n",
       "    </tr>\n",
       "    <tr>\n",
       "      <th>4</th>\n",
       "      <td>2022-09-29 22:27:05+00:00</td>\n",
       "      <td>@RealDanODowd @Tesla Stop trying to kill kids,...</td>\n",
       "      <td>TSLA</td>\n",
       "      <td>Tesla, Inc.</td>\n",
       "    </tr>\n",
       "  </tbody>\n",
       "</table>\n",
       "</div>"
      ],
      "text/plain": [
       "                        Date  \\\n",
       "0  2022-09-29 23:41:16+00:00   \n",
       "1  2022-09-29 23:24:43+00:00   \n",
       "2  2022-09-29 23:18:08+00:00   \n",
       "3  2022-09-29 22:40:07+00:00   \n",
       "4  2022-09-29 22:27:05+00:00   \n",
       "\n",
       "                                               Tweet Stock Name Company Name  \n",
       "0  Mainstream media has done an amazing job at br...       TSLA  Tesla, Inc.  \n",
       "1  Tesla delivery estimates are at around 364k fr...       TSLA  Tesla, Inc.  \n",
       "2  3/ Even if I include 63.0M unvested RSUs as of...       TSLA  Tesla, Inc.  \n",
       "3  @RealDanODowd @WholeMarsBlog @Tesla Hahaha why...       TSLA  Tesla, Inc.  \n",
       "4  @RealDanODowd @Tesla Stop trying to kill kids,...       TSLA  Tesla, Inc.  "
      ]
     },
     "execution_count": 9,
     "metadata": {},
     "output_type": "execute_result"
    }
   ],
   "source": [
    "df.head()"
   ]
  },
  {
   "cell_type": "code",
   "execution_count": 10,
   "metadata": {},
   "outputs": [
    {
     "name": "stdout",
     "output_type": "stream",
     "text": [
      "<class 'pandas.core.frame.DataFrame'>\n",
      "RangeIndex: 40699 entries, 0 to 40698\n",
      "Data columns (total 4 columns):\n",
      " #   Column        Non-Null Count  Dtype \n",
      "---  ------        --------------  ----- \n",
      " 0   Date          40699 non-null  object\n",
      " 1   Tweet         40699 non-null  object\n",
      " 2   Stock Name    40699 non-null  object\n",
      " 3   Company Name  40699 non-null  object\n",
      "dtypes: object(4)\n",
      "memory usage: 1.2+ MB\n"
     ]
    }
   ],
   "source": [
    "df.info()"
   ]
  },
  {
   "cell_type": "code",
   "execution_count": 11,
   "metadata": {},
   "outputs": [
    {
     "data": {
      "text/html": [
       "<div>\n",
       "<style scoped>\n",
       "    .dataframe tbody tr th:only-of-type {\n",
       "        vertical-align: middle;\n",
       "    }\n",
       "\n",
       "    .dataframe tbody tr th {\n",
       "        vertical-align: top;\n",
       "    }\n",
       "\n",
       "    .dataframe thead th {\n",
       "        text-align: right;\n",
       "    }\n",
       "</style>\n",
       "<table border=\"1\" class=\"dataframe\">\n",
       "  <thead>\n",
       "    <tr style=\"text-align: right;\">\n",
       "      <th></th>\n",
       "      <th>Date</th>\n",
       "      <th>Tweet</th>\n",
       "      <th>Stock Name</th>\n",
       "      <th>Company Name</th>\n",
       "    </tr>\n",
       "  </thead>\n",
       "  <tbody>\n",
       "    <tr>\n",
       "      <th>count</th>\n",
       "      <td>40699</td>\n",
       "      <td>40699</td>\n",
       "      <td>40699</td>\n",
       "      <td>40699</td>\n",
       "    </tr>\n",
       "    <tr>\n",
       "      <th>unique</th>\n",
       "      <td>40132</td>\n",
       "      <td>40135</td>\n",
       "      <td>4</td>\n",
       "      <td>4</td>\n",
       "    </tr>\n",
       "    <tr>\n",
       "      <th>top</th>\n",
       "      <td>2021-11-11 01:54:37+00:00</td>\n",
       "      <td>$TSLA will triple in 2022 🚀🌕</td>\n",
       "      <td>TSLA</td>\n",
       "      <td>Tesla, Inc.</td>\n",
       "    </tr>\n",
       "    <tr>\n",
       "      <th>freq</th>\n",
       "      <td>3</td>\n",
       "      <td>25</td>\n",
       "      <td>37422</td>\n",
       "      <td>37422</td>\n",
       "    </tr>\n",
       "  </tbody>\n",
       "</table>\n",
       "</div>"
      ],
      "text/plain": [
       "                             Date                         Tweet Stock Name  \\\n",
       "count                       40699                         40699      40699   \n",
       "unique                      40132                         40135          4   \n",
       "top     2021-11-11 01:54:37+00:00  $TSLA will triple in 2022 🚀🌕       TSLA   \n",
       "freq                            3                            25      37422   \n",
       "\n",
       "       Company Name  \n",
       "count         40699  \n",
       "unique            4  \n",
       "top     Tesla, Inc.  \n",
       "freq          37422  "
      ]
     },
     "execution_count": 11,
     "metadata": {},
     "output_type": "execute_result"
    }
   ],
   "source": [
    "df.describe()"
   ]
  },
  {
   "cell_type": "code",
   "execution_count": 12,
   "metadata": {},
   "outputs": [
    {
     "data": {
      "text/plain": [
       "Stock Name\n",
       "TSLA    37422\n",
       "NIO      3021\n",
       "XPEV      225\n",
       "F          31\n",
       "Name: count, dtype: int64"
      ]
     },
     "execution_count": 12,
     "metadata": {},
     "output_type": "execute_result"
    }
   ],
   "source": [
    "df['Stock Name'].value_counts()"
   ]
  },
  {
   "cell_type": "code",
   "execution_count": 13,
   "metadata": {},
   "outputs": [
    {
     "data": {
      "text/plain": [
       "<Axes: xlabel='Stock Name'>"
      ]
     },
     "execution_count": 13,
     "metadata": {},
     "output_type": "execute_result"
    },
    {
     "data": {
      "image/png": "[encoded data removed]",
      "text/plain": [
       "<Figure size 640x480 with 1 Axes>"
      ]
     },
     "metadata": {},
     "output_type": "display_data"
    }
   ],
   "source": [
    "df['Stock Name'].value_counts().plot(kind='bar')"
   ]
  },
  {
   "cell_type": "code",
   "execution_count": 17,
   "metadata": {},
   "outputs": [
    {
     "data": {
      "text/plain": [
       "Company Name\n",
       "Tesla, Inc.           37422\n",
       "NIO Inc.               3021\n",
       "XPeng Inc.              225\n",
       "Ford Motor Company       31\n",
       "Name: count, dtype: int64"
      ]
     },
     "execution_count": 17,
     "metadata": {},
     "output_type": "execute_result"
    }
   ],
   "source": [
    "df['Company Name'].value_counts()"
   ]
  },
  {
   "cell_type": "code",
   "execution_count": 30,
   "metadata": {},
   "outputs": [],
   "source": [
    "analyzer = SentimentIntensityAnalyzer()"
   ]
  },
  {
   "cell_type": "code",
   "execution_count": 31,
   "metadata": {},
   "outputs": [
    {
     "name": "stdout",
     "output_type": "stream",
     "text": [
      "Sentiment Analysis Results:\n",
      "                            Date  \\\n",
      "0      2022-09-29 23:41:16+00:00   \n",
      "1      2022-09-29 23:24:43+00:00   \n",
      "2      2022-09-29 23:18:08+00:00   \n",
      "3      2022-09-29 22:40:07+00:00   \n",
      "4      2022-09-29 22:27:05+00:00   \n",
      "...                          ...   \n",
      "40694  2021-10-07 17:11:57+00:00   \n",
      "40695  2021-10-04 17:05:59+00:00   \n",
      "40696  2021-10-01 04:43:41+00:00   \n",
      "40697  2021-10-01 00:03:32+00:00   \n",
      "40698  2021-09-30 10:22:52+00:00   \n",
      "\n",
      "                                                   Tweet Stock Name  \\\n",
      "0      Mainstream media has done an amazing job at br...       TSLA   \n",
      "1      Tesla delivery estimates are at around 364k fr...       TSLA   \n",
      "2      3/ Even if I include 63.0M unvested RSUs as of...       TSLA   \n",
      "3      @RealDanODowd @WholeMarsBlog @Tesla Hahaha why...       TSLA   \n",
      "4      @RealDanODowd @Tesla Stop trying to kill kids,...       TSLA   \n",
      "...                                                  ...        ...   \n",
      "40694  Some of the fastest growing tech stocks on the...       XPEV   \n",
      "40695  With earnings on the horizon, here is a quick ...       XPEV   \n",
      "40696  Our record delivery results are a testimony of...       XPEV   \n",
      "40697  We delivered 10,412 Smart EVs in Sep 2021, rea...       XPEV   \n",
      "40698  Why can XPeng P5 deliver outstanding performan...       XPEV   \n",
      "\n",
      "      Company Name  Sentiment   Z-Score  \n",
      "0      Tesla, Inc.     0.0772 -0.233006  \n",
      "1      Tesla, Inc.     0.0000 -0.405396  \n",
      "2      Tesla, Inc.     0.2960  0.255584  \n",
      "3      Tesla, Inc.    -0.7568 -2.095361  \n",
      "4      Tesla, Inc.    -0.8750 -2.359307  \n",
      "...            ...        ...       ...  \n",
      "40694   XPeng Inc.     0.1779 -0.008138  \n",
      "40695   XPeng Inc.     0.3818  0.447179  \n",
      "40696   XPeng Inc.     0.4215  0.535830  \n",
      "40697   XPeng Inc.     0.5423  0.805582  \n",
      "40698   XPeng Inc.     0.7783  1.332579  \n",
      "\n",
      "[40699 rows x 6 columns]\n",
      "\n",
      "Anomalies:\n",
      "                            Date  \\\n",
      "3      2022-09-29 22:40:07+00:00   \n",
      "4      2022-09-29 22:27:05+00:00   \n",
      "6      2022-09-29 22:24:22+00:00   \n",
      "9      2022-09-29 22:15:01+00:00   \n",
      "12     2022-09-29 21:11:30+00:00   \n",
      "...                          ...   \n",
      "40404  2021-10-07 16:35:26+00:00   \n",
      "40452  2021-10-01 11:33:08+00:00   \n",
      "40481  2022-08-25 01:53:36+00:00   \n",
      "40509  2022-05-10 08:08:04+00:00   \n",
      "40572  2022-01-04 11:22:53+00:00   \n",
      "\n",
      "                                                   Tweet Stock Name  \\\n",
      "3      @RealDanODowd @WholeMarsBlog @Tesla Hahaha why...       TSLA   \n",
      "4      @RealDanODowd @Tesla Stop trying to kill kids,...       TSLA   \n",
      "6      For years @WholeMarsBlog viciously silenced @T...       TSLA   \n",
      "9      @MrJames__321 @KellyRoofing @TeslaSolar @elonm...       TSLA   \n",
      "12     $TSLAQ: Tesla’s dead in Europe! Everyone else ...       TSLA   \n",
      "...                                                  ...        ...   \n",
      "40404  $NIO here we freaking go people the misery nee...        NIO   \n",
      "40452  If you completely sold out of $NIO it may not ...        NIO   \n",
      "40481  Worst performing large cap stocks so far in 20...       XPEV   \n",
      "40509  🚨 $TSLA April shipments only 10,757 (-87% MoM)...       XPEV   \n",
      "40572  $NIO's revenue per car is near 2x $XPEV's and ...       XPEV   \n",
      "\n",
      "      Company Name  Sentiment   Z-Score  \n",
      "3      Tesla, Inc.    -0.7568 -2.095361  \n",
      "4      Tesla, Inc.    -0.8750 -2.359307  \n",
      "6      Tesla, Inc.    -0.9359 -2.495299  \n",
      "9      Tesla, Inc.    -0.8625 -2.331394  \n",
      "12     Tesla, Inc.    -0.7332 -2.042662  \n",
      "...            ...        ...       ...  \n",
      "40404     NIO Inc.    -0.7777 -2.142032  \n",
      "40452     NIO Inc.    -0.8086 -2.211033  \n",
      "40481   XPeng Inc.    -0.7184 -2.009613  \n",
      "40509   XPeng Inc.    -0.7419 -2.062089  \n",
      "40572   XPeng Inc.    -0.8481 -2.299238  \n",
      "\n",
      "[1372 rows x 6 columns]\n"
     ]
    }
   ],
   "source": [
    "df['Sentiment'] = df['Tweet'].apply(lambda text: analyzer.polarity_scores(text)['compound'])\n",
    "\n",
    "\n",
    "mean_sentiment = df['Sentiment'].mean()\n",
    "std_sentiment = df['Sentiment'].std()\n",
    "df['Z-Score'] = (df['Sentiment'] - mean_sentiment) / std_sentiment\n",
    "\n",
    "\n",
    "threshold = 2.0\n",
    "\n",
    "anomalies = df[df['Z-Score'].abs() > threshold]\n",
    "\n",
    "print(\"Sentiment Analysis Results:\")\n",
    "print(df)\n",
    "\n",
    "print(\"\\nAnomalies:\")\n",
    "print(anomalies)"
   ]
  },
  {
   "cell_type": "code",
   "execution_count": 32,
   "metadata": {},
   "outputs": [
    {
     "data": {
      "text/html": [
       "<div>\n",
       "<style scoped>\n",
       "    .dataframe tbody tr th:only-of-type {\n",
       "        vertical-align: middle;\n",
       "    }\n",
       "\n",
       "    .dataframe tbody tr th {\n",
       "        vertical-align: top;\n",
       "    }\n",
       "\n",
       "    .dataframe thead th {\n",
       "        text-align: right;\n",
       "    }\n",
       "</style>\n",
       "<table border=\"1\" class=\"dataframe\">\n",
       "  <thead>\n",
       "    <tr style=\"text-align: right;\">\n",
       "      <th></th>\n",
       "      <th>Date</th>\n",
       "      <th>Tweet</th>\n",
       "      <th>Stock Name</th>\n",
       "      <th>Company Name</th>\n",
       "      <th>Sentiment</th>\n",
       "      <th>Z-Score</th>\n",
       "    </tr>\n",
       "  </thead>\n",
       "  <tbody>\n",
       "    <tr>\n",
       "      <th>0</th>\n",
       "      <td>2022-09-29 23:41:16+00:00</td>\n",
       "      <td>Mainstream media has done an amazing job at br...</td>\n",
       "      <td>TSLA</td>\n",
       "      <td>Tesla, Inc.</td>\n",
       "      <td>0.0772</td>\n",
       "      <td>-0.233006</td>\n",
       "    </tr>\n",
       "    <tr>\n",
       "      <th>1</th>\n",
       "      <td>2022-09-29 23:24:43+00:00</td>\n",
       "      <td>Tesla delivery estimates are at around 364k fr...</td>\n",
       "      <td>TSLA</td>\n",
       "      <td>Tesla, Inc.</td>\n",
       "      <td>0.0000</td>\n",
       "      <td>-0.405396</td>\n",
       "    </tr>\n",
       "    <tr>\n",
       "      <th>2</th>\n",
       "      <td>2022-09-29 23:18:08+00:00</td>\n",
       "      <td>3/ Even if I include 63.0M unvested RSUs as of...</td>\n",
       "      <td>TSLA</td>\n",
       "      <td>Tesla, Inc.</td>\n",
       "      <td>0.2960</td>\n",
       "      <td>0.255584</td>\n",
       "    </tr>\n",
       "    <tr>\n",
       "      <th>3</th>\n",
       "      <td>2022-09-29 22:40:07+00:00</td>\n",
       "      <td>@RealDanODowd @WholeMarsBlog @Tesla Hahaha why...</td>\n",
       "      <td>TSLA</td>\n",
       "      <td>Tesla, Inc.</td>\n",
       "      <td>-0.7568</td>\n",
       "      <td>-2.095361</td>\n",
       "    </tr>\n",
       "    <tr>\n",
       "      <th>4</th>\n",
       "      <td>2022-09-29 22:27:05+00:00</td>\n",
       "      <td>@RealDanODowd @Tesla Stop trying to kill kids,...</td>\n",
       "      <td>TSLA</td>\n",
       "      <td>Tesla, Inc.</td>\n",
       "      <td>-0.8750</td>\n",
       "      <td>-2.359307</td>\n",
       "    </tr>\n",
       "  </tbody>\n",
       "</table>\n",
       "</div>"
      ],
      "text/plain": [
       "                        Date  \\\n",
       "0  2022-09-29 23:41:16+00:00   \n",
       "1  2022-09-29 23:24:43+00:00   \n",
       "2  2022-09-29 23:18:08+00:00   \n",
       "3  2022-09-29 22:40:07+00:00   \n",
       "4  2022-09-29 22:27:05+00:00   \n",
       "\n",
       "                                               Tweet Stock Name Company Name  \\\n",
       "0  Mainstream media has done an amazing job at br...       TSLA  Tesla, Inc.   \n",
       "1  Tesla delivery estimates are at around 364k fr...       TSLA  Tesla, Inc.   \n",
       "2  3/ Even if I include 63.0M unvested RSUs as of...       TSLA  Tesla, Inc.   \n",
       "3  @RealDanODowd @WholeMarsBlog @Tesla Hahaha why...       TSLA  Tesla, Inc.   \n",
       "4  @RealDanODowd @Tesla Stop trying to kill kids,...       TSLA  Tesla, Inc.   \n",
       "\n",
       "   Sentiment   Z-Score  \n",
       "0     0.0772 -0.233006  \n",
       "1     0.0000 -0.405396  \n",
       "2     0.2960  0.255584  \n",
       "3    -0.7568 -2.095361  \n",
       "4    -0.8750 -2.359307  "
      ]
     },
     "execution_count": 32,
     "metadata": {},
     "output_type": "execute_result"
    }
   ],
   "source": [
    "df.head()"
   ]
  },
  {
   "cell_type": "code",
   "execution_count": 2,
   "metadata": {},
   "outputs": [
    {
     "ename": "NameError",
     "evalue": "name 'df' is not defined",
     "output_type": "error",
     "traceback": [
      "\u001b[1;31m---------------------------------------------------------------------------\u001b[0m",
      "\u001b[1;31mNameError\u001b[0m                                 Traceback (most recent call last)",
      "\u001b[1;32mc:\\Users\\danus\\OneDrive\\Documents\\stock_market_anomally\\senitiment analysis\\sentiment.ipynb Cell 14\u001b[0m line \u001b[0;36m1\n\u001b[1;32m----> <a href='vscode-notebook-cell:/c%3A/Users/danus/OneDrive/Documents/stock_market_anomally/senitiment%20analysis/sentiment.ipynb#X16sZmlsZQ%3D%3D?line=0'>1</a>\u001b[0m df\u001b[39m.\u001b[39mtail()\n",
      "\u001b[1;31mNameError\u001b[0m: name 'df' is not defined"
     ]
    }
   ],
   "source": [
    "df.tail()"
   ]
  },
  {
   "cell_type": "code",
   "execution_count": 1,
   "metadata": {},
   "outputs": [
    {
     "ename": "NameError",
     "evalue": "name 'df' is not defined",
     "output_type": "error",
     "traceback": [
      "\u001b[1;31m---------------------------------------------------------------------------\u001b[0m",
      "\u001b[1;31mNameError\u001b[0m                                 Traceback (most recent call last)",
      "\u001b[1;32mc:\\Users\\danus\\OneDrive\\Documents\\stock_market_anomally\\senitiment analysis\\sentiment.ipynb Cell 15\u001b[0m line \u001b[0;36m1\n\u001b[0;32m      <a href='vscode-notebook-cell:/c%3A/Users/danus/OneDrive/Documents/stock_market_anomally/senitiment%20analysis/sentiment.ipynb#X20sZmlsZQ%3D%3D?line=6'>7</a>\u001b[0m     plt\u001b[39m.\u001b[39maxis(\u001b[39m'\u001b[39m\u001b[39moff\u001b[39m\u001b[39m'\u001b[39m)\n\u001b[0;32m      <a href='vscode-notebook-cell:/c%3A/Users/danus/OneDrive/Documents/stock_market_anomally/senitiment%20analysis/sentiment.ipynb#X20sZmlsZQ%3D%3D?line=7'>8</a>\u001b[0m     plt\u001b[39m.\u001b[39mshow()\n\u001b[1;32m---> <a href='vscode-notebook-cell:/c%3A/Users/danus/OneDrive/Documents/stock_market_anomally/senitiment%20analysis/sentiment.ipynb#X20sZmlsZQ%3D%3D?line=9'>10</a>\u001b[0m plot_wordcloud(\u001b[39m'\u001b[39;49m\u001b[39mPositive\u001b[39;49m\u001b[39m'\u001b[39;49m)\n\u001b[0;32m     <a href='vscode-notebook-cell:/c%3A/Users/danus/OneDrive/Documents/stock_market_anomally/senitiment%20analysis/sentiment.ipynb#X20sZmlsZQ%3D%3D?line=10'>11</a>\u001b[0m plot_wordcloud(\u001b[39m'\u001b[39m\u001b[39mNeutral\u001b[39m\u001b[39m'\u001b[39m)\n\u001b[0;32m     <a href='vscode-notebook-cell:/c%3A/Users/danus/OneDrive/Documents/stock_market_anomally/senitiment%20analysis/sentiment.ipynb#X20sZmlsZQ%3D%3D?line=11'>12</a>\u001b[0m plot_wordcloud(\u001b[39m'\u001b[39m\u001b[39mNegative\u001b[39m\u001b[39m'\u001b[39m)\n",
      "\u001b[1;32mc:\\Users\\danus\\OneDrive\\Documents\\stock_market_anomally\\senitiment analysis\\sentiment.ipynb Cell 15\u001b[0m line \u001b[0;36m3\n\u001b[0;32m      <a href='vscode-notebook-cell:/c%3A/Users/danus/OneDrive/Documents/stock_market_anomally/senitiment%20analysis/sentiment.ipynb#X20sZmlsZQ%3D%3D?line=1'>2</a>\u001b[0m \u001b[39mdef\u001b[39;00m \u001b[39mplot_wordcloud\u001b[39m(sentiment):\n\u001b[1;32m----> <a href='vscode-notebook-cell:/c%3A/Users/danus/OneDrive/Documents/stock_market_anomally/senitiment%20analysis/sentiment.ipynb#X20sZmlsZQ%3D%3D?line=2'>3</a>\u001b[0m     words \u001b[39m=\u001b[39m \u001b[39m'\u001b[39m\u001b[39m \u001b[39m\u001b[39m'\u001b[39m\u001b[39m.\u001b[39mjoin(df[df[\u001b[39m'\u001b[39m\u001b[39mSentiment\u001b[39m\u001b[39m'\u001b[39m] \u001b[39m==\u001b[39m sentiment][\u001b[39m'\u001b[39m\u001b[39mTweet\u001b[39m\u001b[39m'\u001b[39m])\n\u001b[0;32m      <a href='vscode-notebook-cell:/c%3A/Users/danus/OneDrive/Documents/stock_market_anomally/senitiment%20analysis/sentiment.ipynb#X20sZmlsZQ%3D%3D?line=3'>4</a>\u001b[0m     wordcloud \u001b[39m=\u001b[39m WordCloud(width\u001b[39m=\u001b[39m\u001b[39m800\u001b[39m, height\u001b[39m=\u001b[39m\u001b[39m400\u001b[39m, random_state\u001b[39m=\u001b[39m\u001b[39m21\u001b[39m, max_font_size\u001b[39m=\u001b[39m\u001b[39m110\u001b[39m)\u001b[39m.\u001b[39mgenerate(words)\n\u001b[0;32m      <a href='vscode-notebook-cell:/c%3A/Users/danus/OneDrive/Documents/stock_market_anomally/senitiment%20analysis/sentiment.ipynb#X20sZmlsZQ%3D%3D?line=4'>5</a>\u001b[0m     plt\u001b[39m.\u001b[39mfigure(figsize\u001b[39m=\u001b[39m(\u001b[39m10\u001b[39m, \u001b[39m7\u001b[39m))\n",
      "\u001b[1;31mNameError\u001b[0m: name 'df' is not defined"
     ]
    }
   ],
   "source": [
    "# Word Cloud for Positive, Neutral, and Negative Sentiments\n",
    "def plot_wordcloud(sentiment):\n",
    "    words = ' '.join(df[df['Sentiment'] == sentiment]['Tweet'])\n",
    "    wordcloud = WordCloud(width=800, height=400, random_state=21, max_font_size=110).generate(words)\n",
    "    plt.figure(figsize=(10, 7))\n",
    "    plt.imshow(wordcloud, interpolation=\"bilinear\")\n",
    "    plt.axis('off')\n",
    "    plt.show()\n",
    "\n",
    "plot_wordcloud('Positive')\n",
    "plot_wordcloud('Neutral')\n",
    "plot_wordcloud('Negative')"
   ]
  },
  {
   "cell_type": "code",
   "execution_count": null,
   "metadata": {},
   "outputs": [],
   "source": []
  },
  {
   "cell_type": "code",
   "execution_count": null,
   "metadata": {},
   "outputs": [],
   "source": []
  },
  {
   "cell_type": "code",
   "execution_count": null,
   "metadata": {},
   "outputs": [],
   "source": []
  },
  {
   "cell_type": "code",
   "execution_count": 18,
   "metadata": {},
   "outputs": [
    {
     "data": {
      "text/html": [
       "<div>\n",
       "<style scoped>\n",
       "    .dataframe tbody tr th:only-of-type {\n",
       "        vertical-align: middle;\n",
       "    }\n",
       "\n",
       "    .dataframe tbody tr th {\n",
       "        vertical-align: top;\n",
       "    }\n",
       "\n",
       "    .dataframe thead th {\n",
       "        text-align: right;\n",
       "    }\n",
       "</style>\n",
       "<table border=\"1\" class=\"dataframe\">\n",
       "  <thead>\n",
       "    <tr style=\"text-align: right;\">\n",
       "      <th></th>\n",
       "      <th>Date</th>\n",
       "      <th>Tweet</th>\n",
       "      <th>Stock Name</th>\n",
       "      <th>Company Name</th>\n",
       "      <th>sentiment_score</th>\n",
       "      <th>Negative</th>\n",
       "      <th>Neutral</th>\n",
       "      <th>Positive</th>\n",
       "    </tr>\n",
       "  </thead>\n",
       "  <tbody>\n",
       "    <tr>\n",
       "      <th>0</th>\n",
       "      <td>2022-09-29 23:41:16+00:00</td>\n",
       "      <td>Mainstream media has done an amazing job at br...</td>\n",
       "      <td>TSLA</td>\n",
       "      <td>Tesla, Inc.</td>\n",
       "      <td></td>\n",
       "      <td></td>\n",
       "      <td></td>\n",
       "      <td></td>\n",
       "    </tr>\n",
       "    <tr>\n",
       "      <th>1</th>\n",
       "      <td>2022-09-29 23:24:43+00:00</td>\n",
       "      <td>Tesla delivery estimates are at around 364k fr...</td>\n",
       "      <td>TSLA</td>\n",
       "      <td>Tesla, Inc.</td>\n",
       "      <td></td>\n",
       "      <td></td>\n",
       "      <td></td>\n",
       "      <td></td>\n",
       "    </tr>\n",
       "    <tr>\n",
       "      <th>2</th>\n",
       "      <td>2022-09-29 23:18:08+00:00</td>\n",
       "      <td>3/ Even if I include 63.0M unvested RSUs as of...</td>\n",
       "      <td>TSLA</td>\n",
       "      <td>Tesla, Inc.</td>\n",
       "      <td></td>\n",
       "      <td></td>\n",
       "      <td></td>\n",
       "      <td></td>\n",
       "    </tr>\n",
       "    <tr>\n",
       "      <th>3</th>\n",
       "      <td>2022-09-29 22:40:07+00:00</td>\n",
       "      <td>@RealDanODowd @WholeMarsBlog @Tesla Hahaha why...</td>\n",
       "      <td>TSLA</td>\n",
       "      <td>Tesla, Inc.</td>\n",
       "      <td></td>\n",
       "      <td></td>\n",
       "      <td></td>\n",
       "      <td></td>\n",
       "    </tr>\n",
       "    <tr>\n",
       "      <th>4</th>\n",
       "      <td>2022-09-29 22:27:05+00:00</td>\n",
       "      <td>@RealDanODowd @Tesla Stop trying to kill kids,...</td>\n",
       "      <td>TSLA</td>\n",
       "      <td>Tesla, Inc.</td>\n",
       "      <td></td>\n",
       "      <td></td>\n",
       "      <td></td>\n",
       "      <td></td>\n",
       "    </tr>\n",
       "  </tbody>\n",
       "</table>\n",
       "</div>"
      ],
      "text/plain": [
       "                        Date  \\\n",
       "0  2022-09-29 23:41:16+00:00   \n",
       "1  2022-09-29 23:24:43+00:00   \n",
       "2  2022-09-29 23:18:08+00:00   \n",
       "3  2022-09-29 22:40:07+00:00   \n",
       "4  2022-09-29 22:27:05+00:00   \n",
       "\n",
       "                                               Tweet Stock Name Company Name  \\\n",
       "0  Mainstream media has done an amazing job at br...       TSLA  Tesla, Inc.   \n",
       "1  Tesla delivery estimates are at around 364k fr...       TSLA  Tesla, Inc.   \n",
       "2  3/ Even if I include 63.0M unvested RSUs as of...       TSLA  Tesla, Inc.   \n",
       "3  @RealDanODowd @WholeMarsBlog @Tesla Hahaha why...       TSLA  Tesla, Inc.   \n",
       "4  @RealDanODowd @Tesla Stop trying to kill kids,...       TSLA  Tesla, Inc.   \n",
       "\n",
       "  sentiment_score Negative Neutral Positive  \n",
       "0                                            \n",
       "1                                            \n",
       "2                                            \n",
       "3                                            \n",
       "4                                            "
      ]
     },
     "execution_count": 18,
     "metadata": {},
     "output_type": "execute_result"
    }
   ],
   "source": [
    "sent_df = df.copy()\n",
    "sent_df[\"sentiment_score\"] = ''\n",
    "sent_df[\"Negative\"] = ''\n",
    "sent_df[\"Neutral\"] = ''\n",
    "sent_df[\"Positive\"] = ''\n",
    "sent_df.head()"
   ]
  },
  {
   "cell_type": "code",
   "execution_count": 22,
   "metadata": {},
   "outputs": [],
   "source": [
    "tweet = df['Tweet']"
   ]
  },
  {
   "cell_type": "code",
   "execution_count": 23,
   "metadata": {},
   "outputs": [
    {
     "data": {
      "text/plain": [
       "0        Mainstream media has done an amazing job at br...\n",
       "1        Tesla delivery estimates are at around 364k fr...\n",
       "2        3/ Even if I include 63.0M unvested RSUs as of...\n",
       "3        @RealDanODowd @WholeMarsBlog @Tesla Hahaha why...\n",
       "4        @RealDanODowd @Tesla Stop trying to kill kids,...\n",
       "                               ...                        \n",
       "40694    Some of the fastest growing tech stocks on the...\n",
       "40695    With earnings on the horizon, here is a quick ...\n",
       "40696    Our record delivery results are a testimony of...\n",
       "40697    We delivered 10,412 Smart EVs in Sep 2021, rea...\n",
       "40698    Why can XPeng P5 deliver outstanding performan...\n",
       "Name: Tweet, Length: 40699, dtype: object"
      ]
     },
     "execution_count": 23,
     "metadata": {},
     "output_type": "execute_result"
    }
   ],
   "source": [
    "tweet"
   ]
  },
  {
   "cell_type": "code",
   "execution_count": 24,
   "metadata": {},
   "outputs": [
    {
     "data": {
      "text/html": [
       "<div>\n",
       "<style scoped>\n",
       "    .dataframe tbody tr th:only-of-type {\n",
       "        vertical-align: middle;\n",
       "    }\n",
       "\n",
       "    .dataframe tbody tr th {\n",
       "        vertical-align: top;\n",
       "    }\n",
       "\n",
       "    .dataframe thead th {\n",
       "        text-align: right;\n",
       "    }\n",
       "</style>\n",
       "<table border=\"1\" class=\"dataframe\">\n",
       "  <thead>\n",
       "    <tr style=\"text-align: right;\">\n",
       "      <th></th>\n",
       "      <th>0</th>\n",
       "      <th>1</th>\n",
       "      <th>2</th>\n",
       "      <th>3</th>\n",
       "      <th>4</th>\n",
       "      <th>5</th>\n",
       "      <th>6</th>\n",
       "      <th>7</th>\n",
       "      <th>8</th>\n",
       "      <th>9</th>\n",
       "      <th>...</th>\n",
       "      <th>40689</th>\n",
       "      <th>40690</th>\n",
       "      <th>40691</th>\n",
       "      <th>40692</th>\n",
       "      <th>40693</th>\n",
       "      <th>40694</th>\n",
       "      <th>40695</th>\n",
       "      <th>40696</th>\n",
       "      <th>40697</th>\n",
       "      <th>40698</th>\n",
       "    </tr>\n",
       "  </thead>\n",
       "  <tbody>\n",
       "    <tr>\n",
       "      <th>Date</th>\n",
       "      <td>2022-09-29 23:41:16+00:00</td>\n",
       "      <td>2022-09-29 23:24:43+00:00</td>\n",
       "      <td>2022-09-29 23:18:08+00:00</td>\n",
       "      <td>2022-09-29 22:40:07+00:00</td>\n",
       "      <td>2022-09-29 22:27:05+00:00</td>\n",
       "      <td>2022-09-29 22:25:53+00:00</td>\n",
       "      <td>2022-09-29 22:24:22+00:00</td>\n",
       "      <td>2022-09-29 22:23:54+00:00</td>\n",
       "      <td>2022-09-29 22:23:28+00:00</td>\n",
       "      <td>2022-09-29 22:15:01+00:00</td>\n",
       "      <td>...</td>\n",
       "      <td>2021-10-14 05:45:14+00:00</td>\n",
       "      <td>2021-10-13 16:47:19+00:00</td>\n",
       "      <td>2021-10-12 00:49:51+00:00</td>\n",
       "      <td>2021-10-11 03:51:36+00:00</td>\n",
       "      <td>2021-10-09 00:18:25+00:00</td>\n",
       "      <td>2021-10-07 17:11:57+00:00</td>\n",
       "      <td>2021-10-04 17:05:59+00:00</td>\n",
       "      <td>2021-10-01 04:43:41+00:00</td>\n",
       "      <td>2021-10-01 00:03:32+00:00</td>\n",
       "      <td>2021-09-30 10:22:52+00:00</td>\n",
       "    </tr>\n",
       "    <tr>\n",
       "      <th>Tweet</th>\n",
       "      <td>Mainstream media has done an amazing job at br...</td>\n",
       "      <td>Tesla delivery estimates are at around 364k fr...</td>\n",
       "      <td>3/ Even if I include 63.0M unvested RSUs as of...</td>\n",
       "      <td>@RealDanODowd @WholeMarsBlog @Tesla Hahaha why...</td>\n",
       "      <td>@RealDanODowd @Tesla Stop trying to kill kids,...</td>\n",
       "      <td>@RealDanODowd @Tesla This is you https://t.co/...</td>\n",
       "      <td>For years @WholeMarsBlog viciously silenced @T...</td>\n",
       "      <td>$NIO just because I'm down money doesn't mean ...</td>\n",
       "      <td>50 likes for some $SPY $TSLA charts to study!\\...</td>\n",
       "      <td>@MrJames__321 @KellyRoofing @TeslaSolar @elonm...</td>\n",
       "      <td>...</td>\n",
       "      <td>🐳 🚨Whale Watchlist🚨🐳\\n\\n🌊@SharkofTraders Follo...</td>\n",
       "      <td>XPeng P7 tops Sept sales among new EV makers i...</td>\n",
       "      <td>Glocks Watch (1/2)\\n\\n$F 15.5c &amp;gt; 15.36 | 14...</td>\n",
       "      <td>NIO reached 100,000 vehicle rolled off the pro...</td>\n",
       "      <td>Update on Apple, Tesla, Nio, $QQQ, $SPY, ROKU,...</td>\n",
       "      <td>Some of the fastest growing tech stocks on the...</td>\n",
       "      <td>With earnings on the horizon, here is a quick ...</td>\n",
       "      <td>Our record delivery results are a testimony of...</td>\n",
       "      <td>We delivered 10,412 Smart EVs in Sep 2021, rea...</td>\n",
       "      <td>Why can XPeng P5 deliver outstanding performan...</td>\n",
       "    </tr>\n",
       "    <tr>\n",
       "      <th>Stock Name</th>\n",
       "      <td>TSLA</td>\n",
       "      <td>TSLA</td>\n",
       "      <td>TSLA</td>\n",
       "      <td>TSLA</td>\n",
       "      <td>TSLA</td>\n",
       "      <td>TSLA</td>\n",
       "      <td>TSLA</td>\n",
       "      <td>TSLA</td>\n",
       "      <td>TSLA</td>\n",
       "      <td>TSLA</td>\n",
       "      <td>...</td>\n",
       "      <td>XPEV</td>\n",
       "      <td>XPEV</td>\n",
       "      <td>XPEV</td>\n",
       "      <td>XPEV</td>\n",
       "      <td>XPEV</td>\n",
       "      <td>XPEV</td>\n",
       "      <td>XPEV</td>\n",
       "      <td>XPEV</td>\n",
       "      <td>XPEV</td>\n",
       "      <td>XPEV</td>\n",
       "    </tr>\n",
       "    <tr>\n",
       "      <th>Company Name</th>\n",
       "      <td>Tesla, Inc.</td>\n",
       "      <td>Tesla, Inc.</td>\n",
       "      <td>Tesla, Inc.</td>\n",
       "      <td>Tesla, Inc.</td>\n",
       "      <td>Tesla, Inc.</td>\n",
       "      <td>Tesla, Inc.</td>\n",
       "      <td>Tesla, Inc.</td>\n",
       "      <td>Tesla, Inc.</td>\n",
       "      <td>Tesla, Inc.</td>\n",
       "      <td>Tesla, Inc.</td>\n",
       "      <td>...</td>\n",
       "      <td>XPeng Inc.</td>\n",
       "      <td>XPeng Inc.</td>\n",
       "      <td>XPeng Inc.</td>\n",
       "      <td>XPeng Inc.</td>\n",
       "      <td>XPeng Inc.</td>\n",
       "      <td>XPeng Inc.</td>\n",
       "      <td>XPeng Inc.</td>\n",
       "      <td>XPeng Inc.</td>\n",
       "      <td>XPeng Inc.</td>\n",
       "      <td>XPeng Inc.</td>\n",
       "    </tr>\n",
       "    <tr>\n",
       "      <th>sentiment_score</th>\n",
       "      <td></td>\n",
       "      <td></td>\n",
       "      <td></td>\n",
       "      <td></td>\n",
       "      <td></td>\n",
       "      <td></td>\n",
       "      <td></td>\n",
       "      <td></td>\n",
       "      <td></td>\n",
       "      <td></td>\n",
       "      <td>...</td>\n",
       "      <td></td>\n",
       "      <td></td>\n",
       "      <td></td>\n",
       "      <td></td>\n",
       "      <td></td>\n",
       "      <td></td>\n",
       "      <td></td>\n",
       "      <td></td>\n",
       "      <td></td>\n",
       "      <td></td>\n",
       "    </tr>\n",
       "    <tr>\n",
       "      <th>Negative</th>\n",
       "      <td></td>\n",
       "      <td></td>\n",
       "      <td></td>\n",
       "      <td></td>\n",
       "      <td></td>\n",
       "      <td></td>\n",
       "      <td></td>\n",
       "      <td></td>\n",
       "      <td></td>\n",
       "      <td></td>\n",
       "      <td>...</td>\n",
       "      <td></td>\n",
       "      <td></td>\n",
       "      <td></td>\n",
       "      <td></td>\n",
       "      <td></td>\n",
       "      <td></td>\n",
       "      <td></td>\n",
       "      <td></td>\n",
       "      <td></td>\n",
       "      <td></td>\n",
       "    </tr>\n",
       "    <tr>\n",
       "      <th>Neutral</th>\n",
       "      <td></td>\n",
       "      <td></td>\n",
       "      <td></td>\n",
       "      <td></td>\n",
       "      <td></td>\n",
       "      <td></td>\n",
       "      <td></td>\n",
       "      <td></td>\n",
       "      <td></td>\n",
       "      <td></td>\n",
       "      <td>...</td>\n",
       "      <td></td>\n",
       "      <td></td>\n",
       "      <td></td>\n",
       "      <td></td>\n",
       "      <td></td>\n",
       "      <td></td>\n",
       "      <td></td>\n",
       "      <td></td>\n",
       "      <td></td>\n",
       "      <td></td>\n",
       "    </tr>\n",
       "    <tr>\n",
       "      <th>Positive</th>\n",
       "      <td></td>\n",
       "      <td></td>\n",
       "      <td></td>\n",
       "      <td></td>\n",
       "      <td></td>\n",
       "      <td></td>\n",
       "      <td></td>\n",
       "      <td></td>\n",
       "      <td></td>\n",
       "      <td></td>\n",
       "      <td>...</td>\n",
       "      <td></td>\n",
       "      <td></td>\n",
       "      <td></td>\n",
       "      <td></td>\n",
       "      <td></td>\n",
       "      <td></td>\n",
       "      <td></td>\n",
       "      <td></td>\n",
       "      <td></td>\n",
       "      <td></td>\n",
       "    </tr>\n",
       "  </tbody>\n",
       "</table>\n",
       "<p>8 rows × 40699 columns</p>\n",
       "</div>"
      ],
      "text/plain": [
       "                                                             0      \\\n",
       "Date                                     2022-09-29 23:41:16+00:00   \n",
       "Tweet            Mainstream media has done an amazing job at br...   \n",
       "Stock Name                                                    TSLA   \n",
       "Company Name                                           Tesla, Inc.   \n",
       "sentiment_score                                                      \n",
       "Negative                                                             \n",
       "Neutral                                                              \n",
       "Positive                                                             \n",
       "\n",
       "                                                             1      \\\n",
       "Date                                     2022-09-29 23:24:43+00:00   \n",
       "Tweet            Tesla delivery estimates are at around 364k fr...   \n",
       "Stock Name                                                    TSLA   \n",
       "Company Name                                           Tesla, Inc.   \n",
       "sentiment_score                                                      \n",
       "Negative                                                             \n",
       "Neutral                                                              \n",
       "Positive                                                             \n",
       "\n",
       "                                                             2      \\\n",
       "Date                                     2022-09-29 23:18:08+00:00   \n",
       "Tweet            3/ Even if I include 63.0M unvested RSUs as of...   \n",
       "Stock Name                                                    TSLA   \n",
       "Company Name                                           Tesla, Inc.   \n",
       "sentiment_score                                                      \n",
       "Negative                                                             \n",
       "Neutral                                                              \n",
       "Positive                                                             \n",
       "\n",
       "                                                             3      \\\n",
       "Date                                     2022-09-29 22:40:07+00:00   \n",
       "Tweet            @RealDanODowd @WholeMarsBlog @Tesla Hahaha why...   \n",
       "Stock Name                                                    TSLA   \n",
       "Company Name                                           Tesla, Inc.   \n",
       "sentiment_score                                                      \n",
       "Negative                                                             \n",
       "Neutral                                                              \n",
       "Positive                                                             \n",
       "\n",
       "                                                             4      \\\n",
       "Date                                     2022-09-29 22:27:05+00:00   \n",
       "Tweet            @RealDanODowd @Tesla Stop trying to kill kids,...   \n",
       "Stock Name                                                    TSLA   \n",
       "Company Name                                           Tesla, Inc.   \n",
       "sentiment_score                                                      \n",
       "Negative                                                             \n",
       "Neutral                                                              \n",
       "Positive                                                             \n",
       "\n",
       "                                                             5      \\\n",
       "Date                                     2022-09-29 22:25:53+00:00   \n",
       "Tweet            @RealDanODowd @Tesla This is you https://t.co/...   \n",
       "Stock Name                                                    TSLA   \n",
       "Company Name                                           Tesla, Inc.   \n",
       "sentiment_score                                                      \n",
       "Negative                                                             \n",
       "Neutral                                                              \n",
       "Positive                                                             \n",
       "\n",
       "                                                             6      \\\n",
       "Date                                     2022-09-29 22:24:22+00:00   \n",
       "Tweet            For years @WholeMarsBlog viciously silenced @T...   \n",
       "Stock Name                                                    TSLA   \n",
       "Company Name                                           Tesla, Inc.   \n",
       "sentiment_score                                                      \n",
       "Negative                                                             \n",
       "Neutral                                                              \n",
       "Positive                                                             \n",
       "\n",
       "                                                             7      \\\n",
       "Date                                     2022-09-29 22:23:54+00:00   \n",
       "Tweet            $NIO just because I'm down money doesn't mean ...   \n",
       "Stock Name                                                    TSLA   \n",
       "Company Name                                           Tesla, Inc.   \n",
       "sentiment_score                                                      \n",
       "Negative                                                             \n",
       "Neutral                                                              \n",
       "Positive                                                             \n",
       "\n",
       "                                                             8      \\\n",
       "Date                                     2022-09-29 22:23:28+00:00   \n",
       "Tweet            50 likes for some $SPY $TSLA charts to study!\\...   \n",
       "Stock Name                                                    TSLA   \n",
       "Company Name                                           Tesla, Inc.   \n",
       "sentiment_score                                                      \n",
       "Negative                                                             \n",
       "Neutral                                                              \n",
       "Positive                                                             \n",
       "\n",
       "                                                             9      ...  \\\n",
       "Date                                     2022-09-29 22:15:01+00:00  ...   \n",
       "Tweet            @MrJames__321 @KellyRoofing @TeslaSolar @elonm...  ...   \n",
       "Stock Name                                                    TSLA  ...   \n",
       "Company Name                                           Tesla, Inc.  ...   \n",
       "sentiment_score                                                     ...   \n",
       "Negative                                                            ...   \n",
       "Neutral                                                             ...   \n",
       "Positive                                                            ...   \n",
       "\n",
       "                                                             40689  \\\n",
       "Date                                     2021-10-14 05:45:14+00:00   \n",
       "Tweet            🐳 🚨Whale Watchlist🚨🐳\\n\\n🌊@SharkofTraders Follo...   \n",
       "Stock Name                                                    XPEV   \n",
       "Company Name                                            XPeng Inc.   \n",
       "sentiment_score                                                      \n",
       "Negative                                                             \n",
       "Neutral                                                              \n",
       "Positive                                                             \n",
       "\n",
       "                                                             40690  \\\n",
       "Date                                     2021-10-13 16:47:19+00:00   \n",
       "Tweet            XPeng P7 tops Sept sales among new EV makers i...   \n",
       "Stock Name                                                    XPEV   \n",
       "Company Name                                            XPeng Inc.   \n",
       "sentiment_score                                                      \n",
       "Negative                                                             \n",
       "Neutral                                                              \n",
       "Positive                                                             \n",
       "\n",
       "                                                             40691  \\\n",
       "Date                                     2021-10-12 00:49:51+00:00   \n",
       "Tweet            Glocks Watch (1/2)\\n\\n$F 15.5c &gt; 15.36 | 14...   \n",
       "Stock Name                                                    XPEV   \n",
       "Company Name                                            XPeng Inc.   \n",
       "sentiment_score                                                      \n",
       "Negative                                                             \n",
       "Neutral                                                              \n",
       "Positive                                                             \n",
       "\n",
       "                                                             40692  \\\n",
       "Date                                     2021-10-11 03:51:36+00:00   \n",
       "Tweet            NIO reached 100,000 vehicle rolled off the pro...   \n",
       "Stock Name                                                    XPEV   \n",
       "Company Name                                            XPeng Inc.   \n",
       "sentiment_score                                                      \n",
       "Negative                                                             \n",
       "Neutral                                                              \n",
       "Positive                                                             \n",
       "\n",
       "                                                             40693  \\\n",
       "Date                                     2021-10-09 00:18:25+00:00   \n",
       "Tweet            Update on Apple, Tesla, Nio, $QQQ, $SPY, ROKU,...   \n",
       "Stock Name                                                    XPEV   \n",
       "Company Name                                            XPeng Inc.   \n",
       "sentiment_score                                                      \n",
       "Negative                                                             \n",
       "Neutral                                                              \n",
       "Positive                                                             \n",
       "\n",
       "                                                             40694  \\\n",
       "Date                                     2021-10-07 17:11:57+00:00   \n",
       "Tweet            Some of the fastest growing tech stocks on the...   \n",
       "Stock Name                                                    XPEV   \n",
       "Company Name                                            XPeng Inc.   \n",
       "sentiment_score                                                      \n",
       "Negative                                                             \n",
       "Neutral                                                              \n",
       "Positive                                                             \n",
       "\n",
       "                                                             40695  \\\n",
       "Date                                     2021-10-04 17:05:59+00:00   \n",
       "Tweet            With earnings on the horizon, here is a quick ...   \n",
       "Stock Name                                                    XPEV   \n",
       "Company Name                                            XPeng Inc.   \n",
       "sentiment_score                                                      \n",
       "Negative                                                             \n",
       "Neutral                                                              \n",
       "Positive                                                             \n",
       "\n",
       "                                                             40696  \\\n",
       "Date                                     2021-10-01 04:43:41+00:00   \n",
       "Tweet            Our record delivery results are a testimony of...   \n",
       "Stock Name                                                    XPEV   \n",
       "Company Name                                            XPeng Inc.   \n",
       "sentiment_score                                                      \n",
       "Negative                                                             \n",
       "Neutral                                                              \n",
       "Positive                                                             \n",
       "\n",
       "                                                             40697  \\\n",
       "Date                                     2021-10-01 00:03:32+00:00   \n",
       "Tweet            We delivered 10,412 Smart EVs in Sep 2021, rea...   \n",
       "Stock Name                                                    XPEV   \n",
       "Company Name                                            XPeng Inc.   \n",
       "sentiment_score                                                      \n",
       "Negative                                                             \n",
       "Neutral                                                              \n",
       "Positive                                                             \n",
       "\n",
       "                                                             40698  \n",
       "Date                                     2021-09-30 10:22:52+00:00  \n",
       "Tweet            Why can XPeng P5 deliver outstanding performan...  \n",
       "Stock Name                                                    XPEV  \n",
       "Company Name                                            XPeng Inc.  \n",
       "sentiment_score                                                     \n",
       "Negative                                                            \n",
       "Neutral                                                             \n",
       "Positive                                                            \n",
       "\n",
       "[8 rows x 40699 columns]"
      ]
     },
     "execution_count": 24,
     "metadata": {},
     "output_type": "execute_result"
    }
   ],
   "source": [
    "sent_df.T"
   ]
  },
  {
   "cell_type": "code",
   "execution_count": 26,
   "metadata": {},
   "outputs": [
    {
     "name": "stdout",
     "output_type": "stream",
     "text": [
      "CPU times: total: 8.12 s\n",
      "Wall time: 9.97 s\n"
     ]
    }
   ],
   "source": [
    "%%time\n",
    "\n",
    "\n",
    "sentiment_analyzer = SentimentIntensityAnalyzer()\n",
    "\n",
    "for indx, row in sent_df.iterrows():\n",
    "    try:\n",
    "        sentence_i = unicodedata.normalize('NFKD', row['Tweet'])\n",
    "        sentence_sentiment = sentiment_analyzer.polarity_scores(sentence_i)\n",
    "        sent_df.at[indx, 'sentiment_score'] = sentence_sentiment['compound']\n",
    "        sent_df.at[indx, 'Negative'] = sentence_sentiment['neg']\n",
    "        sent_df.at[indx, 'Neutral'] = sentence_sentiment['neu']\n",
    "        sent_df.at[indx, 'Positive'] = sentence_sentiment['pos']\n",
    "    except TypeError:\n",
    "        print(sent_df.loc[indexx, 'Tweet'])\n",
    "        print(indx)\n",
    "        break\n"
   ]
  },
  {
   "cell_type": "code",
   "execution_count": 27,
   "metadata": {},
   "outputs": [
    {
     "data": {
      "text/html": [
       "<div>\n",
       "<style scoped>\n",
       "    .dataframe tbody tr th:only-of-type {\n",
       "        vertical-align: middle;\n",
       "    }\n",
       "\n",
       "    .dataframe tbody tr th {\n",
       "        vertical-align: top;\n",
       "    }\n",
       "\n",
       "    .dataframe thead th {\n",
       "        text-align: right;\n",
       "    }\n",
       "</style>\n",
       "<table border=\"1\" class=\"dataframe\">\n",
       "  <thead>\n",
       "    <tr style=\"text-align: right;\">\n",
       "      <th></th>\n",
       "      <th>Date</th>\n",
       "      <th>Tweet</th>\n",
       "      <th>Stock Name</th>\n",
       "      <th>Company Name</th>\n",
       "      <th>sentiment_score</th>\n",
       "      <th>Negative</th>\n",
       "      <th>Neutral</th>\n",
       "      <th>Positive</th>\n",
       "    </tr>\n",
       "  </thead>\n",
       "  <tbody>\n",
       "    <tr>\n",
       "      <th>0</th>\n",
       "      <td>2022-09-29 23:41:16+00:00</td>\n",
       "      <td>Mainstream media has done an amazing job at br...</td>\n",
       "      <td>TSLA</td>\n",
       "      <td>Tesla, Inc.</td>\n",
       "      <td>0.0772</td>\n",
       "      <td>0.125</td>\n",
       "      <td>0.763</td>\n",
       "      <td>0.113</td>\n",
       "    </tr>\n",
       "    <tr>\n",
       "      <th>1</th>\n",
       "      <td>2022-09-29 23:24:43+00:00</td>\n",
       "      <td>Tesla delivery estimates are at around 364k fr...</td>\n",
       "      <td>TSLA</td>\n",
       "      <td>Tesla, Inc.</td>\n",
       "      <td>0.0</td>\n",
       "      <td>0.0</td>\n",
       "      <td>1.0</td>\n",
       "      <td>0.0</td>\n",
       "    </tr>\n",
       "    <tr>\n",
       "      <th>2</th>\n",
       "      <td>2022-09-29 23:18:08+00:00</td>\n",
       "      <td>3/ Even if I include 63.0M unvested RSUs as of...</td>\n",
       "      <td>TSLA</td>\n",
       "      <td>Tesla, Inc.</td>\n",
       "      <td>0.296</td>\n",
       "      <td>0.0</td>\n",
       "      <td>0.954</td>\n",
       "      <td>0.046</td>\n",
       "    </tr>\n",
       "    <tr>\n",
       "      <th>3</th>\n",
       "      <td>2022-09-29 22:40:07+00:00</td>\n",
       "      <td>@RealDanODowd @WholeMarsBlog @Tesla Hahaha why...</td>\n",
       "      <td>TSLA</td>\n",
       "      <td>Tesla, Inc.</td>\n",
       "      <td>-0.7568</td>\n",
       "      <td>0.273</td>\n",
       "      <td>0.59</td>\n",
       "      <td>0.137</td>\n",
       "    </tr>\n",
       "    <tr>\n",
       "      <th>4</th>\n",
       "      <td>2022-09-29 22:27:05+00:00</td>\n",
       "      <td>@RealDanODowd @Tesla Stop trying to kill kids,...</td>\n",
       "      <td>TSLA</td>\n",
       "      <td>Tesla, Inc.</td>\n",
       "      <td>-0.875</td>\n",
       "      <td>0.526</td>\n",
       "      <td>0.474</td>\n",
       "      <td>0.0</td>\n",
       "    </tr>\n",
       "  </tbody>\n",
       "</table>\n",
       "</div>"
      ],
      "text/plain": [
       "                        Date  \\\n",
       "0  2022-09-29 23:41:16+00:00   \n",
       "1  2022-09-29 23:24:43+00:00   \n",
       "2  2022-09-29 23:18:08+00:00   \n",
       "3  2022-09-29 22:40:07+00:00   \n",
       "4  2022-09-29 22:27:05+00:00   \n",
       "\n",
       "                                               Tweet Stock Name Company Name  \\\n",
       "0  Mainstream media has done an amazing job at br...       TSLA  Tesla, Inc.   \n",
       "1  Tesla delivery estimates are at around 364k fr...       TSLA  Tesla, Inc.   \n",
       "2  3/ Even if I include 63.0M unvested RSUs as of...       TSLA  Tesla, Inc.   \n",
       "3  @RealDanODowd @WholeMarsBlog @Tesla Hahaha why...       TSLA  Tesla, Inc.   \n",
       "4  @RealDanODowd @Tesla Stop trying to kill kids,...       TSLA  Tesla, Inc.   \n",
       "\n",
       "  sentiment_score Negative Neutral Positive  \n",
       "0          0.0772    0.125   0.763    0.113  \n",
       "1             0.0      0.0     1.0      0.0  \n",
       "2           0.296      0.0   0.954    0.046  \n",
       "3         -0.7568    0.273    0.59    0.137  \n",
       "4          -0.875    0.526   0.474      0.0  "
      ]
     },
     "execution_count": 27,
     "metadata": {},
     "output_type": "execute_result"
    }
   ],
   "source": [
    "sent_df.head()"
   ]
  },
  {
   "cell_type": "code",
   "execution_count": 34,
   "metadata": {},
   "outputs": [
    {
     "name": "stdout",
     "output_type": "stream",
     "text": [
      "Sentiment Analysis Results:\n",
      "                            Date  \\\n",
      "0      2022-09-29 23:41:16+00:00   \n",
      "1      2022-09-29 23:24:43+00:00   \n",
      "2      2022-09-29 23:18:08+00:00   \n",
      "3      2022-09-29 22:40:07+00:00   \n",
      "4      2022-09-29 22:27:05+00:00   \n",
      "...                          ...   \n",
      "40694  2021-10-07 17:11:57+00:00   \n",
      "40695  2021-10-04 17:05:59+00:00   \n",
      "40696  2021-10-01 04:43:41+00:00   \n",
      "40697  2021-10-01 00:03:32+00:00   \n",
      "40698  2021-09-30 10:22:52+00:00   \n",
      "\n",
      "                                                   Tweet Stock Name  \\\n",
      "0      Mainstream media has done an amazing job at br...       TSLA   \n",
      "1      Tesla delivery estimates are at around 364k fr...       TSLA   \n",
      "2      3/ Even if I include 63.0M unvested RSUs as of...       TSLA   \n",
      "3      @RealDanODowd @WholeMarsBlog @Tesla Hahaha why...       TSLA   \n",
      "4      @RealDanODowd @Tesla Stop trying to kill kids,...       TSLA   \n",
      "...                                                  ...        ...   \n",
      "40694  Some of the fastest growing tech stocks on the...       XPEV   \n",
      "40695  With earnings on the horizon, here is a quick ...       XPEV   \n",
      "40696  Our record delivery results are a testimony of...       XPEV   \n",
      "40697  We delivered 10,412 Smart EVs in Sep 2021, rea...       XPEV   \n",
      "40698  Why can XPeng P5 deliver outstanding performan...       XPEV   \n",
      "\n",
      "      Company Name sentiment_score Negative Neutral Positive   Z-Score  \n",
      "0      Tesla, Inc.          0.0772    0.125   0.763    0.113 -0.233445  \n",
      "1      Tesla, Inc.             0.0      0.0     1.0      0.0 -0.405746  \n",
      "2      Tesla, Inc.           0.296      0.0   0.954    0.046  0.254891  \n",
      "3      Tesla, Inc.         -0.7568    0.273    0.59    0.137 -2.094836  \n",
      "4      Tesla, Inc.          -0.875    0.526   0.474      0.0 -2.358645  \n",
      "...            ...             ...      ...     ...      ...       ...  \n",
      "40694   XPeng Inc.          0.1779      0.0   0.925    0.075 -0.008694  \n",
      "40695   XPeng Inc.          0.3818      0.0   0.938    0.062  0.446387  \n",
      "40696   XPeng Inc.          0.4215      0.0   0.903    0.097  0.534993  \n",
      "40697   XPeng Inc.          0.5423      0.0   0.889    0.111  0.804604  \n",
      "40698   XPeng Inc.          0.7783      0.0   0.805    0.195  1.331329  \n",
      "\n",
      "[40699 rows x 9 columns]\n",
      "\n",
      "Anomalies:\n",
      "                            Date  \\\n",
      "3      2022-09-29 22:40:07+00:00   \n",
      "4      2022-09-29 22:27:05+00:00   \n",
      "6      2022-09-29 22:24:22+00:00   \n",
      "9      2022-09-29 22:15:01+00:00   \n",
      "12     2022-09-29 21:11:30+00:00   \n",
      "...                          ...   \n",
      "40404  2021-10-07 16:35:26+00:00   \n",
      "40452  2021-10-01 11:33:08+00:00   \n",
      "40481  2022-08-25 01:53:36+00:00   \n",
      "40509  2022-05-10 08:08:04+00:00   \n",
      "40572  2022-01-04 11:22:53+00:00   \n",
      "\n",
      "                                                   Tweet Stock Name  \\\n",
      "3      @RealDanODowd @WholeMarsBlog @Tesla Hahaha why...       TSLA   \n",
      "4      @RealDanODowd @Tesla Stop trying to kill kids,...       TSLA   \n",
      "6      For years @WholeMarsBlog viciously silenced @T...       TSLA   \n",
      "9      @MrJames__321 @KellyRoofing @TeslaSolar @elonm...       TSLA   \n",
      "12     $TSLAQ: Tesla’s dead in Europe! Everyone else ...       TSLA   \n",
      "...                                                  ...        ...   \n",
      "40404  $NIO here we freaking go people the misery nee...        NIO   \n",
      "40452  If you completely sold out of $NIO it may not ...        NIO   \n",
      "40481  Worst performing large cap stocks so far in 20...       XPEV   \n",
      "40509  🚨 $TSLA April shipments only 10,757 (-87% MoM)...       XPEV   \n",
      "40572  $NIO's revenue per car is near 2x $XPEV's and ...       XPEV   \n",
      "\n",
      "      Company Name sentiment_score Negative Neutral Positive   Z-Score  \n",
      "3      Tesla, Inc.         -0.7568    0.273    0.59    0.137 -2.094836  \n",
      "4      Tesla, Inc.          -0.875    0.526   0.474      0.0 -2.358645  \n",
      "6      Tesla, Inc.         -0.9359    0.298   0.662    0.041 -2.494567  \n",
      "9      Tesla, Inc.         -0.8625    0.272   0.728      0.0 -2.330746  \n",
      "12     Tesla, Inc.         -0.7332    0.123   0.877      0.0 -2.042164  \n",
      "...            ...             ...      ...     ...      ...       ...  \n",
      "40404     NIO Inc.         -0.7777    0.361   0.639      0.0 -2.141483  \n",
      "40452     NIO Inc.         -0.8086    0.223   0.777      0.0 -2.210448  \n",
      "40481   XPeng Inc.         -0.7184    0.125   0.875      0.0 -2.009132  \n",
      "40509   XPeng Inc.         -0.7419    0.145   0.855      0.0 -2.061581  \n",
      "40572   XPeng Inc.         -0.8481    0.174   0.805    0.021 -2.298607  \n",
      "\n",
      "[1372 rows x 9 columns]\n"
     ]
    }
   ],
   "source": [
    "\n",
    "mean_sentiment = sent_df['sentiment_score'].mean()\n",
    "std_sentiment = sent_df['sentiment_score'].std()\n",
    "sent_df['Z-Score'] = (sent_df['sentiment_score'] - mean_sentiment) / std_sentiment\n",
    "\n",
    "threshold = 2.0\n",
    "\n",
    "anomalies = sent_df[sent_df['Z-Score'].abs() > threshold]\n",
    "\n",
    "print(\"Sentiment Analysis Results:\")\n",
    "print(sent_df)\n",
    "\n",
    "print(\"\\nAnomalies:\")\n",
    "print(anomalies)"
   ]
  },
  {
   "cell_type": "code",
   "execution_count": 40,
   "metadata": {},
   "outputs": [
    {
     "name": "stdout",
     "output_type": "stream",
     "text": [
      "        Date                                              Tweet Stock Name  \\\n",
      "0 2022-09-29  Mainstream media has done an amazing job at br...       TSLA   \n",
      "1 2022-09-29  Tesla delivery estimates are at around 364k fr...       TSLA   \n",
      "2 2022-09-29  3/ Even if I include 63.0M unvested RSUs as of...       TSLA   \n",
      "3 2022-09-29  @RealDanODowd @WholeMarsBlog @Tesla Hahaha why...       TSLA   \n",
      "4 2022-09-29  @RealDanODowd @Tesla Stop trying to kill kids,...       TSLA   \n",
      "\n",
      "  Company Name sentiment_score Negative Neutral Positive   Z-Score  \n",
      "0  Tesla, Inc.          0.0772    0.125   0.763    0.113 -0.233445  \n",
      "1  Tesla, Inc.             0.0      0.0     1.0      0.0 -0.405746  \n",
      "2  Tesla, Inc.           0.296      0.0   0.954    0.046  0.254891  \n",
      "3  Tesla, Inc.         -0.7568    0.273    0.59    0.137 -2.094836  \n",
      "4  Tesla, Inc.          -0.875    0.526   0.474      0.0 -2.358645  \n",
      "0    2022-09-29\n",
      "1    2022-09-29\n",
      "2    2022-09-29\n",
      "3    2022-09-29\n",
      "4    2022-09-29\n",
      "Name: Date, dtype: object\n"
     ]
    }
   ],
   "source": [
    "sent_df['Date'] = pd.to_datetime(sent_df['Date'])\n",
    "print(sent_df.head())\n",
    "sent_df['Date'] = sent_df['Date'].dt.date\n",
    "print(sent_df['Date'].head())"
   ]
  },
  {
   "cell_type": "code",
   "execution_count": 41,
   "metadata": {},
   "outputs": [
    {
     "data": {
      "text/html": [
       "<div>\n",
       "<style scoped>\n",
       "    .dataframe tbody tr th:only-of-type {\n",
       "        vertical-align: middle;\n",
       "    }\n",
       "\n",
       "    .dataframe tbody tr th {\n",
       "        vertical-align: top;\n",
       "    }\n",
       "\n",
       "    .dataframe thead th {\n",
       "        text-align: right;\n",
       "    }\n",
       "</style>\n",
       "<table border=\"1\" class=\"dataframe\">\n",
       "  <thead>\n",
       "    <tr style=\"text-align: right;\">\n",
       "      <th></th>\n",
       "      <th>Date</th>\n",
       "      <th>Tweet</th>\n",
       "      <th>Stock Name</th>\n",
       "      <th>Company Name</th>\n",
       "      <th>sentiment_score</th>\n",
       "      <th>Negative</th>\n",
       "      <th>Neutral</th>\n",
       "      <th>Positive</th>\n",
       "      <th>Z-Score</th>\n",
       "    </tr>\n",
       "  </thead>\n",
       "  <tbody>\n",
       "    <tr>\n",
       "      <th>0</th>\n",
       "      <td>2022-09-29</td>\n",
       "      <td>Mainstream media has done an amazing job at br...</td>\n",
       "      <td>TSLA</td>\n",
       "      <td>Tesla, Inc.</td>\n",
       "      <td>0.0772</td>\n",
       "      <td>0.125</td>\n",
       "      <td>0.763</td>\n",
       "      <td>0.113</td>\n",
       "      <td>-0.233445</td>\n",
       "    </tr>\n",
       "    <tr>\n",
       "      <th>1</th>\n",
       "      <td>2022-09-29</td>\n",
       "      <td>Tesla delivery estimates are at around 364k fr...</td>\n",
       "      <td>TSLA</td>\n",
       "      <td>Tesla, Inc.</td>\n",
       "      <td>0.0</td>\n",
       "      <td>0.0</td>\n",
       "      <td>1.0</td>\n",
       "      <td>0.0</td>\n",
       "      <td>-0.405746</td>\n",
       "    </tr>\n",
       "    <tr>\n",
       "      <th>2</th>\n",
       "      <td>2022-09-29</td>\n",
       "      <td>3/ Even if I include 63.0M unvested RSUs as of...</td>\n",
       "      <td>TSLA</td>\n",
       "      <td>Tesla, Inc.</td>\n",
       "      <td>0.296</td>\n",
       "      <td>0.0</td>\n",
       "      <td>0.954</td>\n",
       "      <td>0.046</td>\n",
       "      <td>0.254891</td>\n",
       "    </tr>\n",
       "    <tr>\n",
       "      <th>3</th>\n",
       "      <td>2022-09-29</td>\n",
       "      <td>@RealDanODowd @WholeMarsBlog @Tesla Hahaha why...</td>\n",
       "      <td>TSLA</td>\n",
       "      <td>Tesla, Inc.</td>\n",
       "      <td>-0.7568</td>\n",
       "      <td>0.273</td>\n",
       "      <td>0.59</td>\n",
       "      <td>0.137</td>\n",
       "      <td>-2.094836</td>\n",
       "    </tr>\n",
       "    <tr>\n",
       "      <th>4</th>\n",
       "      <td>2022-09-29</td>\n",
       "      <td>@RealDanODowd @Tesla Stop trying to kill kids,...</td>\n",
       "      <td>TSLA</td>\n",
       "      <td>Tesla, Inc.</td>\n",
       "      <td>-0.875</td>\n",
       "      <td>0.526</td>\n",
       "      <td>0.474</td>\n",
       "      <td>0.0</td>\n",
       "      <td>-2.358645</td>\n",
       "    </tr>\n",
       "  </tbody>\n",
       "</table>\n",
       "</div>"
      ],
      "text/plain": [
       "         Date                                              Tweet Stock Name  \\\n",
       "0  2022-09-29  Mainstream media has done an amazing job at br...       TSLA   \n",
       "1  2022-09-29  Tesla delivery estimates are at around 364k fr...       TSLA   \n",
       "2  2022-09-29  3/ Even if I include 63.0M unvested RSUs as of...       TSLA   \n",
       "3  2022-09-29  @RealDanODowd @WholeMarsBlog @Tesla Hahaha why...       TSLA   \n",
       "4  2022-09-29  @RealDanODowd @Tesla Stop trying to kill kids,...       TSLA   \n",
       "\n",
       "  Company Name sentiment_score Negative Neutral Positive   Z-Score  \n",
       "0  Tesla, Inc.          0.0772    0.125   0.763    0.113 -0.233445  \n",
       "1  Tesla, Inc.             0.0      0.0     1.0      0.0 -0.405746  \n",
       "2  Tesla, Inc.           0.296      0.0   0.954    0.046  0.254891  \n",
       "3  Tesla, Inc.         -0.7568    0.273    0.59    0.137 -2.094836  \n",
       "4  Tesla, Inc.          -0.875    0.526   0.474      0.0 -2.358645  "
      ]
     },
     "execution_count": 41,
     "metadata": {},
     "output_type": "execute_result"
    }
   ],
   "source": [
    "sent_df.head()"
   ]
  },
  {
   "cell_type": "code",
   "execution_count": 56,
   "metadata": {},
   "outputs": [
    {
     "data": {
      "text/plain": [
       "Date               object\n",
       "Tweet              object\n",
       "Stock Name         object\n",
       "Company Name       object\n",
       "sentiment_score    object\n",
       "Negative           object\n",
       "Neutral            object\n",
       "Positive           object\n",
       "Z-Score            object\n",
       "dtype: object"
      ]
     },
     "execution_count": 56,
     "metadata": {},
     "output_type": "execute_result"
    }
   ],
   "source": [
    "sent_df.dtypes"
   ]
  },
  {
   "cell_type": "code",
   "execution_count": 43,
   "metadata": {},
   "outputs": [
    {
     "data": {
      "text/html": [
       "<div>\n",
       "<style scoped>\n",
       "    .dataframe tbody tr th:only-of-type {\n",
       "        vertical-align: middle;\n",
       "    }\n",
       "\n",
       "    .dataframe tbody tr th {\n",
       "        vertical-align: top;\n",
       "    }\n",
       "\n",
       "    .dataframe thead th {\n",
       "        text-align: right;\n",
       "    }\n",
       "</style>\n",
       "<table border=\"1\" class=\"dataframe\">\n",
       "  <thead>\n",
       "    <tr style=\"text-align: right;\">\n",
       "      <th></th>\n",
       "      <th>Date</th>\n",
       "      <th>Tweet</th>\n",
       "      <th>Stock Name</th>\n",
       "      <th>Company Name</th>\n",
       "      <th>sentiment_score</th>\n",
       "      <th>Negative</th>\n",
       "      <th>Neutral</th>\n",
       "      <th>Positive</th>\n",
       "      <th>Z-Score</th>\n",
       "    </tr>\n",
       "  </thead>\n",
       "  <tbody>\n",
       "    <tr>\n",
       "      <th>0</th>\n",
       "      <td>2022-09-29</td>\n",
       "      <td>Mainstream media has done an amazing job at br...</td>\n",
       "      <td>TSLA</td>\n",
       "      <td>Tesla, Inc.</td>\n",
       "      <td>0.0772</td>\n",
       "      <td>0.125</td>\n",
       "      <td>0.763</td>\n",
       "      <td>0.113</td>\n",
       "      <td>-0.233445</td>\n",
       "    </tr>\n",
       "    <tr>\n",
       "      <th>1</th>\n",
       "      <td>2022-09-29</td>\n",
       "      <td>Tesla delivery estimates are at around 364k fr...</td>\n",
       "      <td>TSLA</td>\n",
       "      <td>Tesla, Inc.</td>\n",
       "      <td>0.0</td>\n",
       "      <td>0.0</td>\n",
       "      <td>1.0</td>\n",
       "      <td>0.0</td>\n",
       "      <td>-0.405746</td>\n",
       "    </tr>\n",
       "    <tr>\n",
       "      <th>2</th>\n",
       "      <td>2022-09-29</td>\n",
       "      <td>3/ Even if I include 63.0M unvested RSUs as of...</td>\n",
       "      <td>TSLA</td>\n",
       "      <td>Tesla, Inc.</td>\n",
       "      <td>0.296</td>\n",
       "      <td>0.0</td>\n",
       "      <td>0.954</td>\n",
       "      <td>0.046</td>\n",
       "      <td>0.254891</td>\n",
       "    </tr>\n",
       "    <tr>\n",
       "      <th>3</th>\n",
       "      <td>2022-09-29</td>\n",
       "      <td>@RealDanODowd @WholeMarsBlog @Tesla Hahaha why...</td>\n",
       "      <td>TSLA</td>\n",
       "      <td>Tesla, Inc.</td>\n",
       "      <td>-0.7568</td>\n",
       "      <td>0.273</td>\n",
       "      <td>0.59</td>\n",
       "      <td>0.137</td>\n",
       "      <td>-2.094836</td>\n",
       "    </tr>\n",
       "    <tr>\n",
       "      <th>4</th>\n",
       "      <td>2022-09-29</td>\n",
       "      <td>@RealDanODowd @Tesla Stop trying to kill kids,...</td>\n",
       "      <td>TSLA</td>\n",
       "      <td>Tesla, Inc.</td>\n",
       "      <td>-0.875</td>\n",
       "      <td>0.526</td>\n",
       "      <td>0.474</td>\n",
       "      <td>0.0</td>\n",
       "      <td>-2.358645</td>\n",
       "    </tr>\n",
       "  </tbody>\n",
       "</table>\n",
       "</div>"
      ],
      "text/plain": [
       "         Date                                              Tweet Stock Name  \\\n",
       "0  2022-09-29  Mainstream media has done an amazing job at br...       TSLA   \n",
       "1  2022-09-29  Tesla delivery estimates are at around 364k fr...       TSLA   \n",
       "2  2022-09-29  3/ Even if I include 63.0M unvested RSUs as of...       TSLA   \n",
       "3  2022-09-29  @RealDanODowd @WholeMarsBlog @Tesla Hahaha why...       TSLA   \n",
       "4  2022-09-29  @RealDanODowd @Tesla Stop trying to kill kids,...       TSLA   \n",
       "\n",
       "  Company Name sentiment_score Negative Neutral Positive   Z-Score  \n",
       "0  Tesla, Inc.          0.0772    0.125   0.763    0.113 -0.233445  \n",
       "1  Tesla, Inc.             0.0      0.0     1.0      0.0 -0.405746  \n",
       "2  Tesla, Inc.           0.296      0.0   0.954    0.046  0.254891  \n",
       "3  Tesla, Inc.         -0.7568    0.273    0.59    0.137 -2.094836  \n",
       "4  Tesla, Inc.          -0.875    0.526   0.474      0.0 -2.358645  "
      ]
     },
     "execution_count": 43,
     "metadata": {},
     "output_type": "execute_result"
    }
   ],
   "source": [
    "twit_df = sent_df.copy()\n",
    "twit_df.head()"
   ]
  },
  {
   "cell_type": "code",
   "execution_count": 45,
   "metadata": {},
   "outputs": [],
   "source": [
    "twit_df = twit_df[['Date','Tweet','sentiment_score']]"
   ]
  },
  {
   "cell_type": "code",
   "execution_count": 46,
   "metadata": {},
   "outputs": [
    {
     "data": {
      "text/html": [
       "<div>\n",
       "<style scoped>\n",
       "    .dataframe tbody tr th:only-of-type {\n",
       "        vertical-align: middle;\n",
       "    }\n",
       "\n",
       "    .dataframe tbody tr th {\n",
       "        vertical-align: top;\n",
       "    }\n",
       "\n",
       "    .dataframe thead th {\n",
       "        text-align: right;\n",
       "    }\n",
       "</style>\n",
       "<table border=\"1\" class=\"dataframe\">\n",
       "  <thead>\n",
       "    <tr style=\"text-align: right;\">\n",
       "      <th></th>\n",
       "      <th>Date</th>\n",
       "      <th>Tweet</th>\n",
       "      <th>sentiment_score</th>\n",
       "    </tr>\n",
       "  </thead>\n",
       "  <tbody>\n",
       "    <tr>\n",
       "      <th>0</th>\n",
       "      <td>2022-09-29</td>\n",
       "      <td>Mainstream media has done an amazing job at br...</td>\n",
       "      <td>0.0772</td>\n",
       "    </tr>\n",
       "    <tr>\n",
       "      <th>1</th>\n",
       "      <td>2022-09-29</td>\n",
       "      <td>Tesla delivery estimates are at around 364k fr...</td>\n",
       "      <td>0.0</td>\n",
       "    </tr>\n",
       "    <tr>\n",
       "      <th>2</th>\n",
       "      <td>2022-09-29</td>\n",
       "      <td>3/ Even if I include 63.0M unvested RSUs as of...</td>\n",
       "      <td>0.296</td>\n",
       "    </tr>\n",
       "    <tr>\n",
       "      <th>3</th>\n",
       "      <td>2022-09-29</td>\n",
       "      <td>@RealDanODowd @WholeMarsBlog @Tesla Hahaha why...</td>\n",
       "      <td>-0.7568</td>\n",
       "    </tr>\n",
       "    <tr>\n",
       "      <th>4</th>\n",
       "      <td>2022-09-29</td>\n",
       "      <td>@RealDanODowd @Tesla Stop trying to kill kids,...</td>\n",
       "      <td>-0.875</td>\n",
       "    </tr>\n",
       "  </tbody>\n",
       "</table>\n",
       "</div>"
      ],
      "text/plain": [
       "         Date                                              Tweet  \\\n",
       "0  2022-09-29  Mainstream media has done an amazing job at br...   \n",
       "1  2022-09-29  Tesla delivery estimates are at around 364k fr...   \n",
       "2  2022-09-29  3/ Even if I include 63.0M unvested RSUs as of...   \n",
       "3  2022-09-29  @RealDanODowd @WholeMarsBlog @Tesla Hahaha why...   \n",
       "4  2022-09-29  @RealDanODowd @Tesla Stop trying to kill kids,...   \n",
       "\n",
       "  sentiment_score  \n",
       "0          0.0772  \n",
       "1             0.0  \n",
       "2           0.296  \n",
       "3         -0.7568  \n",
       "4          -0.875  "
      ]
     },
     "execution_count": 46,
     "metadata": {},
     "output_type": "execute_result"
    }
   ],
   "source": [
    "twit_df.head()"
   ]
  },
  {
   "cell_type": "code",
   "execution_count": 60,
   "metadata": {},
   "outputs": [
    {
     "data": {
      "text/plain": [
       "(40699, 3)"
      ]
     },
     "execution_count": 60,
     "metadata": {},
     "output_type": "execute_result"
    }
   ],
   "source": [
    "twit_df.shape"
   ]
  },
  {
   "cell_type": "code",
   "execution_count": 61,
   "metadata": {},
   "outputs": [
    {
     "data": {
      "text/plain": [
       "Date               object\n",
       "Tweet              object\n",
       "sentiment_score    object\n",
       "dtype: object"
      ]
     },
     "execution_count": 61,
     "metadata": {},
     "output_type": "execute_result"
    }
   ],
   "source": [
    "twit_df.dtypes"
   ]
  },
  {
   "cell_type": "code",
   "execution_count": 65,
   "metadata": {},
   "outputs": [],
   "source": [
    "twitt_df = twit_df.groupby('Date')['sentiment_score'].mean()\n"
   ]
  },
  {
   "cell_type": "code",
   "execution_count": 67,
   "metadata": {},
   "outputs": [
    {
     "data": {
      "text/html": [
       "<div>\n",
       "<style scoped>\n",
       "    .dataframe tbody tr th:only-of-type {\n",
       "        vertical-align: middle;\n",
       "    }\n",
       "\n",
       "    .dataframe tbody tr th {\n",
       "        vertical-align: top;\n",
       "    }\n",
       "\n",
       "    .dataframe thead th {\n",
       "        text-align: right;\n",
       "    }\n",
       "</style>\n",
       "<table border=\"1\" class=\"dataframe\">\n",
       "  <thead>\n",
       "    <tr style=\"text-align: right;\">\n",
       "      <th></th>\n",
       "      <th>sentiment_score</th>\n",
       "    </tr>\n",
       "    <tr>\n",
       "      <th>Date</th>\n",
       "      <th></th>\n",
       "    </tr>\n",
       "  </thead>\n",
       "  <tbody>\n",
       "    <tr>\n",
       "      <th>2021-09-30</th>\n",
       "      <td>0.270055</td>\n",
       "    </tr>\n",
       "    <tr>\n",
       "      <th>2021-10-01</th>\n",
       "      <td>0.239076</td>\n",
       "    </tr>\n",
       "    <tr>\n",
       "      <th>2021-10-02</th>\n",
       "      <td>0.310408</td>\n",
       "    </tr>\n",
       "    <tr>\n",
       "      <th>2021-10-03</th>\n",
       "      <td>0.280824</td>\n",
       "    </tr>\n",
       "    <tr>\n",
       "      <th>2021-10-04</th>\n",
       "      <td>0.148188</td>\n",
       "    </tr>\n",
       "    <tr>\n",
       "      <th>...</th>\n",
       "      <td>...</td>\n",
       "    </tr>\n",
       "    <tr>\n",
       "      <th>2022-09-25</th>\n",
       "      <td>0.143565</td>\n",
       "    </tr>\n",
       "    <tr>\n",
       "      <th>2022-09-26</th>\n",
       "      <td>0.120966</td>\n",
       "    </tr>\n",
       "    <tr>\n",
       "      <th>2022-09-27</th>\n",
       "      <td>0.219417</td>\n",
       "    </tr>\n",
       "    <tr>\n",
       "      <th>2022-09-28</th>\n",
       "      <td>0.133114</td>\n",
       "    </tr>\n",
       "    <tr>\n",
       "      <th>2022-09-29</th>\n",
       "      <td>0.071146</td>\n",
       "    </tr>\n",
       "  </tbody>\n",
       "</table>\n",
       "<p>365 rows × 1 columns</p>\n",
       "</div>"
      ],
      "text/plain": [
       "           sentiment_score\n",
       "Date                      \n",
       "2021-09-30        0.270055\n",
       "2021-10-01        0.239076\n",
       "2021-10-02        0.310408\n",
       "2021-10-03        0.280824\n",
       "2021-10-04        0.148188\n",
       "...                    ...\n",
       "2022-09-25        0.143565\n",
       "2022-09-26        0.120966\n",
       "2022-09-27        0.219417\n",
       "2022-09-28        0.133114\n",
       "2022-09-29        0.071146\n",
       "\n",
       "[365 rows x 1 columns]"
      ]
     },
     "execution_count": 67,
     "metadata": {},
     "output_type": "execute_result"
    }
   ],
   "source": [
    "pd.DataFrame(twitt_df)"
   ]
  },
  {
   "cell_type": "code",
   "execution_count": 69,
   "metadata": {},
   "outputs": [],
   "source": [
    "stocks = pd.read_csv('./tweet data/automobile_stocks.csv')"
   ]
  },
  {
   "cell_type": "code",
   "execution_count": 70,
   "metadata": {},
   "outputs": [
    {
     "data": {
      "text/html": [
       "<div>\n",
       "<style scoped>\n",
       "    .dataframe tbody tr th:only-of-type {\n",
       "        vertical-align: middle;\n",
       "    }\n",
       "\n",
       "    .dataframe tbody tr th {\n",
       "        vertical-align: top;\n",
       "    }\n",
       "\n",
       "    .dataframe thead th {\n",
       "        text-align: right;\n",
       "    }\n",
       "</style>\n",
       "<table border=\"1\" class=\"dataframe\">\n",
       "  <thead>\n",
       "    <tr style=\"text-align: right;\">\n",
       "      <th></th>\n",
       "      <th>Date</th>\n",
       "      <th>Open</th>\n",
       "      <th>High</th>\n",
       "      <th>Low</th>\n",
       "      <th>Close</th>\n",
       "      <th>Adj Close</th>\n",
       "      <th>Volume</th>\n",
       "      <th>Stock Name</th>\n",
       "    </tr>\n",
       "  </thead>\n",
       "  <tbody>\n",
       "    <tr>\n",
       "      <th>0</th>\n",
       "      <td>2022-10-26</td>\n",
       "      <td>219.399994</td>\n",
       "      <td>230.600006</td>\n",
       "      <td>218.199997</td>\n",
       "      <td>224.639999</td>\n",
       "      <td>224.639999</td>\n",
       "      <td>85012500</td>\n",
       "      <td>TSLA</td>\n",
       "    </tr>\n",
       "    <tr>\n",
       "      <th>1</th>\n",
       "      <td>2022-10-27</td>\n",
       "      <td>229.770004</td>\n",
       "      <td>233.809998</td>\n",
       "      <td>222.850006</td>\n",
       "      <td>225.089996</td>\n",
       "      <td>225.089996</td>\n",
       "      <td>61638800</td>\n",
       "      <td>TSLA</td>\n",
       "    </tr>\n",
       "    <tr>\n",
       "      <th>2</th>\n",
       "      <td>2022-10-28</td>\n",
       "      <td>225.399994</td>\n",
       "      <td>228.860001</td>\n",
       "      <td>216.350006</td>\n",
       "      <td>228.520004</td>\n",
       "      <td>228.520004</td>\n",
       "      <td>69152400</td>\n",
       "      <td>TSLA</td>\n",
       "    </tr>\n",
       "    <tr>\n",
       "      <th>3</th>\n",
       "      <td>2022-10-31</td>\n",
       "      <td>226.190002</td>\n",
       "      <td>229.850006</td>\n",
       "      <td>221.940002</td>\n",
       "      <td>227.539993</td>\n",
       "      <td>227.539993</td>\n",
       "      <td>61554300</td>\n",
       "      <td>TSLA</td>\n",
       "    </tr>\n",
       "    <tr>\n",
       "      <th>4</th>\n",
       "      <td>2022-11-01</td>\n",
       "      <td>234.050003</td>\n",
       "      <td>237.399994</td>\n",
       "      <td>227.279999</td>\n",
       "      <td>227.820007</td>\n",
       "      <td>227.820007</td>\n",
       "      <td>62688800</td>\n",
       "      <td>TSLA</td>\n",
       "    </tr>\n",
       "  </tbody>\n",
       "</table>\n",
       "</div>"
      ],
      "text/plain": [
       "         Date        Open        High         Low       Close   Adj Close  \\\n",
       "0  2022-10-26  219.399994  230.600006  218.199997  224.639999  224.639999   \n",
       "1  2022-10-27  229.770004  233.809998  222.850006  225.089996  225.089996   \n",
       "2  2022-10-28  225.399994  228.860001  216.350006  228.520004  228.520004   \n",
       "3  2022-10-31  226.190002  229.850006  221.940002  227.539993  227.539993   \n",
       "4  2022-11-01  234.050003  237.399994  227.279999  227.820007  227.820007   \n",
       "\n",
       "     Volume Stock Name  \n",
       "0  85012500       TSLA  \n",
       "1  61638800       TSLA  \n",
       "2  69152400       TSLA  \n",
       "3  61554300       TSLA  \n",
       "4  62688800       TSLA  "
      ]
     },
     "execution_count": 70,
     "metadata": {},
     "output_type": "execute_result"
    }
   ],
   "source": [
    "stocks.head()"
   ]
  },
  {
   "cell_type": "code",
   "execution_count": 71,
   "metadata": {},
   "outputs": [
    {
     "data": {
      "text/plain": [
       "(4723, 8)"
      ]
     },
     "execution_count": 71,
     "metadata": {},
     "output_type": "execute_result"
    }
   ],
   "source": [
    "stocks.shape"
   ]
  },
  {
   "cell_type": "code",
   "execution_count": 72,
   "metadata": {},
   "outputs": [
    {
     "data": {
      "text/plain": [
       "(40699, 6)"
      ]
     },
     "execution_count": 72,
     "metadata": {},
     "output_type": "execute_result"
    }
   ],
   "source": [
    "df.shape"
   ]
  },
  {
   "cell_type": "code",
   "execution_count": 82,
   "metadata": {},
   "outputs": [],
   "source": [
    "# stocks analysis"
   ]
  },
  {
   "cell_type": "code",
   "execution_count": 80,
   "metadata": {},
   "outputs": [],
   "source": [
    "stock_name = ['TSLA','NIO','XPEV','F']"
   ]
  },
  {
   "cell_type": "code",
   "execution_count": 84,
   "metadata": {},
   "outputs": [],
   "source": [
    "for i in stock_name:\n",
    "    stock_df = stocks[stocks['Stock Name'] == i]\n",
    "    stock_df['Date'] = pd.to_datetime(stock_df['Date'])\n",
    "    stock_df['Date'] = stock_df['Date'].dt.date"
   ]
  },
  {
   "cell_type": "code",
   "execution_count": 79,
   "metadata": {},
   "outputs": [
    {
     "data": {
      "text/plain": [
       "(3463, 8)"
      ]
     },
     "execution_count": 79,
     "metadata": {},
     "output_type": "execute_result"
    }
   ],
   "source": [
    "stock_df.shape"
   ]
  },
  {
   "cell_type": "code",
   "execution_count": 85,
   "metadata": {},
   "outputs": [
    {
     "data": {
      "text/html": [
       "<div>\n",
       "<style scoped>\n",
       "    .dataframe tbody tr th:only-of-type {\n",
       "        vertical-align: middle;\n",
       "    }\n",
       "\n",
       "    .dataframe tbody tr th {\n",
       "        vertical-align: top;\n",
       "    }\n",
       "\n",
       "    .dataframe thead th {\n",
       "        text-align: right;\n",
       "    }\n",
       "</style>\n",
       "<table border=\"1\" class=\"dataframe\">\n",
       "  <thead>\n",
       "    <tr style=\"text-align: right;\">\n",
       "      <th></th>\n",
       "      <th>Date</th>\n",
       "      <th>Open</th>\n",
       "      <th>High</th>\n",
       "      <th>Low</th>\n",
       "      <th>Close</th>\n",
       "      <th>Adj Close</th>\n",
       "      <th>Volume</th>\n",
       "      <th>Stock Name</th>\n",
       "    </tr>\n",
       "  </thead>\n",
       "  <tbody>\n",
       "    <tr>\n",
       "      <th>1011</th>\n",
       "      <td>2021-09-30</td>\n",
       "      <td>14.26</td>\n",
       "      <td>14.32</td>\n",
       "      <td>14.09</td>\n",
       "      <td>14.16</td>\n",
       "      <td>13.644224</td>\n",
       "      <td>78820500</td>\n",
       "      <td>F</td>\n",
       "    </tr>\n",
       "    <tr>\n",
       "      <th>1012</th>\n",
       "      <td>2021-10-01</td>\n",
       "      <td>14.26</td>\n",
       "      <td>14.37</td>\n",
       "      <td>14.01</td>\n",
       "      <td>14.16</td>\n",
       "      <td>13.644224</td>\n",
       "      <td>51880900</td>\n",
       "      <td>F</td>\n",
       "    </tr>\n",
       "    <tr>\n",
       "      <th>1013</th>\n",
       "      <td>2021-10-04</td>\n",
       "      <td>14.27</td>\n",
       "      <td>14.79</td>\n",
       "      <td>14.22</td>\n",
       "      <td>14.35</td>\n",
       "      <td>13.827302</td>\n",
       "      <td>78332500</td>\n",
       "      <td>F</td>\n",
       "    </tr>\n",
       "    <tr>\n",
       "      <th>1014</th>\n",
       "      <td>2021-10-05</td>\n",
       "      <td>14.44</td>\n",
       "      <td>14.44</td>\n",
       "      <td>14.11</td>\n",
       "      <td>14.29</td>\n",
       "      <td>13.769488</td>\n",
       "      <td>55915800</td>\n",
       "      <td>F</td>\n",
       "    </tr>\n",
       "    <tr>\n",
       "      <th>1015</th>\n",
       "      <td>2021-10-06</td>\n",
       "      <td>14.14</td>\n",
       "      <td>14.34</td>\n",
       "      <td>13.89</td>\n",
       "      <td>14.12</td>\n",
       "      <td>13.605680</td>\n",
       "      <td>61020300</td>\n",
       "      <td>F</td>\n",
       "    </tr>\n",
       "  </tbody>\n",
       "</table>\n",
       "</div>"
      ],
      "text/plain": [
       "            Date   Open   High    Low  Close  Adj Close    Volume Stock Name\n",
       "1011  2021-09-30  14.26  14.32  14.09  14.16  13.644224  78820500          F\n",
       "1012  2021-10-01  14.26  14.37  14.01  14.16  13.644224  51880900          F\n",
       "1013  2021-10-04  14.27  14.79  14.22  14.35  13.827302  78332500          F\n",
       "1014  2021-10-05  14.44  14.44  14.11  14.29  13.769488  55915800          F\n",
       "1015  2021-10-06  14.14  14.34  13.89  14.12  13.605680  61020300          F"
      ]
     },
     "execution_count": 85,
     "metadata": {},
     "output_type": "execute_result"
    }
   ],
   "source": [
    "stock_df.head()"
   ]
  },
  {
   "cell_type": "code",
   "execution_count": 86,
   "metadata": {},
   "outputs": [
    {
     "data": {
      "text/plain": [
       "Date           object\n",
       "Open          float64\n",
       "High          float64\n",
       "Low           float64\n",
       "Close         float64\n",
       "Adj Close     float64\n",
       "Volume          int64\n",
       "Stock Name     object\n",
       "dtype: object"
      ]
     },
     "execution_count": 86,
     "metadata": {},
     "output_type": "execute_result"
    }
   ],
   "source": [
    "stock_df.dtypes"
   ]
  },
  {
   "cell_type": "code",
   "execution_count": 87,
   "metadata": {},
   "outputs": [
    {
     "data": {
      "text/html": [
       "<div>\n",
       "<style scoped>\n",
       "    .dataframe tbody tr th:only-of-type {\n",
       "        vertical-align: middle;\n",
       "    }\n",
       "\n",
       "    .dataframe tbody tr th {\n",
       "        vertical-align: top;\n",
       "    }\n",
       "\n",
       "    .dataframe thead th {\n",
       "        text-align: right;\n",
       "    }\n",
       "</style>\n",
       "<table border=\"1\" class=\"dataframe\">\n",
       "  <thead>\n",
       "    <tr style=\"text-align: right;\">\n",
       "      <th></th>\n",
       "      <th>Date</th>\n",
       "      <th>Open</th>\n",
       "      <th>High</th>\n",
       "      <th>Low</th>\n",
       "      <th>Close</th>\n",
       "      <th>Adj Close</th>\n",
       "      <th>Volume</th>\n",
       "      <th>Stock Name</th>\n",
       "      <th>sentiment_score</th>\n",
       "    </tr>\n",
       "  </thead>\n",
       "  <tbody>\n",
       "    <tr>\n",
       "      <th>0</th>\n",
       "      <td>2021-09-30</td>\n",
       "      <td>14.26</td>\n",
       "      <td>14.32</td>\n",
       "      <td>14.09</td>\n",
       "      <td>14.16</td>\n",
       "      <td>13.644224</td>\n",
       "      <td>78820500</td>\n",
       "      <td>F</td>\n",
       "      <td>0.270055</td>\n",
       "    </tr>\n",
       "    <tr>\n",
       "      <th>1</th>\n",
       "      <td>2021-10-01</td>\n",
       "      <td>14.26</td>\n",
       "      <td>14.37</td>\n",
       "      <td>14.01</td>\n",
       "      <td>14.16</td>\n",
       "      <td>13.644224</td>\n",
       "      <td>51880900</td>\n",
       "      <td>F</td>\n",
       "      <td>0.239076</td>\n",
       "    </tr>\n",
       "    <tr>\n",
       "      <th>2</th>\n",
       "      <td>2021-10-04</td>\n",
       "      <td>14.27</td>\n",
       "      <td>14.79</td>\n",
       "      <td>14.22</td>\n",
       "      <td>14.35</td>\n",
       "      <td>13.827302</td>\n",
       "      <td>78332500</td>\n",
       "      <td>F</td>\n",
       "      <td>0.148188</td>\n",
       "    </tr>\n",
       "    <tr>\n",
       "      <th>3</th>\n",
       "      <td>2021-10-05</td>\n",
       "      <td>14.44</td>\n",
       "      <td>14.44</td>\n",
       "      <td>14.11</td>\n",
       "      <td>14.29</td>\n",
       "      <td>13.769488</td>\n",
       "      <td>55915800</td>\n",
       "      <td>F</td>\n",
       "      <td>0.097943</td>\n",
       "    </tr>\n",
       "    <tr>\n",
       "      <th>4</th>\n",
       "      <td>2021-10-06</td>\n",
       "      <td>14.14</td>\n",
       "      <td>14.34</td>\n",
       "      <td>13.89</td>\n",
       "      <td>14.12</td>\n",
       "      <td>13.605680</td>\n",
       "      <td>61020300</td>\n",
       "      <td>F</td>\n",
       "      <td>0.224944</td>\n",
       "    </tr>\n",
       "  </tbody>\n",
       "</table>\n",
       "</div>"
      ],
      "text/plain": [
       "         Date   Open   High    Low  Close  Adj Close    Volume Stock Name  \\\n",
       "0  2021-09-30  14.26  14.32  14.09  14.16  13.644224  78820500          F   \n",
       "1  2021-10-01  14.26  14.37  14.01  14.16  13.644224  51880900          F   \n",
       "2  2021-10-04  14.27  14.79  14.22  14.35  13.827302  78332500          F   \n",
       "3  2021-10-05  14.44  14.44  14.11  14.29  13.769488  55915800          F   \n",
       "4  2021-10-06  14.14  14.34  13.89  14.12  13.605680  61020300          F   \n",
       "\n",
       "  sentiment_score  \n",
       "0        0.270055  \n",
       "1        0.239076  \n",
       "2        0.148188  \n",
       "3        0.097943  \n",
       "4        0.224944  "
      ]
     },
     "execution_count": 87,
     "metadata": {},
     "output_type": "execute_result"
    }
   ],
   "source": [
    "final_df = stock_df.merge(twitt_df, on='Date', how='left')\n",
    "final_df.head()"
   ]
  },
  {
   "cell_type": "code",
   "execution_count": 88,
   "metadata": {},
   "outputs": [],
   "source": [
    "final_df = final_df.drop(columns=['Stock Name'])"
   ]
  },
  {
   "cell_type": "code",
   "execution_count": 89,
   "metadata": {},
   "outputs": [
    {
     "data": {
      "text/html": [
       "<div>\n",
       "<style scoped>\n",
       "    .dataframe tbody tr th:only-of-type {\n",
       "        vertical-align: middle;\n",
       "    }\n",
       "\n",
       "    .dataframe tbody tr th {\n",
       "        vertical-align: top;\n",
       "    }\n",
       "\n",
       "    .dataframe thead th {\n",
       "        text-align: right;\n",
       "    }\n",
       "</style>\n",
       "<table border=\"1\" class=\"dataframe\">\n",
       "  <thead>\n",
       "    <tr style=\"text-align: right;\">\n",
       "      <th></th>\n",
       "      <th>Date</th>\n",
       "      <th>Open</th>\n",
       "      <th>High</th>\n",
       "      <th>Low</th>\n",
       "      <th>Close</th>\n",
       "      <th>Adj Close</th>\n",
       "      <th>Volume</th>\n",
       "      <th>sentiment_score</th>\n",
       "    </tr>\n",
       "  </thead>\n",
       "  <tbody>\n",
       "    <tr>\n",
       "      <th>0</th>\n",
       "      <td>2021-09-30</td>\n",
       "      <td>14.26</td>\n",
       "      <td>14.32</td>\n",
       "      <td>14.09</td>\n",
       "      <td>14.16</td>\n",
       "      <td>13.644224</td>\n",
       "      <td>78820500</td>\n",
       "      <td>0.270055</td>\n",
       "    </tr>\n",
       "    <tr>\n",
       "      <th>1</th>\n",
       "      <td>2021-10-01</td>\n",
       "      <td>14.26</td>\n",
       "      <td>14.37</td>\n",
       "      <td>14.01</td>\n",
       "      <td>14.16</td>\n",
       "      <td>13.644224</td>\n",
       "      <td>51880900</td>\n",
       "      <td>0.239076</td>\n",
       "    </tr>\n",
       "    <tr>\n",
       "      <th>2</th>\n",
       "      <td>2021-10-04</td>\n",
       "      <td>14.27</td>\n",
       "      <td>14.79</td>\n",
       "      <td>14.22</td>\n",
       "      <td>14.35</td>\n",
       "      <td>13.827302</td>\n",
       "      <td>78332500</td>\n",
       "      <td>0.148188</td>\n",
       "    </tr>\n",
       "    <tr>\n",
       "      <th>3</th>\n",
       "      <td>2021-10-05</td>\n",
       "      <td>14.44</td>\n",
       "      <td>14.44</td>\n",
       "      <td>14.11</td>\n",
       "      <td>14.29</td>\n",
       "      <td>13.769488</td>\n",
       "      <td>55915800</td>\n",
       "      <td>0.097943</td>\n",
       "    </tr>\n",
       "    <tr>\n",
       "      <th>4</th>\n",
       "      <td>2021-10-06</td>\n",
       "      <td>14.14</td>\n",
       "      <td>14.34</td>\n",
       "      <td>13.89</td>\n",
       "      <td>14.12</td>\n",
       "      <td>13.605680</td>\n",
       "      <td>61020300</td>\n",
       "      <td>0.224944</td>\n",
       "    </tr>\n",
       "  </tbody>\n",
       "</table>\n",
       "</div>"
      ],
      "text/plain": [
       "         Date   Open   High    Low  Close  Adj Close    Volume sentiment_score\n",
       "0  2021-09-30  14.26  14.32  14.09  14.16  13.644224  78820500        0.270055\n",
       "1  2021-10-01  14.26  14.37  14.01  14.16  13.644224  51880900        0.239076\n",
       "2  2021-10-04  14.27  14.79  14.22  14.35  13.827302  78332500        0.148188\n",
       "3  2021-10-05  14.44  14.44  14.11  14.29  13.769488  55915800        0.097943\n",
       "4  2021-10-06  14.14  14.34  13.89  14.12  13.605680  61020300        0.224944"
      ]
     },
     "execution_count": 89,
     "metadata": {},
     "output_type": "execute_result"
    }
   ],
   "source": [
    "final_df.head()\n"
   ]
  },
  {
   "cell_type": "code",
   "execution_count": 90,
   "metadata": {},
   "outputs": [
    {
     "data": {
      "text/plain": [
       "[<matplotlib.lines.Line2D at 0x17e72b39d90>]"
      ]
     },
     "execution_count": 90,
     "metadata": {},
     "output_type": "execute_result"
    },
    {
     "data": {
      "image/png": "[encoded data removed]",
      "text/plain": [
       "<Figure size 1500x1000 with 1 Axes>"
      ]
     },
     "metadata": {},
     "output_type": "display_data"
    }
   ],
   "source": [
    "#Plot historical price data for each stock\n",
    "\n",
    "fig,ax = plt.subplots(figsize=(15,10))\n",
    "ax.plot(final_df['Date'], final_df['Close'], color='red', label='Close Price')"
   ]
  },
  {
   "cell_type": "code",
   "execution_count": 91,
   "metadata": {},
   "outputs": [],
   "source": [
    "#adding techinacal indicators \n",
    "\n",
    "def get_tech_ind(data):\n",
    "    data['MA7'] = data.iloc[:,4].rolling(window=7).mean() \n",
    "    data['MA20'] = data.iloc[:,4].rolling(window=20).mean() \n",
    "\n",
    "    data['MACD'] = data.iloc[:,4].ewm(span=26).mean() - data.iloc[:,1].ewm(span=12,adjust=False).mean()\n",
    "    #This is the difference of Closing price and Opening Price\n",
    "\n",
    "    # Create Bollinger Bands\n",
    "    data['20SD'] = data.iloc[:, 4].rolling(20).std()\n",
    "    data['upper_band'] = data['MA20'] + (data['20SD'] * 2)\n",
    "    data['lower_band'] = data['MA20'] - (data['20SD'] * 2)\n",
    "\n",
    "    # Create Exponential moving average\n",
    "    data['EMA'] = data.iloc[:,4].ewm(com=0.5).mean()\n",
    "\n",
    "    # Create LogMomentum\n",
    "    data['logmomentum'] = np.log(data.iloc[:,4] - 1)\n",
    "\n",
    "    return data"
   ]
  },
  {
   "cell_type": "code",
   "execution_count": 92,
   "metadata": {},
   "outputs": [
    {
     "data": {
      "text/html": [
       "<div>\n",
       "<style scoped>\n",
       "    .dataframe tbody tr th:only-of-type {\n",
       "        vertical-align: middle;\n",
       "    }\n",
       "\n",
       "    .dataframe tbody tr th {\n",
       "        vertical-align: top;\n",
       "    }\n",
       "\n",
       "    .dataframe thead th {\n",
       "        text-align: right;\n",
       "    }\n",
       "</style>\n",
       "<table border=\"1\" class=\"dataframe\">\n",
       "  <thead>\n",
       "    <tr style=\"text-align: right;\">\n",
       "      <th></th>\n",
       "      <th>Date</th>\n",
       "      <th>Open</th>\n",
       "      <th>High</th>\n",
       "      <th>Low</th>\n",
       "      <th>Close</th>\n",
       "      <th>Adj Close</th>\n",
       "      <th>Volume</th>\n",
       "      <th>sentiment_score</th>\n",
       "      <th>MA7</th>\n",
       "      <th>MA20</th>\n",
       "      <th>MACD</th>\n",
       "      <th>20SD</th>\n",
       "      <th>upper_band</th>\n",
       "      <th>lower_band</th>\n",
       "      <th>EMA</th>\n",
       "      <th>logmomentum</th>\n",
       "    </tr>\n",
       "  </thead>\n",
       "  <tbody>\n",
       "    <tr>\n",
       "      <th>0</th>\n",
       "      <td>2021-10-28</td>\n",
       "      <td>16.860001</td>\n",
       "      <td>17.580000</td>\n",
       "      <td>16.709999</td>\n",
       "      <td>16.860001</td>\n",
       "      <td>16.245878</td>\n",
       "      <td>215237600</td>\n",
       "      <td>0.235083</td>\n",
       "      <td>16.168572</td>\n",
       "      <td>15.4240</td>\n",
       "      <td>-0.234482</td>\n",
       "      <td>0.775401</td>\n",
       "      <td>16.974802</td>\n",
       "      <td>13.873199</td>\n",
       "      <td>16.463610</td>\n",
       "      <td>2.763800</td>\n",
       "    </tr>\n",
       "    <tr>\n",
       "      <th>1</th>\n",
       "      <td>2021-10-29</td>\n",
       "      <td>16.860001</td>\n",
       "      <td>17.360001</td>\n",
       "      <td>16.549999</td>\n",
       "      <td>17.080000</td>\n",
       "      <td>16.457863</td>\n",
       "      <td>100560700</td>\n",
       "      <td>0.174896</td>\n",
       "      <td>16.317143</td>\n",
       "      <td>15.5700</td>\n",
       "      <td>-0.253691</td>\n",
       "      <td>0.799408</td>\n",
       "      <td>17.168815</td>\n",
       "      <td>13.971185</td>\n",
       "      <td>16.874537</td>\n",
       "      <td>2.777576</td>\n",
       "    </tr>\n",
       "    <tr>\n",
       "      <th>2</th>\n",
       "      <td>2021-11-01</td>\n",
       "      <td>17.500000</td>\n",
       "      <td>17.969999</td>\n",
       "      <td>17.070000</td>\n",
       "      <td>17.950001</td>\n",
       "      <td>17.296175</td>\n",
       "      <td>125246500</td>\n",
       "      <td>0.233686</td>\n",
       "      <td>16.517143</td>\n",
       "      <td>15.7500</td>\n",
       "      <td>-0.284557</td>\n",
       "      <td>0.908150</td>\n",
       "      <td>17.566301</td>\n",
       "      <td>13.933699</td>\n",
       "      <td>17.591513</td>\n",
       "      <td>2.830268</td>\n",
       "    </tr>\n",
       "    <tr>\n",
       "      <th>3</th>\n",
       "      <td>2021-11-02</td>\n",
       "      <td>18.150000</td>\n",
       "      <td>18.190001</td>\n",
       "      <td>17.730000</td>\n",
       "      <td>18.010000</td>\n",
       "      <td>17.353991</td>\n",
       "      <td>115146200</td>\n",
       "      <td>0.186974</td>\n",
       "      <td>16.764286</td>\n",
       "      <td>15.9360</td>\n",
       "      <td>-0.395601</td>\n",
       "      <td>0.972086</td>\n",
       "      <td>17.880173</td>\n",
       "      <td>13.991828</td>\n",
       "      <td>17.870504</td>\n",
       "      <td>2.833801</td>\n",
       "    </tr>\n",
       "    <tr>\n",
       "      <th>4</th>\n",
       "      <td>2021-11-03</td>\n",
       "      <td>17.920000</td>\n",
       "      <td>18.830000</td>\n",
       "      <td>17.879999</td>\n",
       "      <td>18.629999</td>\n",
       "      <td>17.951405</td>\n",
       "      <td>104755500</td>\n",
       "      <td>0.188404</td>\n",
       "      <td>17.140000</td>\n",
       "      <td>16.1615</td>\n",
       "      <td>-0.390896</td>\n",
       "      <td>1.048730</td>\n",
       "      <td>18.258960</td>\n",
       "      <td>14.064040</td>\n",
       "      <td>18.376834</td>\n",
       "      <td>2.869602</td>\n",
       "    </tr>\n",
       "  </tbody>\n",
       "</table>\n",
       "</div>"
      ],
      "text/plain": [
       "         Date       Open       High        Low      Close  Adj Close  \\\n",
       "0  2021-10-28  16.860001  17.580000  16.709999  16.860001  16.245878   \n",
       "1  2021-10-29  16.860001  17.360001  16.549999  17.080000  16.457863   \n",
       "2  2021-11-01  17.500000  17.969999  17.070000  17.950001  17.296175   \n",
       "3  2021-11-02  18.150000  18.190001  17.730000  18.010000  17.353991   \n",
       "4  2021-11-03  17.920000  18.830000  17.879999  18.629999  17.951405   \n",
       "\n",
       "      Volume sentiment_score        MA7     MA20      MACD      20SD  \\\n",
       "0  215237600        0.235083  16.168572  15.4240 -0.234482  0.775401   \n",
       "1  100560700        0.174896  16.317143  15.5700 -0.253691  0.799408   \n",
       "2  125246500        0.233686  16.517143  15.7500 -0.284557  0.908150   \n",
       "3  115146200        0.186974  16.764286  15.9360 -0.395601  0.972086   \n",
       "4  104755500        0.188404  17.140000  16.1615 -0.390896  1.048730   \n",
       "\n",
       "   upper_band  lower_band        EMA  logmomentum  \n",
       "0   16.974802   13.873199  16.463610     2.763800  \n",
       "1   17.168815   13.971185  16.874537     2.777576  \n",
       "2   17.566301   13.933699  17.591513     2.830268  \n",
       "3   17.880173   13.991828  17.870504     2.833801  \n",
       "4   18.258960   14.064040  18.376834     2.869602  "
      ]
     },
     "execution_count": 92,
     "metadata": {},
     "output_type": "execute_result"
    }
   ],
   "source": [
    "tech_df = get_tech_ind(final_df)\n",
    "dataset = tech_df.iloc[20:,:].reset_index(drop=True)\n",
    "dataset.head()"
   ]
  },
  {
   "cell_type": "code",
   "execution_count": 94,
   "metadata": {},
   "outputs": [
    {
     "data": {
      "text/plain": [
       "(232, 16)"
      ]
     },
     "execution_count": 94,
     "metadata": {},
     "output_type": "execute_result"
    }
   ],
   "source": [
    "dataset.shape"
   ]
  },
  {
   "cell_type": "code",
   "execution_count": 95,
   "metadata": {},
   "outputs": [],
   "source": [
    "def tech_ind(dataset):\n",
    "    fig,ax = plt.subplots(figsize=(15, 8), dpi = 200)\n",
    "    x_ = range(3, dataset.shape[0])\n",
    "    x_ = list(dataset.index)\n",
    "\n",
    "    ax.plot(dataset['Date'], dataset['MA7'], label='Moving Average (7 days)', color='g', linestyle='--')\n",
    "    ax.plot(dataset['Date'], dataset['Close'], label='Closing Price', color='#6A5ACD')\n",
    "    ax.plot(dataset['Date'], dataset['MA20'], label='Moving Average (20 days)', color='r', linestyle='-.')\n",
    "    ax.xaxis.set_major_formatter(DateFormatter(\"%Y\"))\n",
    "    plt.title('Technical indicators')\n",
    "    plt.ylabel('Close (USD)')\n",
    "    plt.xlabel(\"Year\")\n",
    "    plt.legend()\n",
    "\n",
    "    plt.show()"
   ]
  },
  {
   "cell_type": "code",
   "execution_count": 96,
   "metadata": {},
   "outputs": [
    {
     "data": {
      "image/png": "[encoded data removed]",
      "text/plain": [
       "<Figure size 3000x1600 with 1 Axes>"
      ]
     },
     "metadata": {},
     "output_type": "display_data"
    }
   ],
   "source": [
    "tech_ind(tech_df)"
   ]
  },
  {
   "cell_type": "code",
   "execution_count": 97,
   "metadata": {},
   "outputs": [],
   "source": [
    "dataset.iloc[:, 1:] = pd.concat([dataset.iloc[:, 1:].ffill()])\n"
   ]
  },
  {
   "cell_type": "code",
   "execution_count": 98,
   "metadata": {},
   "outputs": [
    {
     "data": {
      "text/html": [
       "<div>\n",
       "<style scoped>\n",
       "    .dataframe tbody tr th:only-of-type {\n",
       "        vertical-align: middle;\n",
       "    }\n",
       "\n",
       "    .dataframe tbody tr th {\n",
       "        vertical-align: top;\n",
       "    }\n",
       "\n",
       "    .dataframe thead th {\n",
       "        text-align: right;\n",
       "    }\n",
       "</style>\n",
       "<table border=\"1\" class=\"dataframe\">\n",
       "  <thead>\n",
       "    <tr style=\"text-align: right;\">\n",
       "      <th></th>\n",
       "      <th>Date</th>\n",
       "      <th>Open</th>\n",
       "      <th>High</th>\n",
       "      <th>Low</th>\n",
       "      <th>Close</th>\n",
       "      <th>Adj Close</th>\n",
       "      <th>Volume</th>\n",
       "      <th>sentiment_score</th>\n",
       "      <th>MA7</th>\n",
       "      <th>MA20</th>\n",
       "      <th>MACD</th>\n",
       "      <th>20SD</th>\n",
       "      <th>upper_band</th>\n",
       "      <th>lower_band</th>\n",
       "      <th>EMA</th>\n",
       "      <th>logmomentum</th>\n",
       "    </tr>\n",
       "  </thead>\n",
       "  <tbody>\n",
       "    <tr>\n",
       "      <th>0</th>\n",
       "      <td>2021-10-28</td>\n",
       "      <td>16.860001</td>\n",
       "      <td>17.580000</td>\n",
       "      <td>16.709999</td>\n",
       "      <td>16.860001</td>\n",
       "      <td>16.245878</td>\n",
       "      <td>215237600</td>\n",
       "      <td>0.235083</td>\n",
       "      <td>16.168572</td>\n",
       "      <td>15.4240</td>\n",
       "      <td>-0.234482</td>\n",
       "      <td>0.775401</td>\n",
       "      <td>16.974802</td>\n",
       "      <td>13.873199</td>\n",
       "      <td>16.463610</td>\n",
       "      <td>2.763800</td>\n",
       "    </tr>\n",
       "    <tr>\n",
       "      <th>1</th>\n",
       "      <td>2021-10-29</td>\n",
       "      <td>16.860001</td>\n",
       "      <td>17.360001</td>\n",
       "      <td>16.549999</td>\n",
       "      <td>17.080000</td>\n",
       "      <td>16.457863</td>\n",
       "      <td>100560700</td>\n",
       "      <td>0.174896</td>\n",
       "      <td>16.317143</td>\n",
       "      <td>15.5700</td>\n",
       "      <td>-0.253691</td>\n",
       "      <td>0.799408</td>\n",
       "      <td>17.168815</td>\n",
       "      <td>13.971185</td>\n",
       "      <td>16.874537</td>\n",
       "      <td>2.777576</td>\n",
       "    </tr>\n",
       "    <tr>\n",
       "      <th>2</th>\n",
       "      <td>2021-11-01</td>\n",
       "      <td>17.500000</td>\n",
       "      <td>17.969999</td>\n",
       "      <td>17.070000</td>\n",
       "      <td>17.950001</td>\n",
       "      <td>17.296175</td>\n",
       "      <td>125246500</td>\n",
       "      <td>0.233686</td>\n",
       "      <td>16.517143</td>\n",
       "      <td>15.7500</td>\n",
       "      <td>-0.284557</td>\n",
       "      <td>0.908150</td>\n",
       "      <td>17.566301</td>\n",
       "      <td>13.933699</td>\n",
       "      <td>17.591513</td>\n",
       "      <td>2.830268</td>\n",
       "    </tr>\n",
       "    <tr>\n",
       "      <th>3</th>\n",
       "      <td>2021-11-02</td>\n",
       "      <td>18.150000</td>\n",
       "      <td>18.190001</td>\n",
       "      <td>17.730000</td>\n",
       "      <td>18.010000</td>\n",
       "      <td>17.353991</td>\n",
       "      <td>115146200</td>\n",
       "      <td>0.186974</td>\n",
       "      <td>16.764286</td>\n",
       "      <td>15.9360</td>\n",
       "      <td>-0.395601</td>\n",
       "      <td>0.972086</td>\n",
       "      <td>17.880173</td>\n",
       "      <td>13.991828</td>\n",
       "      <td>17.870504</td>\n",
       "      <td>2.833801</td>\n",
       "    </tr>\n",
       "    <tr>\n",
       "      <th>4</th>\n",
       "      <td>2021-11-03</td>\n",
       "      <td>17.920000</td>\n",
       "      <td>18.830000</td>\n",
       "      <td>17.879999</td>\n",
       "      <td>18.629999</td>\n",
       "      <td>17.951405</td>\n",
       "      <td>104755500</td>\n",
       "      <td>0.188404</td>\n",
       "      <td>17.140000</td>\n",
       "      <td>16.1615</td>\n",
       "      <td>-0.390896</td>\n",
       "      <td>1.048730</td>\n",
       "      <td>18.258960</td>\n",
       "      <td>14.064040</td>\n",
       "      <td>18.376834</td>\n",
       "      <td>2.869602</td>\n",
       "    </tr>\n",
       "    <tr>\n",
       "      <th>...</th>\n",
       "      <td>...</td>\n",
       "      <td>...</td>\n",
       "      <td>...</td>\n",
       "      <td>...</td>\n",
       "      <td>...</td>\n",
       "      <td>...</td>\n",
       "      <td>...</td>\n",
       "      <td>...</td>\n",
       "      <td>...</td>\n",
       "      <td>...</td>\n",
       "      <td>...</td>\n",
       "      <td>...</td>\n",
       "      <td>...</td>\n",
       "      <td>...</td>\n",
       "      <td>...</td>\n",
       "      <td>...</td>\n",
       "    </tr>\n",
       "    <tr>\n",
       "      <th>227</th>\n",
       "      <td>2022-09-23</td>\n",
       "      <td>12.330000</td>\n",
       "      <td>12.440000</td>\n",
       "      <td>11.950000</td>\n",
       "      <td>12.310000</td>\n",
       "      <td>12.182656</td>\n",
       "      <td>104043700</td>\n",
       "      <td>0.163135</td>\n",
       "      <td>13.680000</td>\n",
       "      <td>14.7035</td>\n",
       "      <td>0.404937</td>\n",
       "      <td>1.022624</td>\n",
       "      <td>16.748749</td>\n",
       "      <td>12.658251</td>\n",
       "      <td>12.517957</td>\n",
       "      <td>2.425687</td>\n",
       "    </tr>\n",
       "    <tr>\n",
       "      <th>228</th>\n",
       "      <td>2022-09-26</td>\n",
       "      <td>12.210000</td>\n",
       "      <td>12.380000</td>\n",
       "      <td>11.930000</td>\n",
       "      <td>11.990000</td>\n",
       "      <td>11.865966</td>\n",
       "      <td>89300400</td>\n",
       "      <td>0.120966</td>\n",
       "      <td>13.265715</td>\n",
       "      <td>14.5325</td>\n",
       "      <td>0.506224</td>\n",
       "      <td>1.173133</td>\n",
       "      <td>16.878766</td>\n",
       "      <td>12.186234</td>\n",
       "      <td>12.165986</td>\n",
       "      <td>2.396986</td>\n",
       "    </tr>\n",
       "    <tr>\n",
       "      <th>229</th>\n",
       "      <td>2022-09-27</td>\n",
       "      <td>12.210000</td>\n",
       "      <td>12.220000</td>\n",
       "      <td>11.660000</td>\n",
       "      <td>11.910000</td>\n",
       "      <td>11.786794</td>\n",
       "      <td>87044400</td>\n",
       "      <td>0.219417</td>\n",
       "      <td>12.864286</td>\n",
       "      <td>14.3495</td>\n",
       "      <td>0.571378</td>\n",
       "      <td>1.283086</td>\n",
       "      <td>16.915672</td>\n",
       "      <td>11.783328</td>\n",
       "      <td>11.995328</td>\n",
       "      <td>2.389680</td>\n",
       "    </tr>\n",
       "    <tr>\n",
       "      <th>230</th>\n",
       "      <td>2022-09-28</td>\n",
       "      <td>11.910000</td>\n",
       "      <td>12.240000</td>\n",
       "      <td>11.760000</td>\n",
       "      <td>12.180000</td>\n",
       "      <td>12.054001</td>\n",
       "      <td>72701600</td>\n",
       "      <td>0.133114</td>\n",
       "      <td>12.471429</td>\n",
       "      <td>14.1860</td>\n",
       "      <td>0.678648</td>\n",
       "      <td>1.342442</td>\n",
       "      <td>16.870885</td>\n",
       "      <td>11.501115</td>\n",
       "      <td>12.118443</td>\n",
       "      <td>2.414126</td>\n",
       "    </tr>\n",
       "    <tr>\n",
       "      <th>231</th>\n",
       "      <td>2022-09-29</td>\n",
       "      <td>11.850000</td>\n",
       "      <td>11.880000</td>\n",
       "      <td>11.360000</td>\n",
       "      <td>11.470000</td>\n",
       "      <td>11.351345</td>\n",
       "      <td>84534900</td>\n",
       "      <td>0.071146</td>\n",
       "      <td>12.240000</td>\n",
       "      <td>13.9975</td>\n",
       "      <td>0.714673</td>\n",
       "      <td>1.447247</td>\n",
       "      <td>16.891995</td>\n",
       "      <td>11.103005</td>\n",
       "      <td>11.686148</td>\n",
       "      <td>2.348514</td>\n",
       "    </tr>\n",
       "  </tbody>\n",
       "</table>\n",
       "<p>232 rows × 16 columns</p>\n",
       "</div>"
      ],
      "text/plain": [
       "           Date       Open       High        Low      Close  Adj Close  \\\n",
       "0    2021-10-28  16.860001  17.580000  16.709999  16.860001  16.245878   \n",
       "1    2021-10-29  16.860001  17.360001  16.549999  17.080000  16.457863   \n",
       "2    2021-11-01  17.500000  17.969999  17.070000  17.950001  17.296175   \n",
       "3    2021-11-02  18.150000  18.190001  17.730000  18.010000  17.353991   \n",
       "4    2021-11-03  17.920000  18.830000  17.879999  18.629999  17.951405   \n",
       "..          ...        ...        ...        ...        ...        ...   \n",
       "227  2022-09-23  12.330000  12.440000  11.950000  12.310000  12.182656   \n",
       "228  2022-09-26  12.210000  12.380000  11.930000  11.990000  11.865966   \n",
       "229  2022-09-27  12.210000  12.220000  11.660000  11.910000  11.786794   \n",
       "230  2022-09-28  11.910000  12.240000  11.760000  12.180000  12.054001   \n",
       "231  2022-09-29  11.850000  11.880000  11.360000  11.470000  11.351345   \n",
       "\n",
       "        Volume sentiment_score        MA7     MA20      MACD      20SD  \\\n",
       "0    215237600        0.235083  16.168572  15.4240 -0.234482  0.775401   \n",
       "1    100560700        0.174896  16.317143  15.5700 -0.253691  0.799408   \n",
       "2    125246500        0.233686  16.517143  15.7500 -0.284557  0.908150   \n",
       "3    115146200        0.186974  16.764286  15.9360 -0.395601  0.972086   \n",
       "4    104755500        0.188404  17.140000  16.1615 -0.390896  1.048730   \n",
       "..         ...             ...        ...      ...       ...       ...   \n",
       "227  104043700        0.163135  13.680000  14.7035  0.404937  1.022624   \n",
       "228   89300400        0.120966  13.265715  14.5325  0.506224  1.173133   \n",
       "229   87044400        0.219417  12.864286  14.3495  0.571378  1.283086   \n",
       "230   72701600        0.133114  12.471429  14.1860  0.678648  1.342442   \n",
       "231   84534900        0.071146  12.240000  13.9975  0.714673  1.447247   \n",
       "\n",
       "     upper_band  lower_band        EMA  logmomentum  \n",
       "0     16.974802   13.873199  16.463610     2.763800  \n",
       "1     17.168815   13.971185  16.874537     2.777576  \n",
       "2     17.566301   13.933699  17.591513     2.830268  \n",
       "3     17.880173   13.991828  17.870504     2.833801  \n",
       "4     18.258960   14.064040  18.376834     2.869602  \n",
       "..          ...         ...        ...          ...  \n",
       "227   16.748749   12.658251  12.517957     2.425687  \n",
       "228   16.878766   12.186234  12.165986     2.396986  \n",
       "229   16.915672   11.783328  11.995328     2.389680  \n",
       "230   16.870885   11.501115  12.118443     2.414126  \n",
       "231   16.891995   11.103005  11.686148     2.348514  \n",
       "\n",
       "[232 rows x 16 columns]"
      ]
     },
     "execution_count": 98,
     "metadata": {},
     "output_type": "execute_result"
    }
   ],
   "source": [
    "dataset"
   ]
  },
  {
   "cell_type": "code",
   "execution_count": 99,
   "metadata": {},
   "outputs": [],
   "source": [
    "datetime_series = pd.to_datetime(dataset['Date'])\n",
    "datetime_index = pd.DatetimeIndex(datetime_series.values)\n",
    "dataset = dataset.set_index(datetime_index)\n",
    "dataset = dataset.sort_values(by='Date')\n",
    "dataset = dataset.drop(columns='Date')"
   ]
  },
  {
   "cell_type": "code",
   "execution_count": 101,
   "metadata": {},
   "outputs": [
    {
     "data": {
      "text/plain": [
       "(0     2021-10-28\n",
       " 1     2021-10-29\n",
       " 2     2021-11-01\n",
       " 3     2021-11-02\n",
       " 4     2021-11-03\n",
       "          ...    \n",
       " 227   2022-09-23\n",
       " 228   2022-09-26\n",
       " 229   2022-09-27\n",
       " 230   2022-09-28\n",
       " 231   2022-09-29\n",
       " Name: Date, Length: 232, dtype: datetime64[ns],\n",
       " DatetimeIndex(['2021-10-28', '2021-10-29', '2021-11-01', '2021-11-02',\n",
       "                '2021-11-03', '2021-11-04', '2021-11-05', '2021-11-08',\n",
       "                '2021-11-09', '2021-11-10',\n",
       "                ...\n",
       "                '2022-09-16', '2022-09-19', '2022-09-20', '2022-09-21',\n",
       "                '2022-09-22', '2022-09-23', '2022-09-26', '2022-09-27',\n",
       "                '2022-09-28', '2022-09-29'],\n",
       "               dtype='datetime64[ns]', length=232, freq=None))"
      ]
     },
     "execution_count": 101,
     "metadata": {},
     "output_type": "execute_result"
    }
   ],
   "source": [
    "datetime_series,datetime_index"
   ]
  },
  {
   "cell_type": "code",
   "execution_count": 102,
   "metadata": {},
   "outputs": [],
   "source": [
    "def normalize_data(df, range, target_column):\n",
    "\n",
    "    target_df_series = pd.DataFrame(df[target_column])\n",
    "    data = pd.DataFrame(df.iloc[:, :])\n",
    "\n",
    "    X_scaler = MinMaxScaler(feature_range=range)\n",
    "    y_scaler = MinMaxScaler(feature_range=range)\n",
    "    X_scaler.fit(data)\n",
    "    y_scaler.fit(target_df_series)\n",
    "\n",
    "    X_scale_dataset = X_scaler.fit_transform(data)\n",
    "    y_scale_dataset = y_scaler.fit_transform(target_df_series)\n",
    "    \n",
    "    dump(X_scaler, open('X_scaler.pkl', 'wb'))\n",
    "    dump(y_scaler, open('y_scaler.pkl', 'wb'))\n",
    "\n",
    "    return (X_scale_dataset,y_scale_dataset)"
   ]
  },
  {
   "cell_type": "code",
   "execution_count": 103,
   "metadata": {},
   "outputs": [],
   "source": [
    "def batch_data(x_data,y_data, batch_size, predict_period):\n",
    "    X_batched, y_batched, yc = list(), list(), list()\n",
    "\n",
    "    for i in range(0,len(x_data),1):\n",
    "        x_value = x_data[i: i + batch_size][:, :]\n",
    "        y_value = y_data[i + batch_size: i + batch_size + predict_period][:, 0]\n",
    "        yc_value = y_data[i: i + batch_size][:, :]\n",
    "        if len(x_value) == batch_size and len(y_value) == predict_period:\n",
    "            X_batched.append(x_value)\n",
    "            y_batched.append(y_value)\n",
    "            yc.append(yc_value)\n",
    "\n",
    "    return np.array(X_batched), np.array(y_batched), np.array(yc)"
   ]
  },
  {
   "cell_type": "code",
   "execution_count": 104,
   "metadata": {},
   "outputs": [],
   "source": [
    "def split_train_test(data):\n",
    "    train_size = len(data) - 20\n",
    "    data_train = data[0:train_size]\n",
    "    data_test = data[train_size:]\n",
    "    return data_train, data_test"
   ]
  },
  {
   "cell_type": "code",
   "execution_count": 105,
   "metadata": {},
   "outputs": [],
   "source": [
    "def predict_index(dataset, X_train, batch_size, prediction_period):\n",
    "    train_predict_index = dataset.iloc[batch_size: X_train.shape[0] + batch_size + prediction_period, :].index\n",
    "    test_predict_index = dataset.iloc[X_train.shape[0] + batch_size:, :].index\n",
    "\n",
    "    return train_predict_index, test_predict_index"
   ]
  },
  {
   "cell_type": "code",
   "execution_count": 106,
   "metadata": {},
   "outputs": [
    {
     "name": "stdout",
     "output_type": "stream",
     "text": [
      "X shape: (227, 5, 15)\n",
      "y shape: (227, 1)\n",
      "yc shape: (227, 5, 1)\n"
     ]
    }
   ],
   "source": [
    "X_scale_dataset,y_scale_dataset = normalize_data(dataset, (-1,1), \"Close\")\n",
    "X_batched, y_batched, yc = batch_data(X_scale_dataset, y_scale_dataset, batch_size = 5, predict_period = 1)\n",
    "print(\"X shape:\", X_batched.shape)\n",
    "print(\"y shape:\", y_batched.shape)\n",
    "print(\"yc shape:\", yc.shape)\n",
    "\n",
    "X_train, X_test, = split_train_test(X_batched)\n",
    "y_train, y_test, = split_train_test(y_batched)\n",
    "yc_train, yc_test, = split_train_test(yc)\n",
    "index_train, index_test, = predict_index(dataset, X_train, 5, 1)"
   ]
  },
  {
   "cell_type": "code",
   "execution_count": 107,
   "metadata": {},
   "outputs": [],
   "source": [
    "input_dim = X_train.shape[1] \n",
    "feature_size = X_train.shape[2] \n",
    "output_dim = y_train.shape[1]"
   ]
  },
  {
   "cell_type": "code",
   "execution_count": 110,
   "metadata": {},
   "outputs": [
    {
     "data": {
      "text/plain": [
       "(5, 15, 1)"
      ]
     },
     "execution_count": 110,
     "metadata": {},
     "output_type": "execute_result"
    }
   ],
   "source": [
    "input_dim,feature_size,output_dim"
   ]
  },
  {
   "cell_type": "code",
   "execution_count": 111,
   "metadata": {},
   "outputs": [],
   "source": [
    "#build GAN model "
   ]
  },
  {
   "cell_type": "code",
   "execution_count": 112,
   "metadata": {},
   "outputs": [],
   "source": [
    "def make_generator_model(input_dim,output_dim,feature_size):\n",
    "    model =tf.keras.Sequential([LSTM(units= 1024, return_sequences=True, input_shape=(input_dim, feature_size)),LSTM(units = 512, return_sequences = True, recurrent_dropout = 0.3),\n",
    "                               LSTM(units = 256, return_sequences = True, recurrent_dropout = 0.3),\n",
    "                               LSTM(units = 128, return_sequences = True, recurrent_dropout = 0.3),\n",
    "                               LSTM(units = 64, recurrent_dropout = 0.3),\n",
    "                               Dense(32),\n",
    "                               Dense(16),\n",
    "                               Dense(8),\n",
    "                               Dense(units=output_dim)])\n",
    "    return model"
   ]
  },
  {
   "cell_type": "code",
   "execution_count": 113,
   "metadata": {},
   "outputs": [],
   "source": [
    "def make_discriminator_model(input_dim):\n",
    "    cnn_net = tf.keras.Sequential()\n",
    "    cnn_net.add(Conv1D(8,input_shape=(input_dim+1,1),kernel_size=3,strides =2,padding = 'same',activation='relu'))\n",
    "    cnn_net.add(Conv1D(16,kernel_size=3,strides =2,padding = 'same',activation='relu'))\n",
    "    cnn_net.add(Conv1D(32,kernel_size=3,strides =2,padding = 'same',activation='relu'))\n",
    "    cnn_net.add(Conv1D(64,kernel_size=3,strides =2,padding = 'same',activation='relu'))\n",
    "    cnn_net.add(Conv1D(128,kernel_size=3,strides =2,padding = 'same',activation='relu'))\n",
    "    cnn_net.add(LeakyReLU())\n",
    "    cnn_net.add(Dense(220,use_bias = False))\n",
    "    cnn_net.add(LeakyReLU())\n",
    "    cnn_net.add(Dense(220,use_bias = False,activation = 'relu'))\n",
    "    cnn_net.add(LeakyReLU())\n",
    "    cnn_net.add(Dense(1,activation = 'sigmoid'))\n",
    "    return cnn_net"
   ]
  },
  {
   "cell_type": "code",
   "execution_count": 114,
   "metadata": {},
   "outputs": [],
   "source": [
    "def discriminator_loss(real_output,fake_output):\n",
    "    loss_f = tf.keras.losses.BinaryCrossentropy(from_logits=True)\n",
    "    real_loss = loss_f(tf.ones_like(real_output),real_output)\n",
    "    fake_loss = loss_f(tf.zeros_like(fake_output),fake_output)\n",
    "    total_loss = real_loss + fake_loss\n",
    "    return total_loss"
   ]
  },
  {
   "cell_type": "code",
   "execution_count": 115,
   "metadata": {},
   "outputs": [],
   "source": [
    "def generator_loss(fake_output):\n",
    "    loss_f = tf.keras.losses.BinaryCrossentropy(from_logits=True)\n",
    "    return loss_f(tf.ones_like(fake_output),fake_output)"
   ]
  },
  {
   "cell_type": "code",
   "execution_count": 116,
   "metadata": {},
   "outputs": [],
   "source": [
    "@tf.function\n",
    "\n",
    "def train_step(real_x, real_y, yc, generator, discriminator, g_optimizer, d_optimizer):\n",
    "    with tf.GradientTape() as gen_tape, tf.GradientTape() as disc_tape:\n",
    "        generated_data = generator(real_x, training=True)\n",
    "        generated_data_reshape = tf.reshape(generated_data, [generated_data.shape[0], generated_data.shape[1], 1])\n",
    "        d_fake_input = tf.concat([tf.cast(generated_data_reshape, tf.float64), yc], axis=1)\n",
    "        real_y_reshape = tf.reshape(real_y, [real_y.shape[0], real_y.shape[1], 1])\n",
    "        d_real_input = tf.concat([real_y_reshape, yc], axis=1)\n",
    "\n",
    "        real_output = discriminator(d_real_input, training=True)\n",
    "        fake_output = discriminator(d_fake_input, training=True)\n",
    "\n",
    "        g_loss = generator_loss(fake_output)\n",
    "        disc_loss = discriminator_loss(real_output, fake_output)\n",
    "\n",
    "    gradients_of_generator = gen_tape.gradient(g_loss, generator.trainable_variables)\n",
    "    gradients_of_discriminator = disc_tape.gradient(disc_loss, discriminator.trainable_variables)\n",
    "\n",
    "    g_optimizer.apply_gradients(zip(gradients_of_generator, generator.trainable_variables))\n",
    "    d_optimizer.apply_gradients(zip(gradients_of_discriminator, discriminator.trainable_variables))\n",
    "\n",
    "    return real_y, generated_data, {'d_loss': disc_loss, 'g_loss': g_loss}"
   ]
  },
  {
   "cell_type": "code",
   "execution_count": 117,
   "metadata": {},
   "outputs": [],
   "source": [
    "def train(real_x, real_y, yc, Epochs, generator, discriminator, g_optimizer, d_optimizer, checkpoint = 50):\n",
    "    train_info = {}\n",
    "    train_info[\"discriminator_loss\"] = []\n",
    "    train_info[\"generator_loss\"] = []\n",
    "\n",
    "    for epoch in tqdm(range(Epochs)):\n",
    "        real_price, fake_price, loss = train_step(real_x, real_y, yc, generator, discriminator, g_optimizer, d_optimizer)\n",
    "        G_losses = []\n",
    "        D_losses = []\n",
    "        Real_price = []\n",
    "        Predicted_price = []\n",
    "        D_losses.append(loss['d_loss'].numpy())\n",
    "        G_losses.append(loss['g_loss'].numpy())\n",
    "        Predicted_price.append(fake_price.numpy())\n",
    "        Real_price.append(real_price.numpy())\n",
    "\n",
    "        #Save model every X checkpoints\n",
    "        if (epoch + 1) % checkpoint == 0:\n",
    "            tf.keras.models.save_model(generator, f'./models_gan/{stock_name}/generator_V_%d.h5' % epoch)\n",
    "            tf.keras.models.save_model(discriminator, f'./models_gan/{stock_name}/discriminator_V_%d.h5' % epoch)\n",
    "            print('epoch', epoch + 1, 'discriminator_loss', loss['d_loss'].numpy(), 'generator_loss', loss['g_loss'].numpy())\n",
    "    \n",
    "        train_info[\"discriminator_loss\"].append(D_losses)\n",
    "        train_info[\"generator_loss\"].append(G_losses)\n",
    "  \n",
    "    Predicted_price = np.array(Predicted_price)\n",
    "    Predicted_price = Predicted_price.reshape(Predicted_price.shape[1], Predicted_price.shape[2])\n",
    "    Real_price = np.array(Real_price)\n",
    "    Real_price = Real_price.reshape(Real_price.shape[1], Real_price.shape[2])\n",
    "\n",
    "    plt.subplot(2,1,1)\n",
    "    plt.plot(train_info[\"discriminator_loss\"], label='Disc_loss', color='#000000')\n",
    "    plt.xlabel('Epoch')\n",
    "    plt.ylabel('Discriminator Loss')\n",
    "    plt.legend()\n",
    "\n",
    "    plt.subplot(2,1,2)\n",
    "    plt.plot(train_info[\"generator_loss\"], label='Gen_loss', color='#000000')\n",
    "    plt.xlabel('Epoch')\n",
    "    plt.ylabel('Generator Loss')\n",
    "    plt.legend()\n",
    "\n",
    "    plt.show()\n",
    "\n",
    "    return Predicted_price, Real_price, np.sqrt(mean_squared_error(Real_price, Predicted_price)) / np.mean(Real_price)"
   ]
  },
  {
   "cell_type": "code",
   "execution_count": 118,
   "metadata": {},
   "outputs": [],
   "source": [
    "def plot_results(Real_price, Predicted_price, index_train):\n",
    "    X_scaler = load(open('/content/X_scaler.pkl', 'rb'))\n",
    "    y_scaler = load(open('/content/y_scaler.pkl', 'rb'))\n",
    "    train_predict_index = index_train\n",
    "\n",
    "    rescaled_Real_price = y_scaler.inverse_transform(Real_price)\n",
    "    rescaled_Predicted_price = y_scaler.inverse_transform(Predicted_price)\n",
    "\n",
    "    predict_result = pd.DataFrame()\n",
    "    for i in range(rescaled_Predicted_price.shape[0]):\n",
    "        y_predict = pd.DataFrame(rescaled_Predicted_price[i], columns=[\"predicted_price\"], index=train_predict_index[i:i+output_dim])\n",
    "        predict_result = pd.concat([predict_result, y_predict], axis=1, sort=False)\n",
    "  \n",
    "    real_price = pd.DataFrame()\n",
    "    for i in range(rescaled_Real_price.shape[0]):\n",
    "        y_train = pd.DataFrame(rescaled_Real_price[i], columns=[\"real_price\"], index=train_predict_index[i:i+output_dim])\n",
    "        real_price = pd.concat([real_price, y_train], axis=1, sort=False)\n",
    "  \n",
    "    predict_result['predicted_mean'] = predict_result.mean(axis=1)\n",
    "    real_price['real_mean'] = real_price.mean(axis=1)\n",
    "\n",
    "    plt.figure(figsize=(16, 8))\n",
    "    plt.plot(real_price[\"real_mean\"])\n",
    "    plt.plot(predict_result[\"predicted_mean\"], color = 'r')\n",
    "    plt.xlabel(\"Date\")\n",
    "    plt.ylabel(\"Stock price\")\n",
    "    plt.legend((\"Real price\", \"Predicted price\"), loc=\"upper left\", fontsize=16)\n",
    "    plt.title(\"The result of Training\", fontsize=20)\n",
    "    plt.show()\n",
    "\n",
    "    predicted = predict_result[\"predicted_mean\"]\n",
    "    real = real_price[\"real_mean\"]\n",
    "    For_MSE = pd.concat([predicted, real], axis = 1)\n",
    "    RMSE = np.sqrt(mean_squared_error(predicted, real))\n",
    "    print('-- Train RMSE -- ', RMSE)"
   ]
  },
  {
   "cell_type": "code",
   "execution_count": 119,
   "metadata": {},
   "outputs": [],
   "source": [
    "\n",
    "\n",
    "@tf.function \n",
    "\n",
    "def eval_op(generator, real_x):\n",
    "    generated_data = generator(real_x, training = False)\n",
    "\n",
    "    return generated_data"
   ]
  },
  {
   "cell_type": "code",
   "execution_count": 120,
   "metadata": {},
   "outputs": [],
   "source": [
    "def plot_test_data(Real_test_price, Predicted_test_price, index_test):\n",
    "    X_scaler = load(open('X_scaler.pkl', 'rb'))\n",
    "    y_scaler = load(open('y_scaler.pkl', 'rb'))\n",
    "    test_predict_index = index_test\n",
    "\n",
    "    rescaled_Real_price = y_scaler.inverse_transform(Real_test_price)\n",
    "    rescaled_Predicted_price = y_scaler.inverse_transform(Predicted_test_price)\n",
    "\n",
    "    predict_result = pd.DataFrame()\n",
    "    for i in range(rescaled_Predicted_price.shape[0]):\n",
    "        y_predict = pd.DataFrame(rescaled_Predicted_price[i], columns=[\"predicted_price\"], index=test_predict_index[i:i+output_dim])\n",
    "        predict_result = pd.concat([predict_result, y_predict], axis=1, sort=False)\n",
    "  \n",
    "    real_price = pd.DataFrame()\n",
    "    for i in range(rescaled_Real_price.shape[0]):\n",
    "        y_train = pd.DataFrame(rescaled_Real_price[i], columns=[\"real_price\"], index=test_predict_index[i:i+output_dim])\n",
    "        real_price = pd.concat([real_price, y_train], axis=1, sort=False)\n",
    "  \n",
    "    predict_result['predicted_mean'] = predict_result.mean(axis=1)\n",
    "    real_price['real_mean'] = real_price.mean(axis=1)\n",
    "\n",
    "    predicted = predict_result[\"predicted_mean\"]\n",
    "    real = real_price[\"real_mean\"]\n",
    "    For_MSE = pd.concat([predicted, real], axis = 1)\n",
    "    RMSE = np.sqrt(mean_squared_error(predicted, real))\n",
    "    print('Test RMSE: ', RMSE)\n",
    "    \n",
    "    plt.figure(figsize=(16, 8))\n",
    "    plt.plot(real_price[\"real_mean\"], color='#00008B')\n",
    "    plt.plot(predict_result[\"predicted_mean\"], color = '#8B0000', linestyle='--')\n",
    "    plt.xlabel(\"Date\")\n",
    "    plt.ylabel(\"Stock price\")\n",
    "    plt.legend((\"Real price\", \"Predicted price\"), loc=\"upper left\", fontsize=16)\n",
    "    plt.title(f\"Prediction on test data for {stock_name}\", fontsize=20)\n",
    "    plt.show()\n"
   ]
  },
  {
   "cell_type": "code",
   "execution_count": 121,
   "metadata": {},
   "outputs": [
    {
     "name": "stderr",
     "output_type": "stream",
     "text": [
      "WARNING:absl:`lr` is deprecated in Keras optimizer, please use `learning_rate` or use the legacy optimizer, e.g.,tf.keras.optimizers.legacy.Adam.\n",
      "WARNING:absl:`lr` is deprecated in Keras optimizer, please use `learning_rate` or use the legacy optimizer, e.g.,tf.keras.optimizers.legacy.Adam.\n"
     ]
    }
   ],
   "source": [
    "\n",
    "learning_rate = 5e-4\n",
    "epochs = 500\n",
    "\n",
    "g_optimizer = tf.keras.optimizers.Adam(lr = learning_rate)\n",
    "d_optimizer = tf.keras.optimizers.Adam(lr = learning_rate)\n",
    "\n",
    "generator = make_generator_model(X_train.shape[1], output_dim, X_train.shape[2])\n",
    "discriminator = make_discriminator_model(X_train.shape[1])"
   ]
  },
  {
   "cell_type": "code",
   "execution_count": 137,
   "metadata": {},
   "outputs": [
    {
     "name": "stdout",
     "output_type": "stream",
     "text": [
      "Requirement already satisfied: pydot in c:\\users\\danus\\miniconda3\\envs\\my_gpu\\lib\\site-packages (1.4.2)\n",
      "Requirement already satisfied: pyparsing>=2.1.4 in c:\\users\\danus\\miniconda3\\envs\\my_gpu\\lib\\site-packages (from pydot) (3.1.1)\n"
     ]
    },
    {
     "name": "stderr",
     "output_type": "stream",
     "text": [
      "WARNING: Ignoring invalid distribution -illow (c:\\users\\danus\\appdata\\roaming\\python\\python39\\site-packages)\n",
      "WARNING: Ignoring invalid distribution -illow (c:\\users\\danus\\appdata\\roaming\\python\\python39\\site-packages)\n",
      "WARNING: Ignoring invalid distribution -illow (c:\\users\\danus\\appdata\\roaming\\python\\python39\\site-packages)\n",
      "DEPRECATION: torchsde 0.2.5 has a non-standard dependency specifier numpy>=1.19.*; python_version >= \"3.7\". pip 23.3 will enforce this behaviour change. A possible replacement is to upgrade to a newer version of torchsde or contact the author to suggest that they release a version with a conforming dependency specifiers. Discussion can be found at https://github.com/pypa/pip/issues/12063\n",
      "WARNING: Ignoring invalid distribution -illow (c:\\users\\danus\\appdata\\roaming\\python\\python39\\site-packages)\n",
      "WARNING: Ignoring invalid distribution -illow (c:\\users\\danus\\appdata\\roaming\\python\\python39\\site-packages)\n",
      "WARNING: Ignoring invalid distribution -illow (c:\\users\\danus\\appdata\\roaming\\python\\python39\\site-packages)\n"
     ]
    }
   ],
   "source": [
    "!pip install pydot --user "
   ]
  },
  {
   "cell_type": "code",
   "execution_count": 138,
   "metadata": {},
   "outputs": [],
   "source": [
    "from tensorflow.keras.utils import plot_model"
   ]
  },
  {
   "cell_type": "code",
   "execution_count": 139,
   "metadata": {},
   "outputs": [
    {
     "name": "stdout",
     "output_type": "stream",
     "text": [
      "You must install pydot (`pip install pydot`) and install graphviz (see instructions at https://graphviz.gitlab.io/download/) for plot_model to work.\n"
     ]
    }
   ],
   "source": [
    "tf.keras.utils.plot_model(generator,to_file='generator_keras_model.png', show_shapes=True)"
   ]
  },
  {
   "cell_type": "code",
   "execution_count": 135,
   "metadata": {},
   "outputs": [
    {
     "name": "stdout",
     "output_type": "stream",
     "text": [
      "You must install pydot (`pip install pydot`) and install graphviz (see instructions at https://graphviz.gitlab.io/download/) for plot_model to work.\n"
     ]
    }
   ],
   "source": [
    "plot_model(generator, to_file='generator_keras_model.png', show_shapes=True)"
   ]
  },
  {
   "cell_type": "code",
   "execution_count": null,
   "metadata": {},
   "outputs": [],
   "source": [
    "tf.keras.utils.plot_model(discriminator, to_file='discriminator_keras_model.png', show_shapes=True)"
   ]
  },
  {
   "cell_type": "code",
   "execution_count": 140,
   "metadata": {},
   "outputs": [
    {
     "name": "stderr",
     "output_type": "stream",
     "text": [
      " 10%|▉         | 49/500 [00:46<04:12,  1.79it/s] "
     ]
    },
    {
     "name": "stdout",
     "output_type": "stream",
     "text": [
      "WARNING:tensorflow:Compiled the loaded model, but the compiled metrics have yet to be built. `model.compile_metrics` will be empty until you train or evaluate the model.\n"
     ]
    },
    {
     "name": "stderr",
     "output_type": "stream",
     "text": [
      "WARNING:tensorflow:Compiled the loaded model, but the compiled metrics have yet to be built. `model.compile_metrics` will be empty until you train or evaluate the model.\n"
     ]
    },
    {
     "name": "stdout",
     "output_type": "stream",
     "text": [
      "WARNING:tensorflow:Compiled the loaded model, but the compiled metrics have yet to be built. `model.compile_metrics` will be empty until you train or evaluate the model.\n"
     ]
    },
    {
     "name": "stderr",
     "output_type": "stream",
     "text": [
      "WARNING:tensorflow:Compiled the loaded model, but the compiled metrics have yet to be built. `model.compile_metrics` will be empty until you train or evaluate the model.\n"
     ]
    },
    {
     "name": "stdout",
     "output_type": "stream",
     "text": [
      "epoch 50 discriminator_loss "
     ]
    },
    {
     "name": "stderr",
     "output_type": "stream",
     "text": [
      " 10%|█         | 50/500 [00:47<04:36,  1.63it/s]"
     ]
    },
    {
     "name": "stdout",
     "output_type": "stream",
     "text": [
      "1.3863378 generator_loss 0.69855636\n"
     ]
    },
    {
     "name": "stderr",
     "output_type": "stream",
     "text": [
      " 20%|█▉        | 99/500 [01:22<05:12,  1.28it/s]"
     ]
    },
    {
     "name": "stdout",
     "output_type": "stream",
     "text": [
      "WARNING:tensorflow:Compiled the loaded model, but the compiled metrics have yet to be built. `model.compile_metrics` will be empty until you train or evaluate the model.\n"
     ]
    },
    {
     "name": "stderr",
     "output_type": "stream",
     "text": [
      "WARNING:tensorflow:Compiled the loaded model, but the compiled metrics have yet to be built. `model.compile_metrics` will be empty until you train or evaluate the model.\n"
     ]
    },
    {
     "name": "stdout",
     "output_type": "stream",
     "text": [
      "WARNING:tensorflow:Compiled the loaded model, but the compiled metrics have yet to be built. `model.compile_metrics` will be empty until you train or evaluate the model.\n"
     ]
    },
    {
     "name": "stderr",
     "output_type": "stream",
     "text": [
      "WARNING:tensorflow:Compiled the loaded model, but the compiled metrics have yet to be built. `model.compile_metrics` will be empty until you train or evaluate the model.\n",
      " 20%|██        | 100/500 [01:23<05:35,  1.19it/s]"
     ]
    },
    {
     "name": "stdout",
     "output_type": "stream",
     "text": [
      "epoch 100 discriminator_loss 1.3893127 generator_loss 0.67367965\n"
     ]
    },
    {
     "name": "stderr",
     "output_type": "stream",
     "text": [
      " 30%|██▉       | 149/500 [02:01<04:21,  1.34it/s]"
     ]
    },
    {
     "name": "stdout",
     "output_type": "stream",
     "text": [
      "WARNING:tensorflow:Compiled the loaded model, but the compiled metrics have yet to be built. `model.compile_metrics` will be empty until you train or evaluate the model.\n"
     ]
    },
    {
     "name": "stderr",
     "output_type": "stream",
     "text": [
      "WARNING:tensorflow:Compiled the loaded model, but the compiled metrics have yet to be built. `model.compile_metrics` will be empty until you train or evaluate the model.\n"
     ]
    },
    {
     "name": "stdout",
     "output_type": "stream",
     "text": [
      "WARNING:tensorflow:Compiled the loaded model, but the compiled metrics have yet to be built. `model.compile_metrics` will be empty until you train or evaluate the model.\n"
     ]
    },
    {
     "name": "stderr",
     "output_type": "stream",
     "text": [
      "WARNING:tensorflow:Compiled the loaded model, but the compiled metrics have yet to be built. `model.compile_metrics` will be empty until you train or evaluate the model.\n"
     ]
    },
    {
     "name": "stdout",
     "output_type": "stream",
     "text": [
      "epoch"
     ]
    },
    {
     "name": "stderr",
     "output_type": "stream",
     "text": [
      " 30%|███       | 150/500 [02:02<04:43,  1.24it/s]"
     ]
    },
    {
     "name": "stdout",
     "output_type": "stream",
     "text": [
      " 150 discriminator_loss 1.3684766 generator_loss 0.69402826\n"
     ]
    },
    {
     "name": "stderr",
     "output_type": "stream",
     "text": [
      " 40%|███▉      | 199/500 [02:47<05:34,  1.11s/it]"
     ]
    },
    {
     "name": "stdout",
     "output_type": "stream",
     "text": [
      "WARNING:tensorflow:Compiled the loaded model, but the compiled metrics have yet to be built. `model.compile_metrics` will be empty until you train or evaluate the model.\n"
     ]
    },
    {
     "name": "stderr",
     "output_type": "stream",
     "text": [
      "WARNING:tensorflow:Compiled the loaded model, but the compiled metrics have yet to be built. `model.compile_metrics` will be empty until you train or evaluate the model.\n"
     ]
    },
    {
     "name": "stdout",
     "output_type": "stream",
     "text": [
      "WARNING:tensorflow:Compiled the loaded model, but the compiled metrics have yet to be built. `model.compile_metrics` will be empty until you train or evaluate the model.\n"
     ]
    },
    {
     "name": "stderr",
     "output_type": "stream",
     "text": [
      "WARNING:tensorflow:Compiled the loaded model, but the compiled metrics have yet to be built. `model.compile_metrics` will be empty until you train or evaluate the model.\n",
      " 40%|████      | 200/500 [02:48<05:27,  1.09s/it]"
     ]
    },
    {
     "name": "stdout",
     "output_type": "stream",
     "text": [
      "epoch 200 discriminator_loss 1.3861219 generator_loss 0.7038654\n"
     ]
    },
    {
     "name": "stderr",
     "output_type": "stream",
     "text": [
      " 50%|████▉     | 249/500 [03:45<05:01,  1.20s/it]"
     ]
    },
    {
     "name": "stdout",
     "output_type": "stream",
     "text": [
      "WARNING:tensorflow:Compiled the loaded model, but the compiled metrics have yet to be built. `model.compile_metrics` will be empty until you train or evaluate the model.\n"
     ]
    },
    {
     "name": "stderr",
     "output_type": "stream",
     "text": [
      "WARNING:tensorflow:Compiled the loaded model, but the compiled metrics have yet to be built. `model.compile_metrics` will be empty until you train or evaluate the model.\n"
     ]
    },
    {
     "name": "stdout",
     "output_type": "stream",
     "text": [
      "WARNING:tensorflow:Compiled the loaded model, but the compiled metrics have yet to be built. `model.compile_metrics` will be empty until you train or evaluate the model.\n"
     ]
    },
    {
     "name": "stderr",
     "output_type": "stream",
     "text": [
      "WARNING:tensorflow:Compiled the loaded model, but the compiled metrics have yet to be built. `model.compile_metrics` will be empty until you train or evaluate the model.\n",
      " 50%|█████     | 250/500 [03:46<05:21,  1.29s/it]"
     ]
    },
    {
     "name": "stdout",
     "output_type": "stream",
     "text": [
      "epoch 250 discriminator_loss 1.3870623 generator_loss 0.6892828\n"
     ]
    },
    {
     "name": "stderr",
     "output_type": "stream",
     "text": [
      " 60%|█████▉    | 299/500 [04:43<03:33,  1.06s/it]"
     ]
    },
    {
     "name": "stdout",
     "output_type": "stream",
     "text": [
      "WARNING:tensorflow:Compiled the loaded model, but the compiled metrics have yet to be built. `model.compile_metrics` will be empty until you train or evaluate the model.\n"
     ]
    },
    {
     "name": "stderr",
     "output_type": "stream",
     "text": [
      "WARNING:tensorflow:Compiled the loaded model, but the compiled metrics have yet to be built. `model.compile_metrics` will be empty until you train or evaluate the model.\n"
     ]
    },
    {
     "name": "stdout",
     "output_type": "stream",
     "text": [
      "WARNING:tensorflow:Compiled the loaded model, but the compiled metrics have yet to be built. `model.compile_metrics` will be empty until you train or evaluate the model.\n"
     ]
    },
    {
     "name": "stderr",
     "output_type": "stream",
     "text": [
      "WARNING:tensorflow:Compiled the loaded model, but the compiled metrics have yet to be built. `model.compile_metrics` will be empty until you train or evaluate the model.\n",
      " 60%|██████    | 300/500 [04:44<03:36,  1.08s/it]"
     ]
    },
    {
     "name": "stdout",
     "output_type": "stream",
     "text": [
      "epoch 300 discriminator_loss 1.3888545 generator_loss 0.69801635\n"
     ]
    },
    {
     "name": "stderr",
     "output_type": "stream",
     "text": [
      " 70%|██████▉   | 349/500 [05:33<02:34,  1.02s/it]"
     ]
    },
    {
     "name": "stdout",
     "output_type": "stream",
     "text": [
      "WARNING:tensorflow:Compiled the loaded model, but the compiled metrics have yet to be built. `model.compile_metrics` will be empty until you train or evaluate the model.\n"
     ]
    },
    {
     "name": "stderr",
     "output_type": "stream",
     "text": [
      "WARNING:tensorflow:Compiled the loaded model, but the compiled metrics have yet to be built. `model.compile_metrics` will be empty until you train or evaluate the model.\n"
     ]
    },
    {
     "name": "stdout",
     "output_type": "stream",
     "text": [
      "WARNING:tensorflow:Compiled the loaded model, but the compiled metrics have yet to be built. `model.compile_metrics` will be empty until you train or evaluate the model.\n"
     ]
    },
    {
     "name": "stderr",
     "output_type": "stream",
     "text": [
      "WARNING:tensorflow:Compiled the loaded model, but the compiled metrics have yet to be built. `model.compile_metrics` will be empty until you train or evaluate the model.\n",
      " 70%|███████   | 350/500 [05:34<02:48,  1.13s/it]"
     ]
    },
    {
     "name": "stdout",
     "output_type": "stream",
     "text": [
      "epoch 350 discriminator_loss 1.3814394 generator_loss 0.7300138\n"
     ]
    },
    {
     "name": "stderr",
     "output_type": "stream",
     "text": [
      " 80%|███████▉  | 399/500 [06:25<01:46,  1.06s/it]"
     ]
    },
    {
     "name": "stdout",
     "output_type": "stream",
     "text": [
      "WARNING:tensorflow:Compiled the loaded model, but the compiled metrics have yet to be built. `model.compile_metrics` will be empty until you train or evaluate the model.\n"
     ]
    },
    {
     "name": "stderr",
     "output_type": "stream",
     "text": [
      "WARNING:tensorflow:Compiled the loaded model, but the compiled metrics have yet to be built. `model.compile_metrics` will be empty until you train or evaluate the model.\n"
     ]
    },
    {
     "name": "stdout",
     "output_type": "stream",
     "text": [
      "WARNING:tensorflow:Compiled the loaded model, but the compiled metrics have yet to be built. `model.compile_metrics` will be empty until you train or evaluate the model.\n"
     ]
    },
    {
     "name": "stderr",
     "output_type": "stream",
     "text": [
      "WARNING:tensorflow:Compiled the loaded model, but the compiled metrics have yet to be built. `model.compile_metrics` will be empty until you train or evaluate the model.\n",
      " 80%|████████  | 400/500 [06:26<01:48,  1.08s/it]"
     ]
    },
    {
     "name": "stdout",
     "output_type": "stream",
     "text": [
      "epoch 400 discriminator_loss 1.388246 generator_loss 0.6894249\n"
     ]
    },
    {
     "name": "stderr",
     "output_type": "stream",
     "text": [
      " 90%|████████▉ | 449/500 [07:07<00:33,  1.53it/s]"
     ]
    },
    {
     "name": "stdout",
     "output_type": "stream",
     "text": [
      "WARNING:tensorflow:Compiled the loaded model, but the compiled metrics have yet to be built. `model.compile_metrics` will be empty until you train or evaluate the model.\n"
     ]
    },
    {
     "name": "stderr",
     "output_type": "stream",
     "text": [
      "WARNING:tensorflow:Compiled the loaded model, but the compiled metrics have yet to be built. `model.compile_metrics` will be empty until you train or evaluate the model.\n"
     ]
    },
    {
     "name": "stdout",
     "output_type": "stream",
     "text": [
      "WARNING:tensorflow:Compiled the loaded model, but the compiled metrics have yet to be built. `model.compile_metrics` will be empty until you train or evaluate the model.\n"
     ]
    },
    {
     "name": "stderr",
     "output_type": "stream",
     "text": [
      "WARNING:tensorflow:Compiled the loaded model, but the compiled metrics have yet to be built. `model.compile_metrics` will be empty until you train or evaluate the model.\n",
      " 90%|█████████ | 450/500 [07:08<00:38,  1.30it/s]"
     ]
    },
    {
     "name": "stdout",
     "output_type": "stream",
     "text": [
      "epoch 450 discriminator_loss 1.3877178 generator_loss 0.6556776\n"
     ]
    },
    {
     "name": "stderr",
     "output_type": "stream",
     "text": [
      "100%|█████████▉| 499/500 [07:43<00:00,  1.46it/s]"
     ]
    },
    {
     "name": "stdout",
     "output_type": "stream",
     "text": [
      "WARNING:tensorflow:Compiled the loaded model, but the compiled metrics have yet to be built. `model.compile_metrics` will be empty until you train or evaluate the model.\n"
     ]
    },
    {
     "name": "stderr",
     "output_type": "stream",
     "text": [
      "WARNING:tensorflow:Compiled the loaded model, but the compiled metrics have yet to be built. `model.compile_metrics` will be empty until you train or evaluate the model.\n"
     ]
    },
    {
     "name": "stdout",
     "output_type": "stream",
     "text": [
      "WARNING:tensorflow:Compiled the loaded model, but the compiled metrics have yet to be built. `model.compile_metrics` will be empty until you train or evaluate the model.\n"
     ]
    },
    {
     "name": "stderr",
     "output_type": "stream",
     "text": [
      "WARNING:tensorflow:Compiled the loaded model, but the compiled metrics have yet to be built. `model.compile_metrics` will be empty until you train or evaluate the model.\n",
      "100%|██████████| 500/500 [07:44<00:00,  1.08it/s]"
     ]
    },
    {
     "name": "stdout",
     "output_type": "stream",
     "text": [
      "epoch 500 discriminator_loss 1.3867999 generator_loss 0.6925659\n"
     ]
    },
    {
     "name": "stderr",
     "output_type": "stream",
     "text": [
      "\n"
     ]
    },
    {
     "data": {
      "image/png": "[encoded data removed]",
      "text/plain": [
       "<Figure size 640x480 with 2 Axes>"
      ]
     },
     "metadata": {},
     "output_type": "display_data"
    }
   ],
   "source": [
    "#train and test model \n",
    "\n",
    "predicted_price, real_price, RMSPE = train(X_train, y_train, yc_train, epochs, generator, discriminator, g_optimizer, d_optimizer)"
   ]
  },
  {
   "cell_type": "code",
   "execution_count": 141,
   "metadata": {},
   "outputs": [
    {
     "name": "stdout",
     "output_type": "stream",
     "text": [
      "WARNING:tensorflow:No training configuration found in the save file, so the model was *not* compiled. Compile it manually.\n"
     ]
    },
    {
     "name": "stderr",
     "output_type": "stream",
     "text": [
      "WARNING:tensorflow:No training configuration found in the save file, so the model was *not* compiled. Compile it manually.\n"
     ]
    }
   ],
   "source": [
    "test_generator = tf.keras.models.load_model(f'./models_gan/{stock_name}/generator_V_{epochs-1}.h5')"
   ]
  },
  {
   "cell_type": "code",
   "execution_count": 142,
   "metadata": {},
   "outputs": [
    {
     "name": "stdout",
     "output_type": "stream",
     "text": [
      "Test RMSE:  0.8569711524568914\n"
     ]
    },
    {
     "data": {
      "image/png": "[encoded data removed]",
      "text/plain": [
       "<Figure size 1600x800 with 1 Axes>"
      ]
     },
     "metadata": {},
     "output_type": "display_data"
    }
   ],
   "source": [
    "#PREDICTTHE TEST DATA\n",
    "predicted_test_data = eval_op(test_generator, X_test)\n",
    "plot_test_data(y_test, predicted_test_data,index_test)"
   ]
  },
  {
   "cell_type": "code",
   "execution_count": null,
   "metadata": {},
   "outputs": [],
   "source": []
  }
 ],
 "metadata": {
  "kernelspec": {
   "display_name": "my_gpu",
   "language": "python",
   "name": "python3"
  },
  "language_info": {
   "codemirror_mode": {
    "name": "ipython",
    "version": 3
   },
   "file_extension": ".py",
   "mimetype": "text/x-python",
   "name": "python",
   "nbconvert_exporter": "python",
   "pygments_lexer": "ipython3",
   "version": "3.9.18"
  }
 },
 "nbformat": 4,
 "nbformat_minor": 2
}
